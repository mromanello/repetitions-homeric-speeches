{
 "cells": [
  {
   "cell_type": "markdown",
   "metadata": {},
   "source": [
    "# Evaluation of `passim` results\n",
    "\n",
    "- read clusters from groundtruth CSV file (Google spreadsheet export)\n",
    "- read clusters from passim predictions (JSON lines file)\n",
    "- try to match GT clusters with predicted clusters\n",
    "    - criterion: 2 or more passage overlapping (identity established based on `speech_id`, `passage` or text overlap)\n",
    "    - a certain number of GT clusters will have no match (print or log)\n",
    "    - => returns a list of matches that will be used for evaluation\n",
    "- metrics\n",
    "    - global\n",
    "        - number of 100% correct clusters\n",
    "        - number of missed clusters\n",
    "        - number of partly correct clusters \n",
    "    - more fine-grained: precision/recall/f-score\n",
    "\n",
    "\n",
    "- objects needed:\n",
    "    - `TextReuseCluster`, `TextReusePassage`, `Locus`, `TextReuseEvaluator`\n",
    "\n",
    "`TextReuseEvaluator`:\n",
    "- `_match_clusters()`\n",
    "- `read_predictions()`\n",
    "- `read_groundtruth()`\n",
    "- `evaluate()`\n",
    "- `error_report()` or `evaluation_report`\n",
    "- `to_csv()`\n",
    "\n",
    "`TextReuseCluster`\n",
    "- `size`\n",
    "- `passages`"
   ]
  },
  {
   "cell_type": "markdown",
   "metadata": {},
   "source": [
    "## Testing the evaluation"
   ]
  },
  {
   "cell_type": "code",
   "execution_count": 1,
   "metadata": {},
   "outputs": [],
   "source": [
    "import sys\n",
    "sys.path.append('.')\n",
    "from lib.utils import read_jsonl\n",
    "from lib.evaluation import TextReuseEvaluator, TextReuseCluster, TextReusePassage"
   ]
  },
  {
   "cell_type": "code",
   "execution_count": 2,
   "metadata": {},
   "outputs": [],
   "source": [
    "GT_DATASET_PATH = 'data/homeric_repetitions_dataset.tsv'\n",
    "PASSIM_OUTPUT_DIR = 'data/passim/exp7/out.json/'\n",
    "\n",
    "evaluator = TextReuseEvaluator()"
   ]
  },
  {
   "cell_type": "code",
   "execution_count": 3,
   "metadata": {},
   "outputs": [],
   "source": [
    "evaluator.read_predictions(PASSIM_OUTPUT_DIR)\n",
    "evaluator.read_groundtruth(GT_DATASET_PATH)"
   ]
  },
  {
   "cell_type": "code",
   "execution_count": 4,
   "metadata": {},
   "outputs": [
    {
     "data": {
      "text/plain": [
       "215"
      ]
     },
     "execution_count": 4,
     "metadata": {},
     "output_type": "execute_result"
    }
   ],
   "source": [
    "len(evaluator.predicted_clusters)"
   ]
  },
  {
   "cell_type": "code",
   "execution_count": 5,
   "metadata": {},
   "outputs": [
    {
     "data": {
      "text/plain": [
       "69"
      ]
     },
     "execution_count": 5,
     "metadata": {},
     "output_type": "execute_result"
    }
   ],
   "source": [
    "len(evaluator.gt_clusters)"
   ]
  },
  {
   "cell_type": "code",
   "execution_count": 6,
   "metadata": {},
   "outputs": [
    {
     "data": {
      "text/plain": [
       "\"<TextReuseCluster id=49, size=2, passages='Homer, Odyssey 11.378-12.453; Homer, Odyssey 12.116-12.141'>\""
      ]
     },
     "execution_count": 6,
     "metadata": {},
     "output_type": "execute_result"
    }
   ],
   "source": [
    "evaluator.predicted_clusters[49]"
   ]
  },
  {
   "cell_type": "code",
   "execution_count": 7,
   "metadata": {},
   "outputs": [
    {
     "data": {
      "text/plain": [
       "[535, 546]"
      ]
     },
     "execution_count": 7,
     "metadata": {},
     "output_type": "execute_result"
    }
   ],
   "source": [
    "evaluator.gt_clusters[69].dices_speech_ids"
   ]
  },
  {
   "cell_type": "code",
   "execution_count": 8,
   "metadata": {},
   "outputs": [
    {
     "data": {
      "text/plain": [
       "69"
      ]
     },
     "execution_count": 8,
     "metadata": {},
     "output_type": "execute_result"
    }
   ],
   "source": [
    "len(evaluator.gt_clusters)"
   ]
  },
  {
   "cell_type": "code",
   "execution_count": 9,
   "metadata": {},
   "outputs": [
    {
     "data": {
      "text/plain": [
       "[773, 781, 811]"
      ]
     },
     "execution_count": 9,
     "metadata": {},
     "output_type": "execute_result"
    }
   ],
   "source": [
    "evaluator.predicted_clusters[8].dices_speech_ids"
   ]
  },
  {
   "cell_type": "code",
   "execution_count": 6,
   "metadata": {},
   "outputs": [
    {
     "name": "stdout",
     "output_type": "stream",
     "text": [
      "\"<TextReuseCluster id=1, size=3, passages='Hom. Il. 2.11-2.15; Hom. Il. 2.28-2.32; Hom. Il. 2.66-2.69'>\"\n",
      "\"<TextReuseCluster id=2, size=2, passages='Hom. Il. 2.23-33; Hom. Il. 2.60-70'>\"\n",
      "\"<TextReuseCluster id=3, size=2, passages='Hom. Il. 2.158-165; Hom. Il. 2.174-181'>\"\n",
      "\"<TextReuseCluster id=4, size=4, passages='Hom. Il. 3.68-73; Hom. Il. 3.88-94; Hom. Il. 3.253-258; Hom. Il. 3.276-291'>\"\n",
      "\"<TextReuseCluster id=5, size=2, passages='Hom. Il. 3.74-75; Hom. Il. 3.259-260'>\"\n",
      "\"<TextReuseCluster id=6, size=2, passages='Hom. Il. 4.66-67; Hom. Il. 4.71-72'>\"\n",
      "\"<TextReuseCluster id=7, size=2, passages='Hom. Il. 4.195-197; Hom. Il. 4. 205-207'>\"\n",
      "\"<TextReuseCluster id=8, size=2, passages='Hom. Il. 6.90-97; Hom. Il. 6.271-278'>\"\n",
      "\"<TextReuseCluster id=9, size=3, passages='Hom. Il. 6.93-95; Hom. Il. 6.274-276; Hom. Il. 6.308-310'>\"\n",
      "\"<TextReuseCluster id=10, size=2, passages='Hom. Il. 7.40; Hom. Il. 7.51'>\"\n",
      "\"<TextReuseCluster id=11, size=2, passages='Hom. Il. 7.362-364; Hom. Il. 7.389-393'>\"\n",
      "\"<TextReuseCluster id=12, size=2, passages='Hom. Il. 7.374-378; Hom. Il. 7.388-397'>\"\n",
      "\"<TextReuseCluster id=13, size=2, passages='Hom. Il. 8.402-408; Hom. Il. 8.416-422'>\"\n",
      "\"<TextReuseCluster id=14, size=2, passages='Hom. Il. 9.122-157; Hom. Il. 9.264-299'>\"\n",
      "\"<TextReuseCluster id=72, size=3, passages='Hom. Il. 9.132-135; Hom. Il. 9.274-276; Hom. Il. 19.175-177'>\"\n",
      "\"<TextReuseCluster id=15, size=2, passages='Hom. Il. 9.417-420; Hom. Il. 9.684-687'>\"\n",
      "\"<TextReuseCluster id=16, size=2, passages='Hom. Il. 10.208-210; Hom. Il. 10.409-411'>\"\n",
      "\"<TextReuseCluster id=17, size=2, passages='Hom. Il.10.308-312; Hom. Il.10.409-411'>\"\n",
      "\"<TextReuseCluster id=18, size=2, passages='Hom. Il.11.187-194; Hom. Il. 11.202-209'>\"\n",
      "\"<TextReuseCluster id=19, size=2, passages='Hom. Il.11.658-662; Hom. Il.16.23-27'>\"\n",
      "\"<TextReuseCluster id=20, size=2, passages='Hom. Il. 11.794-803; Hom. Il. 16.36-45'>\"\n",
      "\"<TextReuseCluster id=21, size=2, passages='Hom. Il. 12.344-350; Hom. Il. 12.357-363'>\"\n",
      "\"<TextReuseCluster id=22, size=2, passages='Hom. Il. 15.160-167; Hom. Il. 15.176-183'>\"\n",
      "\"<TextReuseCluster id=23, size=2, passages='Hom. Il. 16.454-457; Hom. Il. 16.671-675'>\"\n",
      "\"<TextReuseCluster id=24, size=2, passages='Hom. Il. 17.642; Hom. Il. 17.655'>\"\n",
      "\"<TextReuseCluster id=25, size=2, passages='Hom. Il. 17.685-693; Hom. Il. 18.18-21'>\"\n",
      "\"<TextReuseCluster id=26, size=2, passages='Hom. Il. 24.113-116; Hom. Il. 24.134-137'>\"\n",
      "\"<TextReuseCluster id=27, size=2, passages='Hom. Il. 24.146-158; Hom. Il. 24.175-187'>\"\n",
      "\"<TextReuseCluster id=28, size=4, passages='Hom. Il. 24.118-119; Hom. Il. 24.146-147; Hom. Il. 24.175-176; Hom. Il. 24.195-196'>\"\n",
      "\"<TextReuseCluster id=29, size=2, passages='Hom. Il. 24.292-295; Hom. Il. 24.310-313'>\"\n",
      "\"<TextReuseCluster id=30, size=2, passages='Hom. Il. 1.37-38; Hom. Il. 1.451-452'>\"\n",
      "\"<TextReuseCluster id=31, size=2, passages='Hom. Il. 1.411-412; Hom. Il. 16.273-274'>\"\n",
      "\"<TextReuseCluster id=32, size=2, passages='Hom. Il. 1.453-455; Hom. Il.16.236-238'>\"\n",
      "\"<TextReuseCluster id=33, size=2, passages='Hom. Il. 2.110-118; Hom. Il. 9.17-25'>\"\n",
      "\"<TextReuseCluster id=34, size=2, passages='Hom. Il. 2.139-141; Hom. Il. 9.26-28'>\"\n",
      "\"<TextReuseCluster id=35, size=2, passages='Hom. Il. 2.371-374; Hom. Il. 4.288-291'>\"\n",
      "\"<TextReuseCluster id=36, size=2, passages='Hom. Il. 3.285-287; Hom. Il. 3.458-460'>\"\n",
      "\"<TextReuseCluster id=37, size=2, passages='Hom. Il. 4.15-16; Hom. Il.4.82-84'>\"\n",
      "\"<TextReuseCluster id=38, size=2, passages='Hom. Il. 4.60-61; Hom. Il. 18.365-366'>\"\n",
      "\"<TextReuseCluster id=39, size=2, passages='Hom. Il. 4.163-165; Hom. Il. 6.447-449'>\"\n",
      "\"<TextReuseCluster id=40, size=2, passages='Hom. Il. 5.130-132; Hom. Il. 5.819-821'>\"\n",
      "\"<TextReuseCluster id=41, size=1, passages='Hom. Il. 5.175-176'>\"\n",
      "\"<TextReuseCluster id=42, size=1, passages='Hom. Il. 16.424-425'>\"\n",
      "\"<TextReuseCluster id=43, size=2, passages='Hom. Il. 5.221-223; Hom. Il. 8.105-107'>\"\n",
      "\"<TextReuseCluster id=44, size=2, passages='Hom. Il. 5.373-374; Hom. Il. 21.509-510'>\"\n",
      "\"<TextReuseCluster id=45, size=2, passages='Hom. Il. 5.458-459; Hom. Il. 5.883-884'>\"\n",
      "\"<TextReuseCluster id=46, size=2, passages='Hom. Il. 5.529-532; Hom. Il. 15.561-564'>\"\n",
      "\"<TextReuseCluster id=50, size=2, passages='Hom. Il. 5.652-654; Hom. Il. 11.443-445'>\"\n",
      "\"<TextReuseCluster id=51, size=3, passages='Hom. Il. 6.46-50; Hom. Il. 11.131-135; Hom. Il. 10.378-381'>\"\n",
      "\"<TextReuseCluster id=52, size=2, passages='Hom. Il. 6.378-380; Hom. Il. 6.383-385'>\"\n",
      "\"<TextReuseCluster id=53, size=2, passages='Hom. Il. 7.79-80; Hom. Il. 22.342-343'>\"\n",
      "\"<TextReuseCluster id=54, size=2, passages='Hom. Il. 8.32-37; Hom. Il. 8.463-468'>\"\n",
      "\"<TextReuseCluster id=55, size=2, passages='Hom. Il. 8.39-40; Hom. Il. 22.183-184'>\"\n",
      "\"<TextReuseCluster id=56, size=4, passages='Hom. Il. 8.173-174; Hom. Il. 11.286-287; Hom. Il. 15.486-487; Hom. Il. 17.184-185'>\"\n",
      "\"<TextReuseCluster id=57, size=2, passages='Hom. Il.10.402-404; Hom. Il. 17.76-78'>\"\n",
      "\"<TextReuseCluster id=58, size=2, passages='Hom. Il. 11.362-367; Hom. Il. 19.449-454'>\"\n",
      "\"<TextReuseCluster id=59, size=2, passages='Hom. Il. 11.792-793; Hom. Il. 15.403-404'>\"\n",
      "\"<TextReuseCluster id=60, size=2, passages='Hom. Il. 11.612; Hom. Il. 11.650'>\"\n",
      "\"<TextReuseCluster id=61, size=3, passages='Hom. Il. 11.800-801; Hom. Il. 16.42-43; Hom. Il. 18.200-201'>\"\n",
      "\"<TextReuseCluster id=62, size=2, passages='Hom. Il. 14.195-196; Hom. Il. 18.426-427'>\"\n",
      "\"<TextReuseCluster id=63, size=2, passages='Hom. Il. 14.200-207; Hom. Il. 14.301-306'>\"\n",
      "\"<TextReuseCluster id=64, size=2, passages='Hom. Il. 16.441-443; Hom. Il. 22.179-181'>\"\n",
      "\"<TextReuseCluster id=65, size=2, passages='Hom. Il. 17.30-32; Hom. Il. 20.196-198'>\"\n",
      "\"<TextReuseCluster id=66, size=2, passages='Hom. Il. 18.56-62; Hom. Il. 18.437-443'>\"\n",
      "\"<TextReuseCluster id=67, size=2, passages='Hom. Il. 18.112-113; Hom. Il. 19.65.66'>\"\n",
      "\"<TextReuseCluster id=68, size=2, passages='Hom. Il. 18.385-386; Hom. Il. 18.424-425'>\"\n",
      "\"<TextReuseCluster id=69, size=2, passages='Hom. Il. 20.200-202; Hom. Il. 20.431-433'>\"\n",
      "\"<TextReuseCluster id=70, size=2, passages='Hom. Il. 20.315-317; Hom. Il. 21.374-376'>\"\n",
      "\"<TextReuseCluster id=71, size=2, passages='Hom. Il. 24.203-205; Hom. Il. 24.519-521'>\"\n"
     ]
    }
   ],
   "source": [
    "for c in evaluator.gt_clusters:\n",
    "    print(c)"
   ]
  },
  {
   "cell_type": "code",
   "execution_count": 6,
   "metadata": {},
   "outputs": [
    {
     "name": "stdout",
     "output_type": "stream",
     "text": [
      "\"<TextReuseCluster id=23, size=6, passages='Homer, Odyssey 19.124-19.163, Homer, Odyssey 19.141-19.147, Homer, Odyssey 24.121-24.190, Homer, Odyssey 24.131-24.137, Homer, Odyssey 2.96-2.102, Homer, Odyssey 2.85-2.128'>\"\n",
      "\"<TextReuseCluster id=10, size=5, passages='Homer, Odyssey 17.108-17.149, Homer, Odyssey 17.124-17.146, Homer, Odyssey 4.333-4.592, Homer, Odyssey 4.555-4.569, Homer, Odyssey 5.7-5.20'>\"\n",
      "\"<TextReuseCluster id=72, size=4, passages='Homer, Iliad 2.23-2.34, Homer, Iliad 2.60-2.70, Homer, Iliad 2.8-2.15, Homer, Iliad 2.56-2.75'>\"\n",
      "\"<TextReuseCluster id=130, size=4, passages='Homer, Odyssey 4.333-4.592, Homer, Odyssey 4.333-4.592, Homer, Odyssey 4.376-4.381, Homer, Odyssey 4.465-4.470'>\"\n",
      "\"<TextReuseCluster id=213, size=4, passages='Homer, Odyssey 19.4-19.13, Homer, Odyssey 19.7-19.13, Homer, Odyssey 16.267-16.307, Homer, Odyssey 16.288-16.294'>\"\n",
      "\"<TextReuseCluster id=1, size=3, passages='Homer, Odyssey 1.158-1.177, Homer, Odyssey 14.166-14.190, Homer, Odyssey 16.222-16.224'>\"\n",
      "\"<TextReuseCluster id=4, size=3, passages='Homer, Odyssey 3.69-3.74, Homer, Odyssey 9.2-11.332, Homer, Odyssey 9.252-9.255'>\"\n",
      "\"<TextReuseCluster id=6, size=3, passages='Homer, Odyssey 11.378-12.453, Homer, Odyssey 4.333-4.592, Homer, Odyssey 4.485-4.490'>\"\n",
      "\"<TextReuseCluster id=8, size=3, passages='Homer, Iliad 3.59-3.75, Homer, Iliad 3.86-3.94, Homer, Iliad 3.250-3.258'>\"\n",
      "\"<TextReuseCluster id=9, size=3, passages='Homer, Odyssey 17.108-17.149, Homer, Odyssey 17.124-17.146, Homer, Odyssey 4.333-4.592'>\"\n",
      "\"<TextReuseCluster id=13, size=3, passages='Homer, Iliad 3.456-3.460, Homer, Iliad 7.348-7.353, Homer, Iliad 7.368-7.378'>\"\n",
      "\"<TextReuseCluster id=18, size=3, passages='Homer, Iliad 6.46-6.50, Homer, Iliad 10.378-10.381, Homer, Iliad 11.131-11.135'>\"\n",
      "\"<TextReuseCluster id=26, size=3, passages='Homer, Odyssey 19.309-19.334, Homer, Odyssey 15.536-15.538, Homer, Odyssey 17.163-17.165'>\"\n",
      "\"<TextReuseCluster id=27, size=3, passages='Homer, Odyssey 19.124-19.163, Homer, Odyssey 24.121-24.190, Homer, Odyssey 2.85-2.128'>\"\n",
      "\"<TextReuseCluster id=51, size=3, passages='Homer, Odyssey 11.100-11.137, Homer, Odyssey 11.378-12.453, Homer, Odyssey 12.116-12.141'>\"\n",
      "\"<TextReuseCluster id=58, size=3, passages='Homer, Odyssey 19.124-19.163, Homer, Odyssey 1.231-1.251, Homer, Odyssey 16.113-16.134'>\"\n",
      "\"<TextReuseCluster id=71, size=3, passages='Homer, Iliad 2.23-2.34, Homer, Iliad 2.60-2.70, Homer, Iliad 2.56-2.75'>\"\n",
      "\"<TextReuseCluster id=85, size=3, passages='Homer, Odyssey 4.333-4.592, Homer, Odyssey 4.383-4.393, Homer, Odyssey 4.399-4.426'>\"\n",
      "\"<TextReuseCluster id=90, size=3, passages='Homer, Odyssey 23.264-23.284, Homer, Odyssey 11.100-11.137, Homer, Odyssey 9.2-11.332'>\"\n",
      "\"<TextReuseCluster id=109, size=3, passages='Homer, Odyssey 17.468-17.476, Homer, Odyssey 18.351-18.355, Homer, Odyssey 21.275-21.284'>\"\n",
      "\"<TextReuseCluster id=111, size=3, passages='Homer, Odyssey 10.504-10.540, Homer, Odyssey 4.383-4.393, Homer, Odyssey 9.2-11.332'>\"\n",
      "\"<TextReuseCluster id=215, size=3, passages='Homer, Iliad 16.440-16.457, Homer, Iliad 22.178-22.181, Homer, Iliad 4.25-4.29'>\"\n",
      "\"<TextReuseCluster id=231, size=3, passages='Homer, Odyssey 21.344-21.353, Homer, Odyssey 1.346-1.359, Homer, Iliad 6.486-6.493'>\"\n",
      "\"<TextReuseCluster id=260, size=3, passages='Homer, Odyssey 24.106-24.119, Homer, Odyssey 11.378-12.453, Homer, Odyssey 11.397-11.403'>\"\n",
      "\"<TextReuseCluster id=402, size=3, passages='Homer, Iliad 9.225-9.306, Homer, Iliad 9.254-9.258, Homer, Iliad 11.656-11.803'>\"\n"
     ]
    }
   ],
   "source": [
    "for cluster in evaluator.predicted_clusters:\n",
    "    if cluster.size > 2:\n",
    "        print(cluster)"
   ]
  },
  {
   "cell_type": "code",
   "execution_count": 15,
   "metadata": {},
   "outputs": [],
   "source": [
    "from typing import List, Optional\n",
    "\n",
    "def filter_by_speech_id(clusters : List[TextReuseCluster], speech_ids : List[str]) -> Optional[List[TextReuseCluster]]:\n",
    "    result = []\n",
    "    for cluster in clusters.values():\n",
    "        speech_id_overlap = set(cluster.dices_speech_ids).intersection(set(speech_ids))\n",
    "        if len(speech_id_overlap) > 2:\n",
    "            print(speech_id_overlap)"
   ]
  },
  {
   "cell_type": "markdown",
   "metadata": {},
   "source": [
    "## Filtering behaviour"
   ]
  },
  {
   "cell_type": "code",
   "execution_count": 36,
   "metadata": {},
   "outputs": [
    {
     "data": {
      "text/plain": [
       "['Hom. Il. 2.11-2.15', 'Hom. Il. 2.28-2.32', 'Hom. Il. 2.66-2.69']"
      ]
     },
     "execution_count": 36,
     "metadata": {},
     "output_type": "execute_result"
    }
   ],
   "source": [
    "evaluator.gt_clusters[1].labels\n",
    "#evaluator.gt_clusters[1].dices_speech_ids"
   ]
  },
  {
   "cell_type": "code",
   "execution_count": 35,
   "metadata": {},
   "outputs": [
    {
     "data": {
      "text/plain": [
       "['Homer, Iliad 2.23-2.34',\n",
       " 'Homer, Iliad 2.60-2.70',\n",
       " 'Homer, Iliad 2.8-2.15',\n",
       " 'Homer, Iliad 2.56-2.75']"
      ]
     },
     "execution_count": 35,
     "metadata": {},
     "output_type": "execute_result"
    }
   ],
   "source": [
    "evaluator.predicted_clusters[72].labels\n",
    "#evaluator.predicted_clusters[72].dices_speech_ids"
   ]
  },
  {
   "cell_type": "code",
   "execution_count": 20,
   "metadata": {},
   "outputs": [],
   "source": [
    "for gt_cluster in evaluator.gt_clusters.values():\n",
    "    filter_by_speech_id(evaluator.predicted_clusters, gt_cluster.dices_speech_ids)"
   ]
  },
  {
   "cell_type": "code",
   "execution_count": 16,
   "metadata": {},
   "outputs": [],
   "source": [
    "filter_by_speech_id(evaluator.predicted_clusters, evaluator.gt_clusters[69].dices_speech_ids)"
   ]
  },
  {
   "cell_type": "code",
   "execution_count": 24,
   "metadata": {},
   "outputs": [],
   "source": [
    "locus = \"Hom. Il. 14.195-196\""
   ]
  },
  {
   "cell_type": "code",
   "execution_count": 27,
   "metadata": {},
   "outputs": [],
   "source": [
    "begin, end = locus.replace('Hom. Il.', '').strip().split('-')"
   ]
  },
  {
   "cell_type": "code",
   "execution_count": 28,
   "metadata": {},
   "outputs": [
    {
     "data": {
      "text/plain": [
       "'14.195'"
      ]
     },
     "execution_count": 28,
     "metadata": {},
     "output_type": "execute_result"
    }
   ],
   "source": [
    "begin"
   ]
  },
  {
   "cell_type": "code",
   "execution_count": 29,
   "metadata": {},
   "outputs": [
    {
     "data": {
      "text/plain": [
       "'196'"
      ]
     },
     "execution_count": 29,
     "metadata": {},
     "output_type": "execute_result"
    }
   ],
   "source": [
    "end"
   ]
  }
 ],
 "metadata": {
  "kernelspec": {
   "display_name": "dices-repetitions",
   "language": "python",
   "name": "python3"
  },
  "language_info": {
   "codemirror_mode": {
    "name": "ipython",
    "version": 3
   },
   "file_extension": ".py",
   "mimetype": "text/x-python",
   "name": "python",
   "nbconvert_exporter": "python",
   "pygments_lexer": "ipython3",
   "version": "3.10.0"
  }
 },
 "nbformat": 4,
 "nbformat_minor": 2
}
