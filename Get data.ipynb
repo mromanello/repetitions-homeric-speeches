{
 "cells": [
  {
   "attachments": {},
   "cell_type": "markdown",
   "metadata": {},
   "source": [
    "# Repetitions in Homeric speeches: get data\n",
    "\n",
    "The DICES search interface is found at: http://dices.ub.uni-rostock.de/app/speeches/search/ \n",
    "\n",
    "## TODO\n",
    "\n",
    "- ✅ get all speeches for Od. and Il. from Dices API\n",
    "- ✅ filter speeches for relevant tags (giuramenti, istruzioni, preghiere)\n",
    "- ✅ create an initial dataframe with relevant data\n",
    "- ✅ add text fetched from Perseus via CTS URN\n",
    "- ✅ add lemmatised version of text via CLTK\n",
    "- ✅ save data to JSON lines format suitable for processing with passim"
   ]
  },
  {
   "attachments": {},
   "cell_type": "markdown",
   "metadata": {},
   "source": [
    "## Dices tags\n",
    "\n",
    "| Dices tag      | Expansion |\n",
    "| ----------- | ----------- |\n",
    "| cha         | Challenge |\n",
    "| com | Command |\n",
    "| con | Consolation|\n",
    "| del | Deliberation|\n",
    "| des | Desire and Wish|\n",
    "| exh | Exhortation and Self-Exhortation|\n",
    "| far | Farewell|\n",
    "| gre | Greeting and Reception|\n",
    "| inf | Information and Description|\n",
    "| ins | Instruction|\n",
    "| inv | Invitation |\n",
    "| lam | Lament |\n",
    "| lau | Praise and Laudation |\n",
    "| mes | Message|\n",
    "| nar | Narration|\n",
    "| ora | Prophecy, Oracular Speech, and Interpretation|\n",
    "| per | Persuasion|\n",
    "| pra | Prayer|\n",
    "| que | Question|\n",
    "| req | Request|\n",
    "| res | Reply to Question|\n",
    "| tau | Taunt|\n",
    "| thr | Threat|\n",
    "| und | Undefined|\n",
    "| vit | Vituperation|\n",
    "| vow | Promise and Oath|\n",
    "| war | Warning|"
   ]
  },
  {
   "attachments": {},
   "cell_type": "markdown",
   "metadata": {},
   "source": [
    "## Retrieving all Homeric speeches from Dices"
   ]
  },
  {
   "cell_type": "code",
   "execution_count": 4,
   "metadata": {},
   "outputs": [],
   "source": [
    "from dicesapi import DicesAPI\n",
    "import pandas as pd\n",
    "\n",
    "# create a connection to DICES\n",
    "api = DicesAPI(\n",
    "    dices_api='http://dices.ub.uni-rostock.de/api/',\n",
    "    logfile='data/log/dices.log'\n",
    ")"
   ]
  },
  {
   "cell_type": "code",
   "execution_count": 3,
   "metadata": {},
   "outputs": [
    {
     "name": "stdout",
     "output_type": "stream",
     "text": [
      "\u001b[0;31mInit signature:\u001b[0m\n",
      "\u001b[0mDicesAPI\u001b[0m\u001b[0;34m(\u001b[0m\u001b[0;34m\u001b[0m\n",
      "\u001b[0;34m\u001b[0m    \u001b[0mdices_api\u001b[0m\u001b[0;34m=\u001b[0m\u001b[0;34m'http://csa20211203-005.uni-rostock.de/api/'\u001b[0m\u001b[0;34m,\u001b[0m\u001b[0;34m\u001b[0m\n",
      "\u001b[0;34m\u001b[0m    \u001b[0mcts_api\u001b[0m\u001b[0;34m=\u001b[0m\u001b[0;34m'https://scaife-cts.perseus.org/api/cts'\u001b[0m\u001b[0;34m,\u001b[0m\u001b[0;34m\u001b[0m\n",
      "\u001b[0;34m\u001b[0m    \u001b[0mlogfile\u001b[0m\u001b[0;34m=\u001b[0m\u001b[0;32mNone\u001b[0m\u001b[0;34m,\u001b[0m\u001b[0;34m\u001b[0m\n",
      "\u001b[0;34m\u001b[0m    \u001b[0mlogdetail\u001b[0m\u001b[0;34m=\u001b[0m\u001b[0;36m2\u001b[0m\u001b[0;34m,\u001b[0m\u001b[0;34m\u001b[0m\n",
      "\u001b[0;34m\u001b[0m    \u001b[0mprogress_class\u001b[0m\u001b[0;34m=\u001b[0m\u001b[0;32mNone\u001b[0m\u001b[0;34m,\u001b[0m\u001b[0;34m\u001b[0m\n",
      "\u001b[0;34m\u001b[0m\u001b[0;34m)\u001b[0m\u001b[0;34m\u001b[0m\u001b[0;34m\u001b[0m\u001b[0m\n",
      "\u001b[0;31mDocstring:\u001b[0m      a connection to the DICES API\n",
      "\u001b[0;31mInit docstring:\u001b[0m\n",
      "The __init__ function is called when a class is instantiated. \n",
      "It initializes the attributes of the class, and it can take arguments that get passed to it by its parent class. \n",
      "In this case, we are using the __init__ function to initialize some attributes in our Dices object.\n",
      "\n",
      "    self: Refer to the object instance (e\n",
      "    dices_api=DEFAULT_API: Set the default value of the dices api\n",
      "    cts_api=DEFAULT_CTS: Set the default cts api to use\n",
      "    logfile=None: Specify a logfile\n",
      "    logdetail=LOG_MEDDETAIL: Set the detail level of the log\n",
      "    progress_class=None: Pass a custom progress class to the dices object\n",
      ":return: Nothing\n",
      ":doc-author: Trelent\n",
      "\u001b[0;31mFile:\u001b[0m           ~/.pyenv/versions/3.10.0/envs/homeric-repetitions/lib/python3.10/site-packages/dicesapi/__init__.py\n",
      "\u001b[0;31mType:\u001b[0m           type\n",
      "\u001b[0;31mSubclasses:\u001b[0m     "
     ]
    }
   ],
   "source": [
    "DicesAPI?"
   ]
  },
  {
   "cell_type": "code",
   "execution_count": 5,
   "metadata": {},
   "outputs": [
    {
     "name": "stdout",
     "output_type": "stream",
     "text": [
      "Got 673 speeches\n"
     ]
    }
   ],
   "source": [
    "od_speeches = api.getSpeeches(work_title='Odyssey', progress=True)\n",
    "print('Got', len(od_speeches), 'speeches')"
   ]
  },
  {
   "cell_type": "code",
   "execution_count": 6,
   "metadata": {},
   "outputs": [
    {
     "name": "stdout",
     "output_type": "stream",
     "text": [
      "Got 698 speeches\n"
     ]
    }
   ],
   "source": [
    "il_speeches = api.getSpeeches(work_title='Iliad', progress=True)\n",
    "print('Got', len(il_speeches), 'speeches')"
   ]
  },
  {
   "cell_type": "code",
   "execution_count": 7,
   "metadata": {},
   "outputs": [],
   "source": [
    "speeches = il_speeches + od_speeches"
   ]
  },
  {
   "cell_type": "code",
   "execution_count": 8,
   "metadata": {},
   "outputs": [
    {
     "data": {
      "text/plain": [
       "1371"
      ]
     },
     "execution_count": 8,
     "metadata": {},
     "output_type": "execute_result"
    }
   ],
   "source": [
    "len(speeches)"
   ]
  },
  {
   "cell_type": "code",
   "execution_count": 35,
   "metadata": {},
   "outputs": [
    {
     "data": {
      "text/plain": [
       "<SpeechCluster 2019: Odyssey 3.69 ff.>"
      ]
     },
     "execution_count": 35,
     "metadata": {},
     "output_type": "execute_result"
    }
   ],
   "source": [
    "speeches[0]._attributes['tags']\n",
    "speeches[0].author\n",
    "speeches[0].work\n",
    "speeches[0].cluster"
   ]
  },
  {
   "attachments": {},
   "cell_type": "markdown",
   "metadata": {},
   "source": [
    "## Filter speeches"
   ]
  },
  {
   "attachments": {},
   "cell_type": "markdown",
   "metadata": {},
   "source": [
    "The `tag` information is contained in the `dicesapi.Speech` class, yet a bid hidden. "
   ]
  },
  {
   "cell_type": "code",
   "execution_count": 124,
   "metadata": {},
   "outputs": [],
   "source": [
    "def filter_speeches_by_tag(speeches_list, tags_to_keep):\n",
    "    filtered_speeches = []\n",
    "    for speech in speeches_list:\n",
    "        matching_tags = list(set([t['type'] for t in speech._attributes['tags']]) & set(tags_to_keep))\n",
    "        if len(matching_tags) > 0:\n",
    "            filtered_speeches.append(speech)\n",
    "    return filtered_speeches"
   ]
  },
  {
   "cell_type": "code",
   "execution_count": 125,
   "metadata": {},
   "outputs": [],
   "source": [
    "# ⚠️ check with Ombretta which tags exactly correspond to \"discorso di istruzione, discorso di recapito\"\n",
    "speeches_subset = filter_speeches_by_tag(speeches, ['vow', 'ins', 'pra', 'mes', 'nar'])"
   ]
  },
  {
   "cell_type": "code",
   "execution_count": 126,
   "metadata": {},
   "outputs": [
    {
     "data": {
      "text/plain": [
       "221"
      ]
     },
     "execution_count": 126,
     "metadata": {},
     "output_type": "execute_result"
    }
   ],
   "source": [
    "len(speeches_subset)"
   ]
  },
  {
   "attachments": {},
   "cell_type": "markdown",
   "metadata": {},
   "source": [
    "## Fetch text of speeches from Perseus"
   ]
  },
  {
   "cell_type": "code",
   "execution_count": 11,
   "metadata": {},
   "outputs": [],
   "source": [
    "from dicesapi.text import CtsAPI\n",
    "from dicesapi.jupyter import NotebookPBar\n",
    "cts = CtsAPI()"
   ]
  },
  {
   "cell_type": "code",
   "execution_count": 20,
   "metadata": {},
   "outputs": [],
   "source": [
    "test = speeches[-1]"
   ]
  },
  {
   "cell_type": "code",
   "execution_count": 21,
   "metadata": {},
   "outputs": [
    {
     "data": {
      "text/plain": [
       "'urn:cts:greekLit:tlg0012.tlg001.perseus-grc2:1.106-1.120'"
      ]
     },
     "execution_count": 21,
     "metadata": {},
     "output_type": "execute_result"
    }
   ],
   "source": [
    "test.urn"
   ]
  },
  {
   "cell_type": "code",
   "execution_count": 22,
   "metadata": {},
   "outputs": [
    {
     "data": {
      "text/plain": [
       "'μάντι κακῶν οὐ πώ ποτέ μοι τὸ κρήγυον εἶπας· αἰεί τοι τὰ κάκʼ ἐστὶ φίλα φρεσὶ μαντεύεσθαι, ἐσθλὸν δʼ οὔτέ τί πω εἶπας ἔπος οὔτʼ ἐτέλεσσας· καὶ νῦν ἐν Δαναοῖσι θεοπροπέων ἀγορεύεις ὡς δὴ τοῦδʼ ἕνεκά σφιν ἑκηβόλος ἄλγεα τεύχει, οὕνεκʼ ἐγὼ κούρης Χρυσηΐδος ἀγλάʼ ἄποινα οὐκ ἔθελον δέξασθαι, ἐπεὶ πολὺ βούλομαι αὐτὴν οἴκοι ἔχειν· καὶ γάρ ῥα Κλυταιμνήστρης προβέβουλα κουριδίης ἀλόχου, ἐπεὶ οὔ ἑθέν ἐστι χερείων, οὐ δέμας οὐδὲ φυήν, οὔτʼ ἂρ φρένας οὔτέ τι ἔργα. ἀλλὰ καὶ ὧς ἐθέλω δόμεναι πάλιν εἰ τό γʼ ἄμεινον· βούλομʼ ἐγὼ λαὸν σῶν ἔμμεναι ἢ ἀπολέσθαι· αὐτὰρ ἐμοὶ γέρας αὐτίχʼ ἑτοιμάσατʼ ὄφρα μὴ οἶος Ἀργείων ἀγέραστος ἔω, ἐπεὶ οὐδὲ ἔοικε· λεύσσετε γὰρ τό γε πάντες ὅ μοι γέρας ἔρχεται ἄλλῃ.'"
      ]
     },
     "execution_count": 22,
     "metadata": {},
     "output_type": "execute_result"
    }
   ],
   "source": [
    "cts.getPassage(test).text"
   ]
  },
  {
   "cell_type": "code",
   "execution_count": 10,
   "metadata": {},
   "outputs": [],
   "source": [
    "def download_speech_text(speeches):\n",
    "    '''Download the text of the speeches from CTS server, append to speech objects'''\n",
    "    pbar = NotebookPBar(max=len(speeches), prefix='Downloading text')\n",
    "\n",
    "    for s in speeches:\n",
    "        if not hasattr(s, 'passage') or s.passage is None:\n",
    "            s.passage = cts.getPassage(s)\n",
    "        pbar.update()\n",
    "    return speeches"
   ]
  },
  {
   "cell_type": "code",
   "execution_count": 11,
   "metadata": {},
   "outputs": [
    {
     "data": {
      "text/plain": [
       "1371"
      ]
     },
     "execution_count": 11,
     "metadata": {},
     "output_type": "execute_result"
    }
   ],
   "source": [
    "speeches_subset = speeches\n",
    "len(speeches_subset)"
   ]
  },
  {
   "cell_type": "code",
   "execution_count": 12,
   "metadata": {},
   "outputs": [
    {
     "data": {
      "application/vnd.jupyter.widget-view+json": {
       "model_id": "3004d0ea1f624f83badbe3503bafb84d",
       "version_major": 2,
       "version_minor": 0
      },
      "text/plain": [
       "HBox(children=(IntProgress(value=0, bar_style='info', max=1371), Label(value='Downloading text 0/1371')))"
      ]
     },
     "metadata": {},
     "output_type": "display_data"
    }
   ],
   "source": [
    "speeches_subset = download_speech_text(speeches_subset)"
   ]
  },
  {
   "cell_type": "code",
   "execution_count": 13,
   "metadata": {},
   "outputs": [
    {
     "data": {
      "text/plain": [
       "'τοιγὰρ ἐγώ τοι, ξεῖνε, μάλʼ ἀτρεκέως ἀγορεύσω. μήτηρ μέν τέ μέ φησι τοῦ ἔμμεναι, αὐτὰρ ἐγώ γε οὐκ οἶδʼ· οὐ γάρ πώ τις ἑὸν γόνον αὐτὸς ἀνέγνω. ὡς δὴ ἐγώ γʼ ὄφελον μάκαρός νύ τευ ἔμμεναι υἱὸς ἀνέρος, ὃν κτεάτεσσιν ἑοῖς ἔπι γῆρας ἔτετμε. νῦν δʼ ὃς ἀποτμότατος γένετο θνητῶν ἀνθρώπων, τοῦ μʼ ἔκ φασι γενέσθαι, ἐπεὶ σύ με τοῦτʼ ἐρεείνεις.'"
      ]
     },
     "execution_count": 13,
     "metadata": {},
     "output_type": "execute_result"
    }
   ],
   "source": [
    "speeches_subset[-1].passage.text"
   ]
  },
  {
   "cell_type": "code",
   "execution_count": 14,
   "metadata": {},
   "outputs": [
    {
     "data": {
      "text/plain": [
       "1371"
      ]
     },
     "execution_count": 14,
     "metadata": {},
     "output_type": "execute_result"
    }
   ],
   "source": [
    "len(speeches_subset)"
   ]
  },
  {
   "attachments": {},
   "cell_type": "markdown",
   "metadata": {},
   "source": [
    "## Process speeches with CLTK"
   ]
  },
  {
   "cell_type": "code",
   "execution_count": 15,
   "metadata": {},
   "outputs": [],
   "source": [
    "def parse_speech_text(speeches):\n",
    "    '''Run CLTK NLP pipeline to parse all the speeches'''\n",
    "    \n",
    "    pbar = NotebookPBar(max=len(speeches), prefix='Running NLP')\n",
    "\n",
    "    for s in speeches:\n",
    "        if not hasattr(s, 'passage') or s.passage is None:\n",
    "            print('no passage:', s)\n",
    "        elif not hasattr(s.passage, 'cltk') or s.passage.cltk is None:\n",
    "            s.passage.runCltkPipeline(remove_punct=True)\n",
    "        pbar.update()\n",
    "    return speeches\n",
    "\n"
   ]
  },
  {
   "cell_type": "code",
   "execution_count": 16,
   "metadata": {},
   "outputs": [
    {
     "data": {
      "application/vnd.jupyter.widget-view+json": {
       "model_id": "786655dbf8a0416988c8807e58dc7309",
       "version_major": 2,
       "version_minor": 0
      },
      "text/plain": [
       "HBox(children=(IntProgress(value=0, bar_style='info', max=1371), Label(value='Running NLP 0/1371')))"
      ]
     },
     "metadata": {},
     "output_type": "display_data"
    },
    {
     "name": "stdout",
     "output_type": "stream",
     "text": [
      "no passage: <Speech 931: Odyssey 10.456-10.465>\n"
     ]
    }
   ],
   "source": [
    "speeches_subset = parse_speech_text(speeches_subset)"
   ]
  },
  {
   "cell_type": "code",
   "execution_count": 17,
   "metadata": {},
   "outputs": [
    {
     "data": {
      "text/plain": [
       "'ὢ πόποι αἰγιόχοιο Διὸς τέκος οὐκέτι νῶϊ ὀλλυμένων Δαναῶν κεκαδησόμεθʼ ὑστάτιόν περ; οἵ κεν δὴ κακὸν οἶτον ἀναπλήσαντες ὄλωνται ἀνδρὸς ἑνὸς ῥιπῇ, ὃ δὲ μαίνεται οὐκέτʼ ἀνεκτῶς Ἕκτωρ Πριαμίδης, καὶ δὴ κακὰ πολλὰ ἔοργε.'"
      ]
     },
     "execution_count": 17,
     "metadata": {},
     "output_type": "execute_result"
    }
   ],
   "source": [
    "s = speeches_subset[0]\n",
    "s.passage.text"
   ]
  },
  {
   "cell_type": "code",
   "execution_count": 21,
   "metadata": {},
   "outputs": [
    {
     "data": {
      "text/plain": [
       "{'adjective',\n",
       " 'adverb',\n",
       " 'coordinating_conjunction',\n",
       " 'determiner',\n",
       " 'interjection',\n",
       " 'noun',\n",
       " 'numeral',\n",
       " 'pronoun',\n",
       " 'subordinating_conjunction',\n",
       " 'verb'}"
      ]
     },
     "execution_count": 21,
     "metadata": {},
     "output_type": "execute_result"
    }
   ],
   "source": [
    "# get all pos tags in order to know what to keep and what to exclude\n",
    "set([str(w.pos) for w in s.passage.cltk for s in speeches_subset])"
   ]
  },
  {
   "cell_type": "code",
   "execution_count": 22,
   "metadata": {},
   "outputs": [
    {
     "data": {
      "text/plain": [
       "'φίλη σύ πρῶτος κιχάνω οὗδος χῶρος χαίρω μή ἐγώ τὶς κακός νόος ἀντιβολέω σύ μέν οὗτος σῴζω δʼ ἐγώ σύ γάρ ἐγώ γε εὔχομαι ὡς θεός σύ φίλος γούνα ἱκάνω ἐγώ οὗτος ἀγορεύω τυμόω ἐγώ οἶδα τίς γῆ τίς δῆμος τίς ἀνήρ ἐγγάγω ἦ πού τὶς νῆσος εὐδείελος ἐγώ ἀκτή κεῖος ἅλς κλίνω ἐριβάλλω ἀπείρω'"
      ]
     },
     "execution_count": 22,
     "metadata": {},
     "output_type": "execute_result"
    }
   ],
   "source": [
    "keep_pos_tags = ['verb', 'pronoun', 'noun', 'proper_noun', 'adjective', 'adverb']\n",
    "\" \".join([w.lemma for w in s.passage.cltk if str(w.pos) in keep_pos_tags])"
   ]
  },
  {
   "attachments": {},
   "cell_type": "markdown",
   "metadata": {},
   "source": [
    "## Speeches to Dataframe"
   ]
  },
  {
   "cell_type": "code",
   "execution_count": 24,
   "metadata": {},
   "outputs": [
    {
     "data": {
      "text/plain": [
       "1371"
      ]
     },
     "execution_count": 24,
     "metadata": {},
     "output_type": "execute_result"
    }
   ],
   "source": [
    "len(speeches_subset)"
   ]
  },
  {
   "cell_type": "code",
   "execution_count": 25,
   "metadata": {},
   "outputs": [],
   "source": [
    "def make_speeches_table(speeches) -> pd.DataFrame:\n",
    "\n",
    "    keep_pos_tags = ['verb', 'pronoun', 'noun', 'proper_noun', 'adjective', 'adverb']\n",
    "\n",
    "    return pd.DataFrame(dict(\n",
    "        speech_id = speech.id,\n",
    "        group = f\"speech-{'-'.join(sorted([tag['type'] for tag in speech._attributes['tags']]))}\",\n",
    "        length = len([w for w in speech.passage.text]) if speech.passage else None,\n",
    "        passage_urn = speech.urn,\n",
    "        speaker = speech.getSpkrString(),\n",
    "        addressee = speech.getAddrString(),\n",
    "        lemmatised_text = \" \".join([w.lemma for w in speech.passage.cltk]) if speech.passage else None,\n",
    "        lemmatised_filtered_text = \" \".join([w.lemma for w in speech.passage.cltk if str(w.pos) in keep_pos_tags]) if speech.passage else None,\n",
    "        text = speech.passage.text if speech.passage else None,\n",
    "        label = f\"{speech.author.name}, {speech.work.title} {speech.urn.split(':')[-1]}\",\n",
    "        dices_tags = '|'.join(sorted([tag['type'] for tag in speech._attributes['tags']]))\n",
    "    ) for speech in speeches)"
   ]
  },
  {
   "cell_type": "code",
   "execution_count": 26,
   "metadata": {},
   "outputs": [],
   "source": [
    "speeches_df = make_speeches_table(speeches_subset)"
   ]
  },
  {
   "cell_type": "code",
   "execution_count": 27,
   "metadata": {},
   "outputs": [
    {
     "data": {
      "text/html": [
       "<div>\n",
       "<style scoped>\n",
       "    .dataframe tbody tr th:only-of-type {\n",
       "        vertical-align: middle;\n",
       "    }\n",
       "\n",
       "    .dataframe tbody tr th {\n",
       "        vertical-align: top;\n",
       "    }\n",
       "\n",
       "    .dataframe thead th {\n",
       "        text-align: right;\n",
       "    }\n",
       "</style>\n",
       "<table border=\"1\" class=\"dataframe\">\n",
       "  <thead>\n",
       "    <tr style=\"text-align: right;\">\n",
       "      <th></th>\n",
       "      <th>speech_id</th>\n",
       "      <th>group</th>\n",
       "      <th>length</th>\n",
       "      <th>passage_urn</th>\n",
       "      <th>speaker</th>\n",
       "      <th>addressee</th>\n",
       "      <th>lemmatised_text</th>\n",
       "      <th>lemmatised_filtered_text</th>\n",
       "      <th>text</th>\n",
       "      <th>label</th>\n",
       "      <th>dices_tags</th>\n",
       "    </tr>\n",
       "  </thead>\n",
       "  <tbody>\n",
       "    <tr>\n",
       "      <th>0</th>\n",
       "      <td>223</td>\n",
       "      <td>speech-que</td>\n",
       "      <td>215.0</td>\n",
       "      <td>urn:cts:greekLit:tlg0012.tlg001.perseus-grc2:8...</td>\n",
       "      <td>Hera</td>\n",
       "      <td>Athena</td>\n",
       "      <td>ὅς πόπος αἴγιοχος Ζεύς τέκος οὐκέτι νῶϊ ὀλλύω ...</td>\n",
       "      <td>ὅς πόπος αἴγιοχος Ζεύς τέκος οὐκέτι νῶϊ ὀλλύω ...</td>\n",
       "      <td>ὢ πόποι αἰγιόχοιο Διὸς τέκος οὐκέτι νῶϊ ὀλλυμέ...</td>\n",
       "      <td>Homer, Iliad 8.352-8.356</td>\n",
       "      <td>que</td>\n",
       "    </tr>\n",
       "    <tr>\n",
       "      <th>1</th>\n",
       "      <td>605</td>\n",
       "      <td>speech-del</td>\n",
       "      <td>463.0</td>\n",
       "      <td>urn:cts:greekLit:tlg0012.tlg001.perseus-grc2:2...</td>\n",
       "      <td>Andromache</td>\n",
       "      <td>servants</td>\n",
       "      <td>δεῦτε δύω ἐγώ ἕπεσθος ὁράω ὅστις ἔργον τύω αἰδ...</td>\n",
       "      <td>ἐγώ ἕπεσθος ὁράω ὅστις ἔργον τύω αἰδοία ἑκυρός...</td>\n",
       "      <td>δεῦτε δύω μοι ἕπεσθον, ἴδωμʼ ὅτινʼ ἔργα τέτυκτ...</td>\n",
       "      <td>Homer, Iliad 22.450-22.459</td>\n",
       "      <td>del</td>\n",
       "    </tr>\n",
       "    <tr>\n",
       "      <th>2</th>\n",
       "      <td>224</td>\n",
       "      <td>speech-del-des-lam</td>\n",
       "      <td>995.0</td>\n",
       "      <td>urn:cts:greekLit:tlg0012.tlg001.perseus-grc2:8...</td>\n",
       "      <td>Athena</td>\n",
       "      <td>Hera</td>\n",
       "      <td>καί λίαν οὗτος γε μένος θυμός τʼ ὀλείσειμι χεί...</td>\n",
       "      <td>λίαν οὗτος γε μένος θυμός ὀλείσειμι χείρ Ἀργεῖ...</td>\n",
       "      <td>καὶ λίην οὗτός γε μένος θυμόν τʼ ὀλέσειε χερσὶ...</td>\n",
       "      <td>Homer, Iliad 8.358-8.380</td>\n",
       "      <td>del|des|lam</td>\n",
       "    </tr>\n",
       "    <tr>\n",
       "      <th>3</th>\n",
       "      <td>606</td>\n",
       "      <td>speech-lam-ora</td>\n",
       "      <td>1691.0</td>\n",
       "      <td>urn:cts:greekLit:tlg0012.tlg001.perseus-grc2:2...</td>\n",
       "      <td>Andromache</td>\n",
       "      <td>Hector</td>\n",
       "      <td>Ἕκτορ ἐγώ δύστηνος εἰ ἆρα γείνω αἶμαι ἀμφότερο...</td>\n",
       "      <td>Ἕκτορ ἐγώ δύστηνος εἰ ἆρα γείνω αἶμαι ἀμφότερο...</td>\n",
       "      <td>Ἕκτορ ἐγὼ δύστηνος· ἰῇ ἄρα γεινόμεθʼ αἴσῃ ἀμφό...</td>\n",
       "      <td>Homer, Iliad 22.477-22.514</td>\n",
       "      <td>lam|ora</td>\n",
       "    </tr>\n",
       "    <tr>\n",
       "      <th>4</th>\n",
       "      <td>225</td>\n",
       "      <td>speech-com</td>\n",
       "      <td>450.0</td>\n",
       "      <td>urn:cts:greekLit:tlg0012.tlg001.perseus-grc2:8...</td>\n",
       "      <td>Zeus</td>\n",
       "      <td>Iris</td>\n",
       "      <td>βάσκυς εἶμι Ἶρος ταχύς πάλιν τρέπω μηδʼ ἐάω ἄν...</td>\n",
       "      <td>βάσκυς εἶμι Ἶρος ταχύς πάλιν τρέπω ἐάω ἔρχομαι...</td>\n",
       "      <td>βάσκʼ ἴθι Ἶρι ταχεῖα, πάλιν τρέπε μηδʼ ἔα ἄντη...</td>\n",
       "      <td>Homer, Iliad 8.399-8.408</td>\n",
       "      <td>com</td>\n",
       "    </tr>\n",
       "    <tr>\n",
       "      <th>...</th>\n",
       "      <td>...</td>\n",
       "      <td>...</td>\n",
       "      <td>...</td>\n",
       "      <td>...</td>\n",
       "      <td>...</td>\n",
       "      <td>...</td>\n",
       "      <td>...</td>\n",
       "      <td>...</td>\n",
       "      <td>...</td>\n",
       "      <td>...</td>\n",
       "      <td>...</td>\n",
       "    </tr>\n",
       "    <tr>\n",
       "      <th>1366</th>\n",
       "      <td>46</td>\n",
       "      <td>speech-com-del</td>\n",
       "      <td>322.0</td>\n",
       "      <td>urn:cts:greekLit:tlg0012.tlg001.perseus-grc2:2...</td>\n",
       "      <td>Odysseus</td>\n",
       "      <td>Greeks</td>\n",
       "      <td>δαιμόνις ἀτρέμας ἧμαι καί ἄλλος μῦθος ἀκούω ὁ ...</td>\n",
       "      <td>δαιμόνις ἀτρέμας ἧμαι ἄλλος μῦθος ἀκούω ὁ σύ φ...</td>\n",
       "      <td>δαιμόνιʼ ἀτρέμας ἧσο καὶ ἄλλων μῦθον ἄκουε, οἳ...</td>\n",
       "      <td>Homer, Iliad 2.200-2.206</td>\n",
       "      <td>com|del</td>\n",
       "    </tr>\n",
       "    <tr>\n",
       "      <th>1367</th>\n",
       "      <td>39</td>\n",
       "      <td>speech-del-inf-nar</td>\n",
       "      <td>893.0</td>\n",
       "      <td>urn:cts:greekLit:tlg0012.tlg001.perseus-grc2:2...</td>\n",
       "      <td>Agamemnon</td>\n",
       "      <td>leaders of the Greeks (Greek soldiers)</td>\n",
       "      <td>κλύω φίλος θεῖός ἐγώ ἐνύπνιον ἔρχομαι ὄνειρος ...</td>\n",
       "      <td>κλύω φίλος θεῖός ἐγώ ἐνύπνιον ἔρχομαι ὄνειρος ...</td>\n",
       "      <td>κλῦτε φίλοι· θεῖός μοι ἐνύπνιον ἦλθεν ὄνειρος ...</td>\n",
       "      <td>Homer, Iliad 2.56-2.75</td>\n",
       "      <td>del|inf|nar</td>\n",
       "    </tr>\n",
       "    <tr>\n",
       "      <th>1368</th>\n",
       "      <td>45</td>\n",
       "      <td>speech-com-per-war</td>\n",
       "      <td>350.0</td>\n",
       "      <td>urn:cts:greekLit:tlg0012.tlg001.perseus-grc2:2...</td>\n",
       "      <td>Odysseus</td>\n",
       "      <td>leaders of the Greeks (Greek soldiers)</td>\n",
       "      <td>δαιμόνις οὐ σύ ἔοικα κακός ὡς δειδίζω ἀλλʼ αὐτ...</td>\n",
       "      <td>δαιμόνις οὐ σύ ἔοικα κακός ὡς δειδίζω αὐτός κά...</td>\n",
       "      <td>δαιμόνιʼ οὔ σε ἔοικε κακὸν ὣς δειδίσσεσθαι, ἀλ...</td>\n",
       "      <td>Homer, Iliad 2.190-2.197</td>\n",
       "      <td>com|per|war</td>\n",
       "    </tr>\n",
       "    <tr>\n",
       "      <th>1369</th>\n",
       "      <td>705</td>\n",
       "      <td>speech-inf-que-res</td>\n",
       "      <td>1514.0</td>\n",
       "      <td>urn:cts:greekLit:tlg0012.tlg002.perseus-grc2:1...</td>\n",
       "      <td>Athena</td>\n",
       "      <td>Telemachus</td>\n",
       "      <td>τοιγάρ ἐγώ σύ οὗτος μαγος ἀτρεκέως ἀγορεύω Μέν...</td>\n",
       "      <td>ἐγώ σύ οὗτος μαγος ἀτρεκέως ἀγορεύω Μέντη Ἀγχι...</td>\n",
       "      <td>τοιγὰρ ἐγώ τοι ταῦτα μάλʼ ἀτρεκέως ἀγορεύσω. Μ...</td>\n",
       "      <td>Homer, Odyssey 1.179-1.212</td>\n",
       "      <td>inf|que|res</td>\n",
       "    </tr>\n",
       "    <tr>\n",
       "      <th>1370</th>\n",
       "      <td>706</td>\n",
       "      <td>speech-res</td>\n",
       "      <td>333.0</td>\n",
       "      <td>urn:cts:greekLit:tlg0012.tlg002.perseus-grc2:1...</td>\n",
       "      <td>Telemachus</td>\n",
       "      <td>Athena</td>\n",
       "      <td>τοιγάρ ἐγώ σύ ξένος μαγος ἀτρεκέως ἀγορεύω μήτ...</td>\n",
       "      <td>ἐγώ σύ ξένος μαγος ἀτρεκέως ἀγορεύω μήτηρ μέν ...</td>\n",
       "      <td>τοιγὰρ ἐγώ τοι, ξεῖνε, μάλʼ ἀτρεκέως ἀγορεύσω....</td>\n",
       "      <td>Homer, Odyssey 1.214-1.220</td>\n",
       "      <td>res</td>\n",
       "    </tr>\n",
       "  </tbody>\n",
       "</table>\n",
       "<p>1371 rows × 11 columns</p>\n",
       "</div>"
      ],
      "text/plain": [
       "      speech_id               group  length   \n",
       "0           223          speech-que   215.0  \\\n",
       "1           605          speech-del   463.0   \n",
       "2           224  speech-del-des-lam   995.0   \n",
       "3           606      speech-lam-ora  1691.0   \n",
       "4           225          speech-com   450.0   \n",
       "...         ...                 ...     ...   \n",
       "1366         46      speech-com-del   322.0   \n",
       "1367         39  speech-del-inf-nar   893.0   \n",
       "1368         45  speech-com-per-war   350.0   \n",
       "1369        705  speech-inf-que-res  1514.0   \n",
       "1370        706          speech-res   333.0   \n",
       "\n",
       "                                            passage_urn     speaker   \n",
       "0     urn:cts:greekLit:tlg0012.tlg001.perseus-grc2:8...        Hera  \\\n",
       "1     urn:cts:greekLit:tlg0012.tlg001.perseus-grc2:2...  Andromache   \n",
       "2     urn:cts:greekLit:tlg0012.tlg001.perseus-grc2:8...      Athena   \n",
       "3     urn:cts:greekLit:tlg0012.tlg001.perseus-grc2:2...  Andromache   \n",
       "4     urn:cts:greekLit:tlg0012.tlg001.perseus-grc2:8...        Zeus   \n",
       "...                                                 ...         ...   \n",
       "1366  urn:cts:greekLit:tlg0012.tlg001.perseus-grc2:2...    Odysseus   \n",
       "1367  urn:cts:greekLit:tlg0012.tlg001.perseus-grc2:2...   Agamemnon   \n",
       "1368  urn:cts:greekLit:tlg0012.tlg001.perseus-grc2:2...    Odysseus   \n",
       "1369  urn:cts:greekLit:tlg0012.tlg002.perseus-grc2:1...      Athena   \n",
       "1370  urn:cts:greekLit:tlg0012.tlg002.perseus-grc2:1...  Telemachus   \n",
       "\n",
       "                                   addressee   \n",
       "0                                     Athena  \\\n",
       "1                                   servants   \n",
       "2                                       Hera   \n",
       "3                                     Hector   \n",
       "4                                       Iris   \n",
       "...                                      ...   \n",
       "1366                                  Greeks   \n",
       "1367  leaders of the Greeks (Greek soldiers)   \n",
       "1368  leaders of the Greeks (Greek soldiers)   \n",
       "1369                              Telemachus   \n",
       "1370                                  Athena   \n",
       "\n",
       "                                        lemmatised_text   \n",
       "0     ὅς πόπος αἴγιοχος Ζεύς τέκος οὐκέτι νῶϊ ὀλλύω ...  \\\n",
       "1     δεῦτε δύω ἐγώ ἕπεσθος ὁράω ὅστις ἔργον τύω αἰδ...   \n",
       "2     καί λίαν οὗτος γε μένος θυμός τʼ ὀλείσειμι χεί...   \n",
       "3     Ἕκτορ ἐγώ δύστηνος εἰ ἆρα γείνω αἶμαι ἀμφότερο...   \n",
       "4     βάσκυς εἶμι Ἶρος ταχύς πάλιν τρέπω μηδʼ ἐάω ἄν...   \n",
       "...                                                 ...   \n",
       "1366  δαιμόνις ἀτρέμας ἧμαι καί ἄλλος μῦθος ἀκούω ὁ ...   \n",
       "1367  κλύω φίλος θεῖός ἐγώ ἐνύπνιον ἔρχομαι ὄνειρος ...   \n",
       "1368  δαιμόνις οὐ σύ ἔοικα κακός ὡς δειδίζω ἀλλʼ αὐτ...   \n",
       "1369  τοιγάρ ἐγώ σύ οὗτος μαγος ἀτρεκέως ἀγορεύω Μέν...   \n",
       "1370  τοιγάρ ἐγώ σύ ξένος μαγος ἀτρεκέως ἀγορεύω μήτ...   \n",
       "\n",
       "                               lemmatised_filtered_text   \n",
       "0     ὅς πόπος αἴγιοχος Ζεύς τέκος οὐκέτι νῶϊ ὀλλύω ...  \\\n",
       "1     ἐγώ ἕπεσθος ὁράω ὅστις ἔργον τύω αἰδοία ἑκυρός...   \n",
       "2     λίαν οὗτος γε μένος θυμός ὀλείσειμι χείρ Ἀργεῖ...   \n",
       "3     Ἕκτορ ἐγώ δύστηνος εἰ ἆρα γείνω αἶμαι ἀμφότερο...   \n",
       "4     βάσκυς εἶμι Ἶρος ταχύς πάλιν τρέπω ἐάω ἔρχομαι...   \n",
       "...                                                 ...   \n",
       "1366  δαιμόνις ἀτρέμας ἧμαι ἄλλος μῦθος ἀκούω ὁ σύ φ...   \n",
       "1367  κλύω φίλος θεῖός ἐγώ ἐνύπνιον ἔρχομαι ὄνειρος ...   \n",
       "1368  δαιμόνις οὐ σύ ἔοικα κακός ὡς δειδίζω αὐτός κά...   \n",
       "1369  ἐγώ σύ οὗτος μαγος ἀτρεκέως ἀγορεύω Μέντη Ἀγχι...   \n",
       "1370  ἐγώ σύ ξένος μαγος ἀτρεκέως ἀγορεύω μήτηρ μέν ...   \n",
       "\n",
       "                                                   text   \n",
       "0     ὢ πόποι αἰγιόχοιο Διὸς τέκος οὐκέτι νῶϊ ὀλλυμέ...  \\\n",
       "1     δεῦτε δύω μοι ἕπεσθον, ἴδωμʼ ὅτινʼ ἔργα τέτυκτ...   \n",
       "2     καὶ λίην οὗτός γε μένος θυμόν τʼ ὀλέσειε χερσὶ...   \n",
       "3     Ἕκτορ ἐγὼ δύστηνος· ἰῇ ἄρα γεινόμεθʼ αἴσῃ ἀμφό...   \n",
       "4     βάσκʼ ἴθι Ἶρι ταχεῖα, πάλιν τρέπε μηδʼ ἔα ἄντη...   \n",
       "...                                                 ...   \n",
       "1366  δαιμόνιʼ ἀτρέμας ἧσο καὶ ἄλλων μῦθον ἄκουε, οἳ...   \n",
       "1367  κλῦτε φίλοι· θεῖός μοι ἐνύπνιον ἦλθεν ὄνειρος ...   \n",
       "1368  δαιμόνιʼ οὔ σε ἔοικε κακὸν ὣς δειδίσσεσθαι, ἀλ...   \n",
       "1369  τοιγὰρ ἐγώ τοι ταῦτα μάλʼ ἀτρεκέως ἀγορεύσω. Μ...   \n",
       "1370  τοιγὰρ ἐγώ τοι, ξεῖνε, μάλʼ ἀτρεκέως ἀγορεύσω....   \n",
       "\n",
       "                           label   dices_tags  \n",
       "0       Homer, Iliad 8.352-8.356          que  \n",
       "1     Homer, Iliad 22.450-22.459          del  \n",
       "2       Homer, Iliad 8.358-8.380  del|des|lam  \n",
       "3     Homer, Iliad 22.477-22.514      lam|ora  \n",
       "4       Homer, Iliad 8.399-8.408          com  \n",
       "...                          ...          ...  \n",
       "1366    Homer, Iliad 2.200-2.206      com|del  \n",
       "1367      Homer, Iliad 2.56-2.75  del|inf|nar  \n",
       "1368    Homer, Iliad 2.190-2.197  com|per|war  \n",
       "1369  Homer, Odyssey 1.179-1.212  inf|que|res  \n",
       "1370  Homer, Odyssey 1.214-1.220          res  \n",
       "\n",
       "[1371 rows x 11 columns]"
      ]
     },
     "execution_count": 27,
     "metadata": {},
     "output_type": "execute_result"
    }
   ],
   "source": [
    "speeches_df"
   ]
  },
  {
   "cell_type": "code",
   "execution_count": 33,
   "metadata": {},
   "outputs": [],
   "source": [
    "speeches_df.to_pickle('data/homeric_speeches_df.pickle')"
   ]
  },
  {
   "attachments": {},
   "cell_type": "markdown",
   "metadata": {},
   "source": [
    "## Convert speeches to Passim format\n",
    "\n",
    "```json\n",
    "{\n",
    "    \"id\": \"...\",\n",
    "    \"group\": \"...\",\n",
    "    \"text\": \"...\",\n",
    "}"
   ]
  },
  {
   "cell_type": "code",
   "execution_count": 29,
   "metadata": {},
   "outputs": [],
   "source": [
    "import json\n",
    "\n",
    "def speeches_to_passim(speeches_df : pd.DataFrame, json_path : str, lemmatised=False) -> None:\n",
    "\n",
    "    # transform DataFrame to passim-amenable JSON\n",
    "    docs = [\n",
    "        {\n",
    "            \"id\" : idx,\n",
    "            \"group\": row.group,\n",
    "            \"label\": row.label,\n",
    "            \"dices_tags\": row.dices_tags,\n",
    "            \"text\": row.lemmatised_filtered_text if lemmatised else row.text,\n",
    "            \"raw_text\": row.text if lemmatised else None,\n",
    "            \"passage_urn\": row.passage_urn\n",
    "        }\n",
    "        for idx, row in speeches_df.iterrows()\n",
    "    ]\n",
    "\n",
    "    # write passim docs to JSON file\n",
    "    with open(json_path, 'w', encoding='utf-8') as f:\n",
    "        for d in docs:\n",
    "            print(json.dumps(d, ensure_ascii=False), file=f)\n",
    "\n"
   ]
  },
  {
   "cell_type": "code",
   "execution_count": 30,
   "metadata": {},
   "outputs": [],
   "source": [
    "# speeches_to_passim(speeches_df, 'test_input.json')"
   ]
  },
  {
   "cell_type": "code",
   "execution_count": 31,
   "metadata": {},
   "outputs": [],
   "source": [
    "speeches_to_passim(speeches_df[~speeches_df.text.isna()], 'data/input/homeric_speeches_lemmatised.json', lemmatised=True)"
   ]
  },
  {
   "cell_type": "code",
   "execution_count": 32,
   "metadata": {},
   "outputs": [],
   "source": [
    "speeches_to_passim(speeches_df[~speeches_df.text.isna()], 'data/input/homeric_speeches_raw.json', lemmatised=False)"
   ]
  },
  {
   "attachments": {},
   "cell_type": "markdown",
   "metadata": {},
   "source": [
    "## Run Passim"
   ]
  },
  {
   "cell_type": "code",
   "execution_count": 161,
   "metadata": {},
   "outputs": [],
   "source": [
    "passim_output_path = \"data/passim/out_cluster/\"\n",
    "passim_logfile = \"data/log/passim.log\""
   ]
  },
  {
   "cell_type": "code",
   "execution_count": 162,
   "metadata": {},
   "outputs": [],
   "source": [
    "!rm -r {passim_output_path}"
   ]
  },
  {
   "cell_type": "code",
   "execution_count": 124,
   "metadata": {},
   "outputs": [
    {
     "name": "stdout",
     "output_type": "stream",
     "text": [
      "^C\n"
     ]
    }
   ],
   "source": [
    "# -a : Minimum length of alignment (default: 50)\n",
    "!seriatim -a 5 {passim_input_path} {passim_output_path} >& {passim_logfile}"
   ]
  },
  {
   "attachments": {},
   "cell_type": "markdown",
   "metadata": {},
   "source": [
    "## Read Passim's output"
   ]
  },
  {
   "cell_type": "code",
   "execution_count": 7,
   "metadata": {},
   "outputs": [],
   "source": [
    "import glob, itertools, json\n",
    "import pandas as pd\n",
    "\n",
    "# Read one JSON record per line\n",
    "def read_jsonl_file(f):\n",
    "  res = []\n",
    "  for line in f:\n",
    "    res.append(json.loads(line))\n",
    "  return res\n",
    "\n",
    "def read_jsonl(d):\n",
    "  return list(itertools.chain.from_iterable([read_jsonl_file(open(f)) for f in glob.glob(d + '/*.json')]))"
   ]
  },
  {
   "cell_type": "code",
   "execution_count": 4,
   "metadata": {},
   "outputs": [],
   "source": [
    "def passim_output_to_dataframe(output_path, dataframe_path, columns_to_keep=['cluster', 'id', 'label', 'dices_tags', 'text', 'raw_text']) -> pd.DataFrame:\n",
    "    tr_clusters = pd.DataFrame(read_jsonl(output_path))\n",
    "    print(f'There are {tr_clusters.cluster.unique().size} text reuse clusters in {output_path}')\n",
    "    output_df = tr_clusters[columns_to_keep]\n",
    "    output_df.to_csv(dataframe_path)\n",
    "    return output_df"
   ]
  },
  {
   "attachments": {},
   "cell_type": "markdown",
   "metadata": {},
   "source": [
    "## Experiments\n",
    "\n",
    "| Experiment ID     | Passim parameters | Explanation  | \\# of extracted clusters |\n",
    "| ----------- | ----------- |----------|------------|\n",
    "| `exp0`      | `-n 1 --min-match 1 -a 5` | reused passages consist of at least 1 shared n-grams of size 1 (uni-gram) | 1066 |\n",
    "| `exp1`| `-n 3 --max-repeat 100`|reused passages consist of at least 5 shared n-grams of size 3 (uni-gram)|23|\n",
    "| `exp2`|`-n 3 --min-match 3 --max-repeat 100 -w 1`|reused passages consist of at least 3 shared n-grams of size 3 (tri-grams)|24|\n",
    "| `exp3`|`-n 3 --min-match 3 --max-repeat 100 -a 10`|reused passages consist of at least 3 shared n-grams of size 3, and the aligned passage should be at least 10 characters long (default is `20`)|41|\n",
    "| `exp4`|`-n 2 --min-match 2 --max-repeat 100 -a 10`|reused passages consist of at least 2 shared n-grams of size 2 (bi-grams), and the aligned passage should be at least 10 characters long (default is `20`)|212|\n",
    "| `exp5`|`-n 3 --min-match 1 --max-repeat 100 -a 10`|reused passages consist of at least 1 shared n-grams of size 3 (tri-grams), and the aligned passage should be at least 10 characters long (default is `20`)|41|\n",
    "| `exp6`|`-n 4 --min-match 1 --max-repeat 100 -a 10`|reused passages consist of at least 1 shared n-grams of size 4 (bi-grams), and the aligned passage should be at least 10 characters long (default is `20`)|36|"
   ]
  },
  {
   "attachments": {},
   "cell_type": "markdown",
   "metadata": {},
   "source": [
    "### Experiment 0 (exp0)"
   ]
  },
  {
   "cell_type": "code",
   "execution_count": 205,
   "metadata": {},
   "outputs": [
    {
     "name": "stdout",
     "output_type": "stream",
     "text": [
      "/home/romanell/Documents/impresso/passim/bin/passim -n 1 --min-match 1 -a 5 --max-repeat 100 -w 1 data/input/input_lemmatised.json data/passim/out_cluster\n"
     ]
    }
   ],
   "source": [
    "!cat data/passim/exp0/memo.txt"
   ]
  },
  {
   "cell_type": "code",
   "execution_count": 207,
   "metadata": {},
   "outputs": [
    {
     "name": "stdout",
     "output_type": "stream",
     "text": [
      "There are 1066 text reuse clusters in data/passim/exp0/out.json/\n"
     ]
    }
   ],
   "source": [
    "output_path = 'data/passim/exp0/out.json/'\n",
    "tsv_path = 'data/output/passim_clusters_exp0.csv'\n",
    "tr_clusters = passim_output_to_dataframe(output_path, tsv_path)"
   ]
  },
  {
   "cell_type": "code",
   "execution_count": 208,
   "metadata": {},
   "outputs": [
    {
     "data": {
      "text/html": [
       "<div>\n",
       "<style scoped>\n",
       "    .dataframe tbody tr th:only-of-type {\n",
       "        vertical-align: middle;\n",
       "    }\n",
       "\n",
       "    .dataframe tbody tr th {\n",
       "        vertical-align: top;\n",
       "    }\n",
       "\n",
       "    .dataframe thead th {\n",
       "        text-align: right;\n",
       "    }\n",
       "</style>\n",
       "<table border=\"1\" class=\"dataframe\">\n",
       "  <thead>\n",
       "    <tr style=\"text-align: right;\">\n",
       "      <th></th>\n",
       "      <th>cluster</th>\n",
       "      <th>id</th>\n",
       "      <th>label</th>\n",
       "      <th>dices_tags</th>\n",
       "      <th>text</th>\n",
       "      <th>raw_text</th>\n",
       "    </tr>\n",
       "  </thead>\n",
       "  <tbody>\n",
       "    <tr>\n",
       "      <th>0</th>\n",
       "      <td>0</td>\n",
       "      <td>0</td>\n",
       "      <td>Homer, Iliad 1.37-1.42</td>\n",
       "      <td>pra|req</td>\n",
       "      <td>κλίνω ἐγώ ὅς Χρύση ἀμφιβαίνω Κίλλας Τενέδοιος ...</td>\n",
       "      <td>κλῦθί μευ ἀργυρότοξʼ, ὃς Χρύσην ἀμφιβέβηκας Κί...</td>\n",
       "    </tr>\n",
       "    <tr>\n",
       "      <th>1</th>\n",
       "      <td>0</td>\n",
       "      <td>1</td>\n",
       "      <td>Homer, Iliad 10.278-10.282</td>\n",
       "      <td>pra|req</td>\n",
       "      <td>κλίνω ἐγώ αἴγιοχος Ζεύς τέκος ὅς ἐγώ πόνος παρ...</td>\n",
       "      <td>κλῦθί μευ αἰγιόχοιο Διὸς τέκος, ἥ τέ μοι αἰεὶ ...</td>\n",
       "    </tr>\n",
       "    <tr>\n",
       "      <th>2</th>\n",
       "      <td>0</td>\n",
       "      <td>2</td>\n",
       "      <td>Homer, Iliad 10.284-10.294</td>\n",
       "      <td>pra|req</td>\n",
       "      <td>κλύω ἐγώ Ζεύς τέκος Ἀτρυτώνη σπεῖον ἐγώ πατήρ ...</td>\n",
       "      <td>κέκλυθι νῦν καὶ ἐμεῖο Διὸς τέκος Ἀτρυτώνη· σπε...</td>\n",
       "    </tr>\n",
       "    <tr>\n",
       "      <th>3</th>\n",
       "      <td>0</td>\n",
       "      <td>4</td>\n",
       "      <td>Homer, Odyssey 1.32-1.43</td>\n",
       "      <td>lam|nar</td>\n",
       "      <td>ὅς πόπος οἷος νυ θεός βροτοί αἰτιόω ἡμεῖς φημί...</td>\n",
       "      <td>ὢ πόποι, οἷον δή νυ θεοὺς βροτοὶ αἰτιόωνται· ἐ...</td>\n",
       "    </tr>\n",
       "    <tr>\n",
       "      <th>4</th>\n",
       "      <td>0</td>\n",
       "      <td>6</td>\n",
       "      <td>Homer, Odyssey 1.158-1.177</td>\n",
       "      <td>nar|que</td>\n",
       "      <td>φίλη ἐγώ νεμεσέω ὅστις λέγω μέλει κίθαρις ἀοιδ...</td>\n",
       "      <td>ξεῖνε φίλʼ, ἦ καί μοι νεμεσήσεαι ὅττι κεν εἴπω...</td>\n",
       "    </tr>\n",
       "    <tr>\n",
       "      <th>...</th>\n",
       "      <td>...</td>\n",
       "      <td>...</td>\n",
       "      <td>...</td>\n",
       "      <td>...</td>\n",
       "      <td>...</td>\n",
       "      <td>...</td>\n",
       "    </tr>\n",
       "    <tr>\n",
       "      <th>3777</th>\n",
       "      <td>8589936020</td>\n",
       "      <td>123</td>\n",
       "      <td>Homer, Odyssey 3.14-3.20</td>\n",
       "      <td>ins</td>\n",
       "      <td>σύ χρή ἐς αἰδώς ἀβαιρέω τοὔνω πόντος ἐπέπλως ὄ...</td>\n",
       "      <td>Τηλέμαχʼ, οὐ μέν σε χρὴ ἔτʼ αἰδοῦς, οὐδʼ ἠβαιό...</td>\n",
       "    </tr>\n",
       "    <tr>\n",
       "      <th>3778</th>\n",
       "      <td>8589936020</td>\n",
       "      <td>180</td>\n",
       "      <td>Homer, Odyssey 17.124-17.146</td>\n",
       "      <td>inf|nar</td>\n",
       "      <td>σύ ἐγώ κρύπτω ἔπος ἐπίκειμαι μιν ὅς γι νῆσος ὁ...</td>\n",
       "      <td>ὢ πόποι, ἦ μάλα δὴ κρατερόφρονος ἀνδρὸς ἐν εὐν...</td>\n",
       "    </tr>\n",
       "    <tr>\n",
       "      <th>3779</th>\n",
       "      <td>8589936118</td>\n",
       "      <td>109</td>\n",
       "      <td>Homer, Odyssey 14.462-14.506</td>\n",
       "      <td>nar</td>\n",
       "      <td>ἄγω ἀρτύνω ἡγέομαι Ὀδυσεύς Ἀτρεΐδης Μενέλαος ὁ...</td>\n",
       "      <td>κέκλυθι νῦν, Εὔμαιε καὶ ἄλλοι πάντες ἑταῖροι, ...</td>\n",
       "    </tr>\n",
       "    <tr>\n",
       "      <th>3780</th>\n",
       "      <td>8589936118</td>\n",
       "      <td>145</td>\n",
       "      <td>Homer, Iliad 19.155-19.183</td>\n",
       "      <td>com|del|ins</td>\n",
       "      <td>ἄγω λαός σκεδάζω δεῖπνον ἀνόχω ἕπλω δῶρον ἄναξ...</td>\n",
       "      <td>μὴ δʼ οὕτως, ἀγαθός περ ἐών, θεοείκελʼ Ἀχιλλεῦ...</td>\n",
       "    </tr>\n",
       "    <tr>\n",
       "      <th>3781</th>\n",
       "      <td>8589936118</td>\n",
       "      <td>206</td>\n",
       "      <td>Homer, Iliad 8.413-8.424</td>\n",
       "      <td>mes|que|war</td>\n",
       "      <td>ἄγω περιτέλλω ἐνιαυτός ἕλκω ἀπαλθάνομαι ὅς μάρ...</td>\n",
       "      <td>πῇ μέματον; τί σφῶϊν ἐνὶ φρεσὶ μαίνεται ἦτορ; ...</td>\n",
       "    </tr>\n",
       "  </tbody>\n",
       "</table>\n",
       "<p>3782 rows × 6 columns</p>\n",
       "</div>"
      ],
      "text/plain": [
       "         cluster   id                         label   dices_tags   \n",
       "0              0    0        Homer, Iliad 1.37-1.42      pra|req  \\\n",
       "1              0    1    Homer, Iliad 10.278-10.282      pra|req   \n",
       "2              0    2    Homer, Iliad 10.284-10.294      pra|req   \n",
       "3              0    4      Homer, Odyssey 1.32-1.43      lam|nar   \n",
       "4              0    6    Homer, Odyssey 1.158-1.177      nar|que   \n",
       "...          ...  ...                           ...          ...   \n",
       "3777  8589936020  123      Homer, Odyssey 3.14-3.20          ins   \n",
       "3778  8589936020  180  Homer, Odyssey 17.124-17.146      inf|nar   \n",
       "3779  8589936118  109  Homer, Odyssey 14.462-14.506          nar   \n",
       "3780  8589936118  145    Homer, Iliad 19.155-19.183  com|del|ins   \n",
       "3781  8589936118  206      Homer, Iliad 8.413-8.424  mes|que|war   \n",
       "\n",
       "                                                   text   \n",
       "0     κλίνω ἐγώ ὅς Χρύση ἀμφιβαίνω Κίλλας Τενέδοιος ...  \\\n",
       "1     κλίνω ἐγώ αἴγιοχος Ζεύς τέκος ὅς ἐγώ πόνος παρ...   \n",
       "2     κλύω ἐγώ Ζεύς τέκος Ἀτρυτώνη σπεῖον ἐγώ πατήρ ...   \n",
       "3     ὅς πόπος οἷος νυ θεός βροτοί αἰτιόω ἡμεῖς φημί...   \n",
       "4     φίλη ἐγώ νεμεσέω ὅστις λέγω μέλει κίθαρις ἀοιδ...   \n",
       "...                                                 ...   \n",
       "3777  σύ χρή ἐς αἰδώς ἀβαιρέω τοὔνω πόντος ἐπέπλως ὄ...   \n",
       "3778  σύ ἐγώ κρύπτω ἔπος ἐπίκειμαι μιν ὅς γι νῆσος ὁ...   \n",
       "3779  ἄγω ἀρτύνω ἡγέομαι Ὀδυσεύς Ἀτρεΐδης Μενέλαος ὁ...   \n",
       "3780  ἄγω λαός σκεδάζω δεῖπνον ἀνόχω ἕπλω δῶρον ἄναξ...   \n",
       "3781  ἄγω περιτέλλω ἐνιαυτός ἕλκω ἀπαλθάνομαι ὅς μάρ...   \n",
       "\n",
       "                                               raw_text  \n",
       "0     κλῦθί μευ ἀργυρότοξʼ, ὃς Χρύσην ἀμφιβέβηκας Κί...  \n",
       "1     κλῦθί μευ αἰγιόχοιο Διὸς τέκος, ἥ τέ μοι αἰεὶ ...  \n",
       "2     κέκλυθι νῦν καὶ ἐμεῖο Διὸς τέκος Ἀτρυτώνη· σπε...  \n",
       "3     ὢ πόποι, οἷον δή νυ θεοὺς βροτοὶ αἰτιόωνται· ἐ...  \n",
       "4     ξεῖνε φίλʼ, ἦ καί μοι νεμεσήσεαι ὅττι κεν εἴπω...  \n",
       "...                                                 ...  \n",
       "3777  Τηλέμαχʼ, οὐ μέν σε χρὴ ἔτʼ αἰδοῦς, οὐδʼ ἠβαιό...  \n",
       "3778  ὢ πόποι, ἦ μάλα δὴ κρατερόφρονος ἀνδρὸς ἐν εὐν...  \n",
       "3779  κέκλυθι νῦν, Εὔμαιε καὶ ἄλλοι πάντες ἑταῖροι, ...  \n",
       "3780  μὴ δʼ οὕτως, ἀγαθός περ ἐών, θεοείκελʼ Ἀχιλλεῦ...  \n",
       "3781  πῇ μέματον; τί σφῶϊν ἐνὶ φρεσὶ μαίνεται ἦτορ; ...  \n",
       "\n",
       "[3782 rows x 6 columns]"
      ]
     },
     "execution_count": 208,
     "metadata": {},
     "output_type": "execute_result"
    }
   ],
   "source": [
    "tr_clusters"
   ]
  },
  {
   "attachments": {},
   "cell_type": "markdown",
   "metadata": {},
   "source": [
    "### Experiment 1 (exp1)"
   ]
  },
  {
   "cell_type": "code",
   "execution_count": 183,
   "metadata": {},
   "outputs": [
    {
     "name": "stdout",
     "output_type": "stream",
     "text": [
      "/home/romanell/Documents/impresso/passim/bin/passim -n 3 --max-repeat 100 data/input/input_lemmatised.json data/passim/exp1\n"
     ]
    }
   ],
   "source": [
    "!cat data/passim/exp1/memo.txt"
   ]
  },
  {
   "cell_type": "code",
   "execution_count": 212,
   "metadata": {},
   "outputs": [
    {
     "name": "stdout",
     "output_type": "stream",
     "text": [
      "There are 23 text reuse clusters in data/passim/exp1/out.json/\n"
     ]
    }
   ],
   "source": [
    "output_path = 'data/passim/exp1/out.json/'\n",
    "tsv_path = 'data/output/passim_clusters_exp1.csv'\n",
    "tr_clusters_exp1 = passim_output_to_dataframe(output_path, tsv_path)"
   ]
  },
  {
   "attachments": {},
   "cell_type": "markdown",
   "metadata": {},
   "source": [
    "### Experiment 2 (exp2)"
   ]
  },
  {
   "cell_type": "code",
   "execution_count": 191,
   "metadata": {},
   "outputs": [
    {
     "name": "stdout",
     "output_type": "stream",
     "text": [
      "/home/romanell/Documents/impresso/passim/bin/passim -n 3 --min-match 3 --max-repeat 100 -w 1 data/input/input_lemmatised.json data/passim/exp2\n"
     ]
    }
   ],
   "source": [
    "!cat data/passim/exp2/memo.txt"
   ]
  },
  {
   "cell_type": "code",
   "execution_count": 213,
   "metadata": {},
   "outputs": [
    {
     "name": "stdout",
     "output_type": "stream",
     "text": [
      "There are 24 text reuse clusters in data/passim/exp2/out.json/\n"
     ]
    }
   ],
   "source": [
    "output_path = 'data/passim/exp2/out.json/'\n",
    "tsv_path = 'data/output/passim_clusters_exp2.csv'\n",
    "tr_clusters_exp2 = passim_output_to_dataframe(output_path, tsv_path)"
   ]
  },
  {
   "attachments": {},
   "cell_type": "markdown",
   "metadata": {},
   "source": [
    "### Experiment 3 (exp3)"
   ]
  },
  {
   "cell_type": "code",
   "execution_count": 192,
   "metadata": {},
   "outputs": [
    {
     "name": "stdout",
     "output_type": "stream",
     "text": [
      "/home/romanell/Documents/impresso/passim/bin/passim -n 3 --min-match 3 --max-repeat 100 -a 10 data/input/input_lemmatised.json data/passim/exp3\n",
      "\n"
     ]
    }
   ],
   "source": [
    "!cat data/passim/exp3/memo.txt"
   ]
  },
  {
   "cell_type": "code",
   "execution_count": 214,
   "metadata": {},
   "outputs": [
    {
     "name": "stdout",
     "output_type": "stream",
     "text": [
      "There are 41 text reuse clusters in data/passim/exp3/out.json/\n"
     ]
    }
   ],
   "source": [
    "output_path = 'data/passim/exp3/out.json/'\n",
    "tsv_path = 'data/output/passim_clusters_exp3.csv'\n",
    "tr_clusters_exp3 = passim_output_to_dataframe(output_path, tsv_path)"
   ]
  },
  {
   "attachments": {},
   "cell_type": "markdown",
   "metadata": {},
   "source": [
    "### Experiment 4 (exp 4)"
   ]
  },
  {
   "cell_type": "code",
   "execution_count": 202,
   "metadata": {},
   "outputs": [
    {
     "name": "stdout",
     "output_type": "stream",
     "text": [
      "/home/romanell/Documents/impresso/passim/bin/passim -n 2 --min-match 2 --max-repeat 100 -a 10 data/input/input_lemmatised.json data/passim/exp4\n"
     ]
    }
   ],
   "source": [
    "!cat data/passim/exp4/memo.txt"
   ]
  },
  {
   "cell_type": "code",
   "execution_count": 210,
   "metadata": {},
   "outputs": [
    {
     "name": "stdout",
     "output_type": "stream",
     "text": [
      "There are 212 text reuse clusters in data/passim/exp4/out.json/\n"
     ]
    }
   ],
   "source": [
    "output_path = 'data/passim/exp4/out.json/'\n",
    "tsv_path = 'data/output/passim_clusters_exp4.csv'\n",
    "tr_clusters_exp4 = passim_output_to_dataframe(output_path, tsv_path)"
   ]
  },
  {
   "attachments": {},
   "cell_type": "markdown",
   "metadata": {},
   "source": [
    "### Experiment 5 (exp5)"
   ]
  },
  {
   "cell_type": "code",
   "execution_count": 8,
   "metadata": {},
   "outputs": [
    {
     "name": "stdout",
     "output_type": "stream",
     "text": [
      "/home/romanell/Documents/impresso/passim/bin/passim -n 3 --min-match 1 --max-repeat 100 -a 10 data/input/input_lemmatised.json data/passim/exp5\n",
      "\n"
     ]
    }
   ],
   "source": [
    "!cat data/passim/exp5/memo.txt"
   ]
  },
  {
   "cell_type": "code",
   "execution_count": 9,
   "metadata": {},
   "outputs": [
    {
     "name": "stdout",
     "output_type": "stream",
     "text": [
      "There are 41 text reuse clusters in data/passim/exp5/out.json/\n"
     ]
    }
   ],
   "source": [
    "output_path = 'data/passim/exp5/out.json/'\n",
    "tsv_path = 'data/output/passim_clusters_exp5.csv'\n",
    "tr_clusters_exp5 = passim_output_to_dataframe(output_path, tsv_path)"
   ]
  },
  {
   "attachments": {},
   "cell_type": "markdown",
   "metadata": {},
   "source": [
    "## Experiment 5 (exp5)"
   ]
  },
  {
   "cell_type": "code",
   "execution_count": 11,
   "metadata": {},
   "outputs": [
    {
     "name": "stdout",
     "output_type": "stream",
     "text": [
      "/home/romanell/Documents/impresso/passim/bin/passim -n 4 --min-match 1 --max-repeat 100 -a 10 data/input/input_lemmatised.json data/passim/exp6\n",
      "\n"
     ]
    }
   ],
   "source": [
    "!cat data/passim/exp6/memo.txt"
   ]
  },
  {
   "cell_type": "code",
   "execution_count": 10,
   "metadata": {},
   "outputs": [
    {
     "name": "stdout",
     "output_type": "stream",
     "text": [
      "There are 36 text reuse clusters in data/passim/exp6/out.json/\n"
     ]
    }
   ],
   "source": [
    "output_path = 'data/passim/exp6/out.json/'\n",
    "tsv_path = 'data/output/passim_clusters_exp6.csv'\n",
    "tr_clusters_exp6 = passim_output_to_dataframe(output_path, tsv_path)"
   ]
  }
 ],
 "metadata": {
  "kernelspec": {
   "display_name": "dices-repetitions",
   "language": "python",
   "name": "python3"
  },
  "language_info": {
   "codemirror_mode": {
    "name": "ipython",
    "version": 3
   },
   "file_extension": ".py",
   "mimetype": "text/x-python",
   "name": "python",
   "nbconvert_exporter": "python",
   "pygments_lexer": "ipython3",
   "version": "3.10.0"
  },
  "orig_nbformat": 4
 },
 "nbformat": 4,
 "nbformat_minor": 2
}
