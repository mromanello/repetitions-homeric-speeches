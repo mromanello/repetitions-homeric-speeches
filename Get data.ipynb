{
 "cells": [
  {
   "attachments": {},
   "cell_type": "markdown",
   "metadata": {},
   "source": [
    "# Repetitions in Homeric speeches: get data\n",
    "\n",
    "The DICES search interface is found at: http://dices.ub.uni-rostock.de/app/speeches/search/ \n",
    "\n",
    "## TODO\n",
    "\n",
    "- ✅ get all speeches for Od. and Il. from Dices API\n",
    "- ✅ filter speeches for relevant tags (giuramenti, istruzioni, preghiere)\n",
    "- ✅ create an initial dataframe with relevant data\n",
    "- ✅ add text fetched from Perseus via CTS URN\n",
    "- ✅ add lemmatised version of text via CLTK\n",
    "- ✅ save data to JSON lines format suitable for processing with passim"
   ]
  },
  {
   "attachments": {},
   "cell_type": "markdown",
   "metadata": {},
   "source": [
    "## Dices tags\n",
    "\n",
    "| Dices tag      | Expansion |\n",
    "| ----------- | ----------- |\n",
    "| cha         | Challenge |\n",
    "| com | Command |\n",
    "| con | Consolation|\n",
    "| del | Deliberation|\n",
    "| des | Desire and Wish|\n",
    "| exh | Exhortation and Self-Exhortation|\n",
    "| far | Farewell|\n",
    "| gre | Greeting and Reception|\n",
    "| inf | Information and Description|\n",
    "| ins | Instruction|\n",
    "| inv | Invitation |\n",
    "| lam | Lament |\n",
    "| lau | Praise and Laudation |\n",
    "| mes | Message|\n",
    "| nar | Narration|\n",
    "| ora | Prophecy, Oracular Speech, and Interpretation|\n",
    "| per | Persuasion|\n",
    "| pra | Prayer|\n",
    "| que | Question|\n",
    "| req | Request|\n",
    "| res | Reply to Question|\n",
    "| tau | Taunt|\n",
    "| thr | Threat|\n",
    "| und | Undefined|\n",
    "| vit | Vituperation|\n",
    "| vow | Promise and Oath|\n",
    "| war | Warning|"
   ]
  },
  {
   "attachments": {},
   "cell_type": "markdown",
   "metadata": {},
   "source": [
    "## Retrieving all Homeric speeches from Dices"
   ]
  },
  {
   "cell_type": "code",
   "execution_count": 1,
   "metadata": {},
   "outputs": [],
   "source": [
    "from dicesapi import DicesAPI\n",
    "import pandas as pd\n",
    "\n",
    "# create a connection to DICES\n",
    "api = DicesAPI(logfile='data/log/dices.log')"
   ]
  },
  {
   "cell_type": "code",
   "execution_count": 2,
   "metadata": {},
   "outputs": [
    {
     "name": "stdout",
     "output_type": "stream",
     "text": [
      "Got 673 speeches\n"
     ]
    }
   ],
   "source": [
    "od_speeches = api.getSpeeches(work_title='Odyssey', progress=True)\n",
    "print('Got', len(od_speeches), 'speeches')"
   ]
  },
  {
   "cell_type": "code",
   "execution_count": 3,
   "metadata": {},
   "outputs": [
    {
     "name": "stdout",
     "output_type": "stream",
     "text": [
      "Got 698 speeches\n"
     ]
    }
   ],
   "source": [
    "il_speeches = api.getSpeeches(work_title='Iliad', progress=True)\n",
    "print('Got', len(il_speeches), 'speeches')"
   ]
  },
  {
   "cell_type": "code",
   "execution_count": 5,
   "metadata": {},
   "outputs": [],
   "source": [
    "speeches = il_speeches + od_speeches"
   ]
  },
  {
   "cell_type": "code",
   "execution_count": 6,
   "metadata": {},
   "outputs": [
    {
     "data": {
      "text/plain": [
       "1371"
      ]
     },
     "execution_count": 6,
     "metadata": {},
     "output_type": "execute_result"
    }
   ],
   "source": [
    "len(speeches)"
   ]
  },
  {
   "attachments": {},
   "cell_type": "markdown",
   "metadata": {},
   "source": [
    "## Filter speeches"
   ]
  },
  {
   "attachments": {},
   "cell_type": "markdown",
   "metadata": {},
   "source": [
    "The `tag` information is contained in the `dicesapi.Speech` class, yet a bid hidden. "
   ]
  },
  {
   "cell_type": "code",
   "execution_count": 124,
   "metadata": {},
   "outputs": [],
   "source": [
    "def filter_speeches_by_tag(speeches_list, tags_to_keep):\n",
    "    filtered_speeches = []\n",
    "    for speech in speeches_list:\n",
    "        matching_tags = list(set([t['type'] for t in speech._attributes['tags']]) & set(tags_to_keep))\n",
    "        if len(matching_tags) > 0:\n",
    "            filtered_speeches.append(speech)\n",
    "    return filtered_speeches"
   ]
  },
  {
   "cell_type": "code",
   "execution_count": 125,
   "metadata": {},
   "outputs": [],
   "source": [
    "# ⚠️ check with Ombretta which tags exactly correspond to \"discorso di istruzione, discorso di recapito\"\n",
    "speeches_subset = filter_speeches_by_tag(speeches, ['vow', 'ins', 'pra', 'mes', 'nar'])"
   ]
  },
  {
   "cell_type": "code",
   "execution_count": 126,
   "metadata": {},
   "outputs": [
    {
     "data": {
      "text/plain": [
       "221"
      ]
     },
     "execution_count": 126,
     "metadata": {},
     "output_type": "execute_result"
    }
   ],
   "source": [
    "len(speeches_subset)"
   ]
  },
  {
   "attachments": {},
   "cell_type": "markdown",
   "metadata": {},
   "source": [
    "## Fetch text of speeches from Perseus"
   ]
  },
  {
   "cell_type": "code",
   "execution_count": 11,
   "metadata": {},
   "outputs": [],
   "source": [
    "from dicesapi.text import CtsAPI\n",
    "from dicesapi.jupyter import NotebookPBar\n",
    "cts = CtsAPI()"
   ]
  },
  {
   "cell_type": "code",
   "execution_count": 12,
   "metadata": {},
   "outputs": [],
   "source": [
    "def download_speech_text(speeches):\n",
    "    '''Download the text of the speeches from CTS server, append to speech objects'''\n",
    "    pbar = NotebookPBar(max=len(speeches), prefix='Downloading text')\n",
    "\n",
    "    for s in speeches:\n",
    "        if not hasattr(s, 'passage') or s.passage is None:\n",
    "            s.passage = cts.getPassage(s)\n",
    "        pbar.update()\n",
    "    return speeches"
   ]
  },
  {
   "cell_type": "code",
   "execution_count": 13,
   "metadata": {},
   "outputs": [
    {
     "data": {
      "text/plain": [
       "1371"
      ]
     },
     "execution_count": 13,
     "metadata": {},
     "output_type": "execute_result"
    }
   ],
   "source": [
    "speeches_subset = speeches\n",
    "len(speeches_subset)"
   ]
  },
  {
   "cell_type": "code",
   "execution_count": 14,
   "metadata": {},
   "outputs": [
    {
     "data": {
      "application/vnd.jupyter.widget-view+json": {
       "model_id": "85322e7a5627440ea42577325e46386d",
       "version_major": 2,
       "version_minor": 0
      },
      "text/plain": [
       "HBox(children=(IntProgress(value=0, bar_style='info', max=1371), Label(value='Downloading text 0/1371')))"
      ]
     },
     "metadata": {},
     "output_type": "display_data"
    }
   ],
   "source": [
    "speeches_subset = download_speech_text(speeches_subset)"
   ]
  },
  {
   "cell_type": "code",
   "execution_count": 15,
   "metadata": {},
   "outputs": [
    {
     "data": {
      "text/plain": [
       "'τίπτε μοι, Ἑρμεία χρυσόρραπι, εἰλήλουθας αἰδοῖός τε φίλος τε; πάρος γε μὲν οὔ τι θαμίζεις. αὔδα ὅ τι φρονέεις· τελέσαι δέ με θυμὸς ἄνωγεν, εἰ δύναμαι τελέσαι γε καὶ εἰ τετελεσμένον ἐστίν. ἀλλʼ ἕπεο προτέρω, ἵνα τοι πὰρ ξείνια θείω.'"
      ]
     },
     "execution_count": 15,
     "metadata": {},
     "output_type": "execute_result"
    }
   ],
   "source": [
    "speeches_subset[-1].passage.text"
   ]
  },
  {
   "cell_type": "code",
   "execution_count": 16,
   "metadata": {},
   "outputs": [
    {
     "data": {
      "text/plain": [
       "1371"
      ]
     },
     "execution_count": 16,
     "metadata": {},
     "output_type": "execute_result"
    }
   ],
   "source": [
    "len(speeches_subset)"
   ]
  },
  {
   "attachments": {},
   "cell_type": "markdown",
   "metadata": {},
   "source": [
    "## Process speeches with CLTK"
   ]
  },
  {
   "cell_type": "code",
   "execution_count": 17,
   "metadata": {},
   "outputs": [],
   "source": [
    "def parse_speech_text(speeches):\n",
    "    '''Run CLTK NLP pipeline to parse all the speeches'''\n",
    "    \n",
    "    pbar = NotebookPBar(max=len(speeches), prefix='Running NLP')\n",
    "\n",
    "    for s in speeches:\n",
    "        if not hasattr(s, 'passage') or s.passage is None:\n",
    "            print('no passage:', s)\n",
    "        elif not hasattr(s.passage, 'cltk') or s.passage.cltk is None:\n",
    "            s.passage.runCltkPipeline(remove_punct=True)\n",
    "        pbar.update()\n",
    "    return speeches\n",
    "\n"
   ]
  },
  {
   "cell_type": "code",
   "execution_count": 18,
   "metadata": {},
   "outputs": [
    {
     "data": {
      "application/vnd.jupyter.widget-view+json": {
       "model_id": "a76f45d8bee445dbb7fa7ef72f88be51",
       "version_major": 2,
       "version_minor": 0
      },
      "text/plain": [
       "HBox(children=(IntProgress(value=0, bar_style='info', max=1371), Label(value='Running NLP 0/1371')))"
      ]
     },
     "metadata": {},
     "output_type": "display_data"
    },
    {
     "name": "stdout",
     "output_type": "stream",
     "text": [
      "no passage: <Speech 931: Odyssey 10.456-10.465>\n"
     ]
    }
   ],
   "source": [
    "speeches_subset = parse_speech_text(speeches_subset)"
   ]
  },
  {
   "cell_type": "code",
   "execution_count": 19,
   "metadata": {},
   "outputs": [
    {
     "data": {
      "text/plain": [
       "'ὦ φίλʼ, ἐπεί σε πρῶτα κιχάνω τῷδʼ ἐνὶ χώρῳ, χαῖρέ τε καὶ μή μοί τι κακῷ νόῳ ἀντιβολήσαις, ἀλλὰ σάω μὲν ταῦτα, σάω δʼ ἐμέ· σοὶ γὰρ ἐγώ γε εὔχομαι ὥς τε θεῷ καί σευ φίλα γούναθʼ ἱκάνω. καί μοι τοῦτʼ ἀγόρευσον ἐτήτυμον, ὄφρʼ ἐῢ εἰδῶ· τίς γῆ, τίς δῆμος, τίνες ἀνέρες ἐγγεγάασιν; ἦ πού τις νήσων εὐδείελος, ἦέ τις ἀκτὴ κεῖθʼ ἁλὶ κεκλιμένη ἐριβώλακος ἠπείροιο;'"
      ]
     },
     "execution_count": 19,
     "metadata": {},
     "output_type": "execute_result"
    }
   ],
   "source": [
    "s = speeches_subset[0]\n",
    "s.passage.text"
   ]
  },
  {
   "cell_type": "code",
   "execution_count": 21,
   "metadata": {},
   "outputs": [
    {
     "data": {
      "text/plain": [
       "{'adjective',\n",
       " 'adverb',\n",
       " 'coordinating_conjunction',\n",
       " 'determiner',\n",
       " 'interjection',\n",
       " 'noun',\n",
       " 'numeral',\n",
       " 'pronoun',\n",
       " 'subordinating_conjunction',\n",
       " 'verb'}"
      ]
     },
     "execution_count": 21,
     "metadata": {},
     "output_type": "execute_result"
    }
   ],
   "source": [
    "# get all pos tags in order to know what to keep and what to exclude\n",
    "set([str(w.pos) for w in s.passage.cltk for s in speeches_subset])"
   ]
  },
  {
   "cell_type": "code",
   "execution_count": 22,
   "metadata": {},
   "outputs": [
    {
     "data": {
      "text/plain": [
       "'φίλη σύ πρῶτος κιχάνω οὗδος χῶρος χαίρω μή ἐγώ τὶς κακός νόος ἀντιβολέω σύ μέν οὗτος σῴζω δʼ ἐγώ σύ γάρ ἐγώ γε εὔχομαι ὡς θεός σύ φίλος γούνα ἱκάνω ἐγώ οὗτος ἀγορεύω τυμόω ἐγώ οἶδα τίς γῆ τίς δῆμος τίς ἀνήρ ἐγγάγω ἦ πού τὶς νῆσος εὐδείελος ἐγώ ἀκτή κεῖος ἅλς κλίνω ἐριβάλλω ἀπείρω'"
      ]
     },
     "execution_count": 22,
     "metadata": {},
     "output_type": "execute_result"
    }
   ],
   "source": [
    "keep_pos_tags = ['verb', 'pronoun', 'noun', 'proper_noun', 'adjective', 'adverb']\n",
    "\" \".join([w.lemma for w in s.passage.cltk if str(w.pos) in keep_pos_tags])"
   ]
  },
  {
   "attachments": {},
   "cell_type": "markdown",
   "metadata": {},
   "source": [
    "## Speeches to Dataframe"
   ]
  },
  {
   "cell_type": "code",
   "execution_count": 23,
   "metadata": {},
   "outputs": [
    {
     "data": {
      "text/plain": [
       "1371"
      ]
     },
     "execution_count": 23,
     "metadata": {},
     "output_type": "execute_result"
    }
   ],
   "source": [
    "len(speeches_subset)"
   ]
  },
  {
   "cell_type": "code",
   "execution_count": 32,
   "metadata": {},
   "outputs": [
    {
     "data": {
      "text/plain": [
       "'Odysseus'"
      ]
     },
     "execution_count": 32,
     "metadata": {},
     "output_type": "execute_result"
    }
   ],
   "source": [
    "speeches_subset[0].getSpkrString()"
   ]
  },
  {
   "cell_type": "code",
   "execution_count": 35,
   "metadata": {},
   "outputs": [
    {
     "data": {
      "text/plain": [
       "'Athena'"
      ]
     },
     "execution_count": 35,
     "metadata": {},
     "output_type": "execute_result"
    }
   ],
   "source": [
    "speeches_subset[0].getAddrString()"
   ]
  },
  {
   "cell_type": "code",
   "execution_count": 45,
   "metadata": {},
   "outputs": [],
   "source": [
    "def make_speeches_table(speeches) -> pd.DataFrame:\n",
    "\n",
    "    keep_pos_tags = ['verb', 'pronoun', 'noun', 'proper_noun']\n",
    "\n",
    "    return pd.DataFrame(dict(\n",
    "        speech_id = speech.id,\n",
    "        group = f\"speech-{'-'.join(sorted([tag['type'] for tag in speech._attributes['tags']]))}\",\n",
    "        length = len([w for w in speech.passage.text]) if speech.passage else None,\n",
    "        passage_urn = speech.urn,\n",
    "        speaker = speech.getSpkrString(),\n",
    "        addressee = speech.getAddrString(),\n",
    "        lemmatised_text = \" \".join([w.lemma for w in speech.passage.cltk]) if speech.passage else None,\n",
    "        lemmatised_filtered_text = \" \".join([w.lemma for w in speech.passage.cltk if str(w.pos) in keep_pos_tags]) if speech.passage else None,\n",
    "        text = speech.passage.text if speech.passage else None,\n",
    "        label = f\"{speech.author.name}, {speech.work.title} {speech.urn.split(':')[-1]}\",\n",
    "        dices_tags = '|'.join(sorted([tag['type'] for tag in speech._attributes['tags']]))\n",
    "    ) for speech in speeches)"
   ]
  },
  {
   "cell_type": "code",
   "execution_count": 46,
   "metadata": {},
   "outputs": [],
   "source": [
    "speeches_df = make_speeches_table(speeches_subset)"
   ]
  },
  {
   "cell_type": "code",
   "execution_count": 47,
   "metadata": {},
   "outputs": [
    {
     "data": {
      "text/html": [
       "<div>\n",
       "<style scoped>\n",
       "    .dataframe tbody tr th:only-of-type {\n",
       "        vertical-align: middle;\n",
       "    }\n",
       "\n",
       "    .dataframe tbody tr th {\n",
       "        vertical-align: top;\n",
       "    }\n",
       "\n",
       "    .dataframe thead th {\n",
       "        text-align: right;\n",
       "    }\n",
       "</style>\n",
       "<table border=\"1\" class=\"dataframe\">\n",
       "  <thead>\n",
       "    <tr style=\"text-align: right;\">\n",
       "      <th></th>\n",
       "      <th>speech_id</th>\n",
       "      <th>group</th>\n",
       "      <th>length</th>\n",
       "      <th>passage_urn</th>\n",
       "      <th>speaker</th>\n",
       "      <th>addressee</th>\n",
       "      <th>lemmatised_text</th>\n",
       "      <th>lemmatised_filtered_text</th>\n",
       "      <th>text</th>\n",
       "      <th>label</th>\n",
       "      <th>dices_tags</th>\n",
       "    </tr>\n",
       "  </thead>\n",
       "  <tbody>\n",
       "    <tr>\n",
       "      <th>0</th>\n",
       "      <td>995</td>\n",
       "      <td>speech-que</td>\n",
       "      <td>354.0</td>\n",
       "      <td>urn:cts:greekLit:tlg0012.tlg002.perseus-grc2:1...</td>\n",
       "      <td>Odysseus</td>\n",
       "      <td>Athena</td>\n",
       "      <td>ὦ φίλη ἐπεί σύ πρῶτος κιχάνω οὗδος εἷς χῶρος χ...</td>\n",
       "      <td>φίλη σύ κιχάνω χῶρος χαίρω ἐγώ νόος ἀντιβολέω ...</td>\n",
       "      <td>ὦ φίλʼ, ἐπεί σε πρῶτα κιχάνω τῷδʼ ἐνὶ χώρῳ, χα...</td>\n",
       "      <td>Homer, Odyssey 13.228-13.235</td>\n",
       "      <td>que</td>\n",
       "    </tr>\n",
       "    <tr>\n",
       "      <th>1</th>\n",
       "      <td>996</td>\n",
       "      <td>speech-inf-res</td>\n",
       "      <td>576.0</td>\n",
       "      <td>urn:cts:greekLit:tlg0012.tlg002.perseus-grc2:1...</td>\n",
       "      <td>Athena</td>\n",
       "      <td>Odysseus</td>\n",
       "      <td>νήπιος εἰς ὦ ξένος ἤ τηλόθεν εἰλήλουθος εἰ δή ...</td>\n",
       "      <td>ξένος γαῖα ἀναιρέω νώνυμος οἶδα μιν ἠμεῖς ὅσος...</td>\n",
       "      <td>νήπιός εἰς, ὦ ξεῖνʼ, ἢ τηλόθεν εἰλήλουθας, εἰ ...</td>\n",
       "      <td>Homer, Odyssey 13.237-13.249</td>\n",
       "      <td>inf|res</td>\n",
       "    </tr>\n",
       "    <tr>\n",
       "      <th>2</th>\n",
       "      <td>997</td>\n",
       "      <td>speech-lam-nar</td>\n",
       "      <td>1372.0</td>\n",
       "      <td>urn:cts:greekLit:tlg0012.tlg002.perseus-grc2:1...</td>\n",
       "      <td>Odysseus</td>\n",
       "      <td>Athena</td>\n",
       "      <td>πυνθάνομαι Ἰθάκης γε καί ἐν Κρήτη εὐρεῖος τηλό...</td>\n",
       "      <td>πυνθάνομαι Ἰθάκης Κρήτη Πόντος εἰληλόω χρῆμα λ...</td>\n",
       "      <td>πυνθανόμην Ἰθάκης γε καὶ ἐν Κρήτῃ εὐρείῃ, τηλο...</td>\n",
       "      <td>Homer, Odyssey 13.256-13.286</td>\n",
       "      <td>lam|nar</td>\n",
       "    </tr>\n",
       "    <tr>\n",
       "      <th>3</th>\n",
       "      <td>998</td>\n",
       "      <td>speech-del</td>\n",
       "      <td>897.0</td>\n",
       "      <td>urn:cts:greekLit:tlg0012.tlg002.perseus-grc2:1...</td>\n",
       "      <td>Athena</td>\n",
       "      <td>Odysseus</td>\n",
       "      <td>κερδαλής κʼ εἰμί καί ἐπίκλοπος ὅς σύ παρέρχομα...</td>\n",
       "      <td>ἐπίκλοπος ὅς σύ παρέρχομαι δόλος θεός ἀντιάζω ...</td>\n",
       "      <td>κερδαλέος κʼ εἴη καὶ ἐπίκλοπος ὅς σε παρέλθοι ...</td>\n",
       "      <td>Homer, Odyssey 13.291-13.310</td>\n",
       "      <td>del</td>\n",
       "    </tr>\n",
       "    <tr>\n",
       "      <th>4</th>\n",
       "      <td>999</td>\n",
       "      <td>speech-del</td>\n",
       "      <td>757.0</td>\n",
       "      <td>urn:cts:greekLit:tlg0012.tlg002.perseus-grc2:1...</td>\n",
       "      <td>Odysseus</td>\n",
       "      <td>Athena</td>\n",
       "      <td>ἀργαλέων σύ τεάομαι γιγνώσκω βροτός ἀντιάζω κα...</td>\n",
       "      <td>σύ τεάομαι γιγνώσκω βροτός ἀντιάζω μαγος ἐπίστ...</td>\n",
       "      <td>ἀργαλέον σε, θεά, γνῶναι βροτῷ ἀντιάσαντι, καὶ...</td>\n",
       "      <td>Homer, Odyssey 13.312-13.328</td>\n",
       "      <td>del</td>\n",
       "    </tr>\n",
       "    <tr>\n",
       "      <th>...</th>\n",
       "      <td>...</td>\n",
       "      <td>...</td>\n",
       "      <td>...</td>\n",
       "      <td>...</td>\n",
       "      <td>...</td>\n",
       "      <td>...</td>\n",
       "      <td>...</td>\n",
       "      <td>...</td>\n",
       "      <td>...</td>\n",
       "      <td>...</td>\n",
       "      <td>...</td>\n",
       "    </tr>\n",
       "    <tr>\n",
       "      <th>1366</th>\n",
       "      <td>809</td>\n",
       "      <td>speech-res</td>\n",
       "      <td>87.0</td>\n",
       "      <td>urn:cts:greekLit:tlg0012.tlg002.perseus-grc2:4...</td>\n",
       "      <td>dream</td>\n",
       "      <td>Penelope</td>\n",
       "      <td>οὐ μέν σύ ἐκεῖνος γε διηνεκέως ἀγορεύω ζῶ ὅς γ...</td>\n",
       "      <td>σύ ἀγορεύω ζῶ ὅς γι θνῄσκω ἀνεμώλιον βάζω</td>\n",
       "      <td>οὐ μέν τοι κεῖνόν γε διηνεκέως ἀγορεύσω, ζώει ...</td>\n",
       "      <td>Homer, Odyssey 4.836-4.837</td>\n",
       "      <td>res</td>\n",
       "    </tr>\n",
       "    <tr>\n",
       "      <th>1367</th>\n",
       "      <td>810</td>\n",
       "      <td>speech-per-req</td>\n",
       "      <td>610.0</td>\n",
       "      <td>urn:cts:greekLit:tlg0012.tlg002.perseus-grc2:5...</td>\n",
       "      <td>Athena</td>\n",
       "      <td>Zeus</td>\n",
       "      <td>Ζεύς πατήρ ἠδʼ ἄλλος μάκαρος θεός ἀείν εἰμί μή...</td>\n",
       "      <td>πατήρ θεός πρόφρον σκηπτοῦχος βασιλεύς φρήν οἶ...</td>\n",
       "      <td>Ζεῦ πάτερ ἠδʼ ἄλλοι μάκαρες θεοὶ αἰὲν ἐόντες, ...</td>\n",
       "      <td>Homer, Odyssey 5.7-5.20</td>\n",
       "      <td>per|req</td>\n",
       "    </tr>\n",
       "    <tr>\n",
       "      <th>1368</th>\n",
       "      <td>811</td>\n",
       "      <td>speech-ins</td>\n",
       "      <td>270.0</td>\n",
       "      <td>urn:cts:greekLit:tlg0012.tlg002.perseus-grc2:5...</td>\n",
       "      <td>Zeus</td>\n",
       "      <td>Athena</td>\n",
       "      <td>τέκνον ἐμός ποῖος σύ ἔπος φεύγω ἕρκος ὀδούς οὐ...</td>\n",
       "      <td>τέκνον ποῖος σύ ἔπος φεύγω ἕρκος ὀδούς βουλεύω...</td>\n",
       "      <td>τέκνον ἐμόν, ποῖόν σε ἔπος φύγεν ἕρκος ὀδόντων...</td>\n",
       "      <td>Homer, Odyssey 5.22-5.27</td>\n",
       "      <td>ins</td>\n",
       "    </tr>\n",
       "    <tr>\n",
       "      <th>1369</th>\n",
       "      <td>812</td>\n",
       "      <td>speech-com</td>\n",
       "      <td>613.0</td>\n",
       "      <td>urn:cts:greekLit:tlg0012.tlg002.perseus-grc2:5...</td>\n",
       "      <td>Zeus</td>\n",
       "      <td>Hermes</td>\n",
       "      <td>Ἑρμεία σύ γάρ ὅστις ὁ τʼ ἄλλος πέρ ἄγγελος ἐγώ...</td>\n",
       "      <td>Ἑρμεία σύ ὅστις ἄγγελος ἐγώ νύμφη λέγω βουλή ν...</td>\n",
       "      <td>Ἑρμεία, σὺ γὰρ αὖτε τά τʼ ἄλλα περ ἄγγελός ἐσσ...</td>\n",
       "      <td>Homer, Odyssey 5.29-5.42</td>\n",
       "      <td>com</td>\n",
       "    </tr>\n",
       "    <tr>\n",
       "      <th>1370</th>\n",
       "      <td>813</td>\n",
       "      <td>speech-gre-inv-que</td>\n",
       "      <td>231.0</td>\n",
       "      <td>urn:cts:greekLit:tlg0012.tlg002.perseus-grc2:5...</td>\n",
       "      <td>Calypso</td>\n",
       "      <td>Hermes</td>\n",
       "      <td>τίπτω ἐγώ Ἑρμεία χρυσόρραπα εἰλήλουθος αἰδοῖς ...</td>\n",
       "      <td>τίπτω ἐγώ Ἑρμεία χρυσόρραπα αἰδοῖς φίλος θαμίζ...</td>\n",
       "      <td>τίπτε μοι, Ἑρμεία χρυσόρραπι, εἰλήλουθας αἰδοῖ...</td>\n",
       "      <td>Homer, Odyssey 5.87-5.91</td>\n",
       "      <td>gre|inv|que</td>\n",
       "    </tr>\n",
       "  </tbody>\n",
       "</table>\n",
       "<p>1371 rows × 11 columns</p>\n",
       "</div>"
      ],
      "text/plain": [
       "      speech_id               group  length   \n",
       "0           995          speech-que   354.0  \\\n",
       "1           996      speech-inf-res   576.0   \n",
       "2           997      speech-lam-nar  1372.0   \n",
       "3           998          speech-del   897.0   \n",
       "4           999          speech-del   757.0   \n",
       "...         ...                 ...     ...   \n",
       "1366        809          speech-res    87.0   \n",
       "1367        810      speech-per-req   610.0   \n",
       "1368        811          speech-ins   270.0   \n",
       "1369        812          speech-com   613.0   \n",
       "1370        813  speech-gre-inv-que   231.0   \n",
       "\n",
       "                                            passage_urn   speaker addressee   \n",
       "0     urn:cts:greekLit:tlg0012.tlg002.perseus-grc2:1...  Odysseus    Athena  \\\n",
       "1     urn:cts:greekLit:tlg0012.tlg002.perseus-grc2:1...    Athena  Odysseus   \n",
       "2     urn:cts:greekLit:tlg0012.tlg002.perseus-grc2:1...  Odysseus    Athena   \n",
       "3     urn:cts:greekLit:tlg0012.tlg002.perseus-grc2:1...    Athena  Odysseus   \n",
       "4     urn:cts:greekLit:tlg0012.tlg002.perseus-grc2:1...  Odysseus    Athena   \n",
       "...                                                 ...       ...       ...   \n",
       "1366  urn:cts:greekLit:tlg0012.tlg002.perseus-grc2:4...     dream  Penelope   \n",
       "1367  urn:cts:greekLit:tlg0012.tlg002.perseus-grc2:5...    Athena      Zeus   \n",
       "1368  urn:cts:greekLit:tlg0012.tlg002.perseus-grc2:5...      Zeus    Athena   \n",
       "1369  urn:cts:greekLit:tlg0012.tlg002.perseus-grc2:5...      Zeus    Hermes   \n",
       "1370  urn:cts:greekLit:tlg0012.tlg002.perseus-grc2:5...   Calypso    Hermes   \n",
       "\n",
       "                                        lemmatised_text   \n",
       "0     ὦ φίλη ἐπεί σύ πρῶτος κιχάνω οὗδος εἷς χῶρος χ...  \\\n",
       "1     νήπιος εἰς ὦ ξένος ἤ τηλόθεν εἰλήλουθος εἰ δή ...   \n",
       "2     πυνθάνομαι Ἰθάκης γε καί ἐν Κρήτη εὐρεῖος τηλό...   \n",
       "3     κερδαλής κʼ εἰμί καί ἐπίκλοπος ὅς σύ παρέρχομα...   \n",
       "4     ἀργαλέων σύ τεάομαι γιγνώσκω βροτός ἀντιάζω κα...   \n",
       "...                                                 ...   \n",
       "1366  οὐ μέν σύ ἐκεῖνος γε διηνεκέως ἀγορεύω ζῶ ὅς γ...   \n",
       "1367  Ζεύς πατήρ ἠδʼ ἄλλος μάκαρος θεός ἀείν εἰμί μή...   \n",
       "1368  τέκνον ἐμός ποῖος σύ ἔπος φεύγω ἕρκος ὀδούς οὐ...   \n",
       "1369  Ἑρμεία σύ γάρ ὅστις ὁ τʼ ἄλλος πέρ ἄγγελος ἐγώ...   \n",
       "1370  τίπτω ἐγώ Ἑρμεία χρυσόρραπα εἰλήλουθος αἰδοῖς ...   \n",
       "\n",
       "                               lemmatised_filtered_text   \n",
       "0     φίλη σύ κιχάνω χῶρος χαίρω ἐγώ νόος ἀντιβολέω ...  \\\n",
       "1     ξένος γαῖα ἀναιρέω νώνυμος οἶδα μιν ἠμεῖς ὅσος...   \n",
       "2     πυνθάνομαι Ἰθάκης Κρήτη Πόντος εἰληλόω χρῆμα λ...   \n",
       "3     ἐπίκλοπος ὅς σύ παρέρχομαι δόλος θεός ἀντιάζω ...   \n",
       "4     σύ τεάομαι γιγνώσκω βροτός ἀντιάζω μαγος ἐπίστ...   \n",
       "...                                                 ...   \n",
       "1366          σύ ἀγορεύω ζῶ ὅς γι θνῄσκω ἀνεμώλιον βάζω   \n",
       "1367  πατήρ θεός πρόφρον σκηπτοῦχος βασιλεύς φρήν οἶ...   \n",
       "1368  τέκνον ποῖος σύ ἔπος φεύγω ἕρκος ὀδούς βουλεύω...   \n",
       "1369  Ἑρμεία σύ ὅστις ἄγγελος ἐγώ νύμφη λέγω βουλή ν...   \n",
       "1370  τίπτω ἐγώ Ἑρμεία χρυσόρραπα αἰδοῖς φίλος θαμίζ...   \n",
       "\n",
       "                                                   text   \n",
       "0     ὦ φίλʼ, ἐπεί σε πρῶτα κιχάνω τῷδʼ ἐνὶ χώρῳ, χα...  \\\n",
       "1     νήπιός εἰς, ὦ ξεῖνʼ, ἢ τηλόθεν εἰλήλουθας, εἰ ...   \n",
       "2     πυνθανόμην Ἰθάκης γε καὶ ἐν Κρήτῃ εὐρείῃ, τηλο...   \n",
       "3     κερδαλέος κʼ εἴη καὶ ἐπίκλοπος ὅς σε παρέλθοι ...   \n",
       "4     ἀργαλέον σε, θεά, γνῶναι βροτῷ ἀντιάσαντι, καὶ...   \n",
       "...                                                 ...   \n",
       "1366  οὐ μέν τοι κεῖνόν γε διηνεκέως ἀγορεύσω, ζώει ...   \n",
       "1367  Ζεῦ πάτερ ἠδʼ ἄλλοι μάκαρες θεοὶ αἰὲν ἐόντες, ...   \n",
       "1368  τέκνον ἐμόν, ποῖόν σε ἔπος φύγεν ἕρκος ὀδόντων...   \n",
       "1369  Ἑρμεία, σὺ γὰρ αὖτε τά τʼ ἄλλα περ ἄγγελός ἐσσ...   \n",
       "1370  τίπτε μοι, Ἑρμεία χρυσόρραπι, εἰλήλουθας αἰδοῖ...   \n",
       "\n",
       "                             label   dices_tags  \n",
       "0     Homer, Odyssey 13.228-13.235          que  \n",
       "1     Homer, Odyssey 13.237-13.249      inf|res  \n",
       "2     Homer, Odyssey 13.256-13.286      lam|nar  \n",
       "3     Homer, Odyssey 13.291-13.310          del  \n",
       "4     Homer, Odyssey 13.312-13.328          del  \n",
       "...                            ...          ...  \n",
       "1366    Homer, Odyssey 4.836-4.837          res  \n",
       "1367       Homer, Odyssey 5.7-5.20      per|req  \n",
       "1368      Homer, Odyssey 5.22-5.27          ins  \n",
       "1369      Homer, Odyssey 5.29-5.42          com  \n",
       "1370      Homer, Odyssey 5.87-5.91  gre|inv|que  \n",
       "\n",
       "[1371 rows x 11 columns]"
      ]
     },
     "execution_count": 47,
     "metadata": {},
     "output_type": "execute_result"
    }
   ],
   "source": [
    "speeches_df"
   ]
  },
  {
   "attachments": {},
   "cell_type": "markdown",
   "metadata": {},
   "source": [
    "## Convert speeches to Passim format\n",
    "\n",
    "```json\n",
    "{\n",
    "    \"id\": \"...\",\n",
    "    \"group\": \"...\",\n",
    "    \"text\": \"...\",\n",
    "}"
   ]
  },
  {
   "cell_type": "code",
   "execution_count": 48,
   "metadata": {},
   "outputs": [],
   "source": [
    "import json\n",
    "\n",
    "def speeches_to_passim(speeches_df : pd.DataFrame, json_path : str, lemmatised=False) -> None:\n",
    "\n",
    "    # transform DataFrame to passim-amenable JSON\n",
    "    docs = [\n",
    "        {\n",
    "            \"id\" : idx,\n",
    "            \"group\": row.group,\n",
    "            \"label\": row.label,\n",
    "            \"dices_tags\": row.dices_tags,\n",
    "            \"text\": row.lemmatised_filtered_text if lemmatised else row.text,\n",
    "            \"raw_text\": row.text if lemmatised else None,\n",
    "            \"passage_urn\": row.passage_urn\n",
    "        }\n",
    "        for idx, row in speeches_df.iterrows()\n",
    "    ]\n",
    "\n",
    "    # write passim docs to JSON file\n",
    "    with open(json_path, 'w', encoding='utf-8') as f:\n",
    "        for d in docs:\n",
    "            print(json.dumps(d, ensure_ascii=False), file=f)\n",
    "\n"
   ]
  },
  {
   "cell_type": "code",
   "execution_count": 149,
   "metadata": {},
   "outputs": [],
   "source": [
    "# speeches_to_passim(speeches_df, 'test_input.json')"
   ]
  },
  {
   "cell_type": "code",
   "execution_count": 53,
   "metadata": {},
   "outputs": [],
   "source": [
    "passim_input_path = 'data/input/homeric_speeches_lemmatised.json'"
   ]
  },
  {
   "cell_type": "code",
   "execution_count": 54,
   "metadata": {},
   "outputs": [],
   "source": [
    "speeches_to_passim(speeches_df[~speeches_df.text.isna()], passim_input_path, lemmatised=True)"
   ]
  },
  {
   "attachments": {},
   "cell_type": "markdown",
   "metadata": {},
   "source": [
    "## Run Passim"
   ]
  },
  {
   "cell_type": "code",
   "execution_count": 161,
   "metadata": {},
   "outputs": [],
   "source": [
    "passim_output_path = \"data/passim/out_cluster/\"\n",
    "passim_logfile = \"data/log/passim.log\""
   ]
  },
  {
   "cell_type": "code",
   "execution_count": 162,
   "metadata": {},
   "outputs": [],
   "source": [
    "!rm -r {passim_output_path}"
   ]
  },
  {
   "cell_type": "code",
   "execution_count": 124,
   "metadata": {},
   "outputs": [
    {
     "name": "stdout",
     "output_type": "stream",
     "text": [
      "^C\n"
     ]
    }
   ],
   "source": [
    "# -a : Minimum length of alignment (default: 50)\n",
    "!seriatim -a 5 {passim_input_path} {passim_output_path} >& {passim_logfile}"
   ]
  },
  {
   "attachments": {},
   "cell_type": "markdown",
   "metadata": {},
   "source": [
    "## Read Passim's output"
   ]
  },
  {
   "cell_type": "code",
   "execution_count": 7,
   "metadata": {},
   "outputs": [],
   "source": [
    "import glob, itertools, json\n",
    "import pandas as pd\n",
    "\n",
    "# Read one JSON record per line\n",
    "def read_jsonl_file(f):\n",
    "  res = []\n",
    "  for line in f:\n",
    "    res.append(json.loads(line))\n",
    "  return res\n",
    "\n",
    "def read_jsonl(d):\n",
    "  return list(itertools.chain.from_iterable([read_jsonl_file(open(f)) for f in glob.glob(d + '/*.json')]))"
   ]
  },
  {
   "cell_type": "code",
   "execution_count": 4,
   "metadata": {},
   "outputs": [],
   "source": [
    "def passim_output_to_dataframe(output_path, dataframe_path, columns_to_keep=['cluster', 'id', 'label', 'dices_tags', 'text', 'raw_text']) -> pd.DataFrame:\n",
    "    tr_clusters = pd.DataFrame(read_jsonl(output_path))\n",
    "    print(f'There are {tr_clusters.cluster.unique().size} text reuse clusters in {output_path}')\n",
    "    output_df = tr_clusters[columns_to_keep]\n",
    "    output_df.to_csv(dataframe_path)\n",
    "    return output_df"
   ]
  },
  {
   "attachments": {},
   "cell_type": "markdown",
   "metadata": {},
   "source": [
    "## Experiments\n",
    "\n",
    "| Experiment ID     | Passim parameters | Explanation  | \\# of extracted clusters |\n",
    "| ----------- | ----------- |----------|------------|\n",
    "| `exp0`      | `-n 1 --min-match 1 -a 5` | reused passages consist of at least 1 shared n-grams of size 1 (uni-gram) | 1066 |\n",
    "| `exp1`| `-n 3 --max-repeat 100`|reused passages consist of at least 5 shared n-grams of size 3 (uni-gram)|23|\n",
    "| `exp2`|`-n 3 --min-match 3 --max-repeat 100 -w 1`|reused passages consist of at least 3 shared n-grams of size 3 (tri-grams)|24|\n",
    "| `exp3`|`-n 3 --min-match 3 --max-repeat 100 -a 10`|reused passages consist of at least 3 shared n-grams of size 3, and the aligned passage should be at least 10 characters long (default is `20`)|41|\n",
    "| `exp4`|`-n 2 --min-match 2 --max-repeat 100 -a 10`|reused passages consist of at least 2 shared n-grams of size 2 (bi-grams), and the aligned passage should be at least 10 characters long (default is `20`)|212|\n",
    "| `exp5`|`-n 3 --min-match 1 --max-repeat 100 -a 10`|reused passages consist of at least 1 shared n-grams of size 3 (tri-grams), and the aligned passage should be at least 10 characters long (default is `20`)|41|\n",
    "| `exp6`|`-n 4 --min-match 1 --max-repeat 100 -a 10`|reused passages consist of at least 1 shared n-grams of size 4 (bi-grams), and the aligned passage should be at least 10 characters long (default is `20`)|36|"
   ]
  },
  {
   "attachments": {},
   "cell_type": "markdown",
   "metadata": {},
   "source": [
    "### Experiment 0 (exp0)"
   ]
  },
  {
   "cell_type": "code",
   "execution_count": 205,
   "metadata": {},
   "outputs": [
    {
     "name": "stdout",
     "output_type": "stream",
     "text": [
      "/home/romanell/Documents/impresso/passim/bin/passim -n 1 --min-match 1 -a 5 --max-repeat 100 -w 1 data/input/input_lemmatised.json data/passim/out_cluster\n"
     ]
    }
   ],
   "source": [
    "!cat data/passim/exp0/memo.txt"
   ]
  },
  {
   "cell_type": "code",
   "execution_count": 207,
   "metadata": {},
   "outputs": [
    {
     "name": "stdout",
     "output_type": "stream",
     "text": [
      "There are 1066 text reuse clusters in data/passim/exp0/out.json/\n"
     ]
    }
   ],
   "source": [
    "output_path = 'data/passim/exp0/out.json/'\n",
    "tsv_path = 'data/output/passim_clusters_exp0.csv'\n",
    "tr_clusters = passim_output_to_dataframe(output_path, tsv_path)"
   ]
  },
  {
   "cell_type": "code",
   "execution_count": 208,
   "metadata": {},
   "outputs": [
    {
     "data": {
      "text/html": [
       "<div>\n",
       "<style scoped>\n",
       "    .dataframe tbody tr th:only-of-type {\n",
       "        vertical-align: middle;\n",
       "    }\n",
       "\n",
       "    .dataframe tbody tr th {\n",
       "        vertical-align: top;\n",
       "    }\n",
       "\n",
       "    .dataframe thead th {\n",
       "        text-align: right;\n",
       "    }\n",
       "</style>\n",
       "<table border=\"1\" class=\"dataframe\">\n",
       "  <thead>\n",
       "    <tr style=\"text-align: right;\">\n",
       "      <th></th>\n",
       "      <th>cluster</th>\n",
       "      <th>id</th>\n",
       "      <th>label</th>\n",
       "      <th>dices_tags</th>\n",
       "      <th>text</th>\n",
       "      <th>raw_text</th>\n",
       "    </tr>\n",
       "  </thead>\n",
       "  <tbody>\n",
       "    <tr>\n",
       "      <th>0</th>\n",
       "      <td>0</td>\n",
       "      <td>0</td>\n",
       "      <td>Homer, Iliad 1.37-1.42</td>\n",
       "      <td>pra|req</td>\n",
       "      <td>κλίνω ἐγώ ὅς Χρύση ἀμφιβαίνω Κίλλας Τενέδοιος ...</td>\n",
       "      <td>κλῦθί μευ ἀργυρότοξʼ, ὃς Χρύσην ἀμφιβέβηκας Κί...</td>\n",
       "    </tr>\n",
       "    <tr>\n",
       "      <th>1</th>\n",
       "      <td>0</td>\n",
       "      <td>1</td>\n",
       "      <td>Homer, Iliad 10.278-10.282</td>\n",
       "      <td>pra|req</td>\n",
       "      <td>κλίνω ἐγώ αἴγιοχος Ζεύς τέκος ὅς ἐγώ πόνος παρ...</td>\n",
       "      <td>κλῦθί μευ αἰγιόχοιο Διὸς τέκος, ἥ τέ μοι αἰεὶ ...</td>\n",
       "    </tr>\n",
       "    <tr>\n",
       "      <th>2</th>\n",
       "      <td>0</td>\n",
       "      <td>2</td>\n",
       "      <td>Homer, Iliad 10.284-10.294</td>\n",
       "      <td>pra|req</td>\n",
       "      <td>κλύω ἐγώ Ζεύς τέκος Ἀτρυτώνη σπεῖον ἐγώ πατήρ ...</td>\n",
       "      <td>κέκλυθι νῦν καὶ ἐμεῖο Διὸς τέκος Ἀτρυτώνη· σπε...</td>\n",
       "    </tr>\n",
       "    <tr>\n",
       "      <th>3</th>\n",
       "      <td>0</td>\n",
       "      <td>4</td>\n",
       "      <td>Homer, Odyssey 1.32-1.43</td>\n",
       "      <td>lam|nar</td>\n",
       "      <td>ὅς πόπος οἷος νυ θεός βροτοί αἰτιόω ἡμεῖς φημί...</td>\n",
       "      <td>ὢ πόποι, οἷον δή νυ θεοὺς βροτοὶ αἰτιόωνται· ἐ...</td>\n",
       "    </tr>\n",
       "    <tr>\n",
       "      <th>4</th>\n",
       "      <td>0</td>\n",
       "      <td>6</td>\n",
       "      <td>Homer, Odyssey 1.158-1.177</td>\n",
       "      <td>nar|que</td>\n",
       "      <td>φίλη ἐγώ νεμεσέω ὅστις λέγω μέλει κίθαρις ἀοιδ...</td>\n",
       "      <td>ξεῖνε φίλʼ, ἦ καί μοι νεμεσήσεαι ὅττι κεν εἴπω...</td>\n",
       "    </tr>\n",
       "    <tr>\n",
       "      <th>...</th>\n",
       "      <td>...</td>\n",
       "      <td>...</td>\n",
       "      <td>...</td>\n",
       "      <td>...</td>\n",
       "      <td>...</td>\n",
       "      <td>...</td>\n",
       "    </tr>\n",
       "    <tr>\n",
       "      <th>3777</th>\n",
       "      <td>8589936020</td>\n",
       "      <td>123</td>\n",
       "      <td>Homer, Odyssey 3.14-3.20</td>\n",
       "      <td>ins</td>\n",
       "      <td>σύ χρή ἐς αἰδώς ἀβαιρέω τοὔνω πόντος ἐπέπλως ὄ...</td>\n",
       "      <td>Τηλέμαχʼ, οὐ μέν σε χρὴ ἔτʼ αἰδοῦς, οὐδʼ ἠβαιό...</td>\n",
       "    </tr>\n",
       "    <tr>\n",
       "      <th>3778</th>\n",
       "      <td>8589936020</td>\n",
       "      <td>180</td>\n",
       "      <td>Homer, Odyssey 17.124-17.146</td>\n",
       "      <td>inf|nar</td>\n",
       "      <td>σύ ἐγώ κρύπτω ἔπος ἐπίκειμαι μιν ὅς γι νῆσος ὁ...</td>\n",
       "      <td>ὢ πόποι, ἦ μάλα δὴ κρατερόφρονος ἀνδρὸς ἐν εὐν...</td>\n",
       "    </tr>\n",
       "    <tr>\n",
       "      <th>3779</th>\n",
       "      <td>8589936118</td>\n",
       "      <td>109</td>\n",
       "      <td>Homer, Odyssey 14.462-14.506</td>\n",
       "      <td>nar</td>\n",
       "      <td>ἄγω ἀρτύνω ἡγέομαι Ὀδυσεύς Ἀτρεΐδης Μενέλαος ὁ...</td>\n",
       "      <td>κέκλυθι νῦν, Εὔμαιε καὶ ἄλλοι πάντες ἑταῖροι, ...</td>\n",
       "    </tr>\n",
       "    <tr>\n",
       "      <th>3780</th>\n",
       "      <td>8589936118</td>\n",
       "      <td>145</td>\n",
       "      <td>Homer, Iliad 19.155-19.183</td>\n",
       "      <td>com|del|ins</td>\n",
       "      <td>ἄγω λαός σκεδάζω δεῖπνον ἀνόχω ἕπλω δῶρον ἄναξ...</td>\n",
       "      <td>μὴ δʼ οὕτως, ἀγαθός περ ἐών, θεοείκελʼ Ἀχιλλεῦ...</td>\n",
       "    </tr>\n",
       "    <tr>\n",
       "      <th>3781</th>\n",
       "      <td>8589936118</td>\n",
       "      <td>206</td>\n",
       "      <td>Homer, Iliad 8.413-8.424</td>\n",
       "      <td>mes|que|war</td>\n",
       "      <td>ἄγω περιτέλλω ἐνιαυτός ἕλκω ἀπαλθάνομαι ὅς μάρ...</td>\n",
       "      <td>πῇ μέματον; τί σφῶϊν ἐνὶ φρεσὶ μαίνεται ἦτορ; ...</td>\n",
       "    </tr>\n",
       "  </tbody>\n",
       "</table>\n",
       "<p>3782 rows × 6 columns</p>\n",
       "</div>"
      ],
      "text/plain": [
       "         cluster   id                         label   dices_tags   \n",
       "0              0    0        Homer, Iliad 1.37-1.42      pra|req  \\\n",
       "1              0    1    Homer, Iliad 10.278-10.282      pra|req   \n",
       "2              0    2    Homer, Iliad 10.284-10.294      pra|req   \n",
       "3              0    4      Homer, Odyssey 1.32-1.43      lam|nar   \n",
       "4              0    6    Homer, Odyssey 1.158-1.177      nar|que   \n",
       "...          ...  ...                           ...          ...   \n",
       "3777  8589936020  123      Homer, Odyssey 3.14-3.20          ins   \n",
       "3778  8589936020  180  Homer, Odyssey 17.124-17.146      inf|nar   \n",
       "3779  8589936118  109  Homer, Odyssey 14.462-14.506          nar   \n",
       "3780  8589936118  145    Homer, Iliad 19.155-19.183  com|del|ins   \n",
       "3781  8589936118  206      Homer, Iliad 8.413-8.424  mes|que|war   \n",
       "\n",
       "                                                   text   \n",
       "0     κλίνω ἐγώ ὅς Χρύση ἀμφιβαίνω Κίλλας Τενέδοιος ...  \\\n",
       "1     κλίνω ἐγώ αἴγιοχος Ζεύς τέκος ὅς ἐγώ πόνος παρ...   \n",
       "2     κλύω ἐγώ Ζεύς τέκος Ἀτρυτώνη σπεῖον ἐγώ πατήρ ...   \n",
       "3     ὅς πόπος οἷος νυ θεός βροτοί αἰτιόω ἡμεῖς φημί...   \n",
       "4     φίλη ἐγώ νεμεσέω ὅστις λέγω μέλει κίθαρις ἀοιδ...   \n",
       "...                                                 ...   \n",
       "3777  σύ χρή ἐς αἰδώς ἀβαιρέω τοὔνω πόντος ἐπέπλως ὄ...   \n",
       "3778  σύ ἐγώ κρύπτω ἔπος ἐπίκειμαι μιν ὅς γι νῆσος ὁ...   \n",
       "3779  ἄγω ἀρτύνω ἡγέομαι Ὀδυσεύς Ἀτρεΐδης Μενέλαος ὁ...   \n",
       "3780  ἄγω λαός σκεδάζω δεῖπνον ἀνόχω ἕπλω δῶρον ἄναξ...   \n",
       "3781  ἄγω περιτέλλω ἐνιαυτός ἕλκω ἀπαλθάνομαι ὅς μάρ...   \n",
       "\n",
       "                                               raw_text  \n",
       "0     κλῦθί μευ ἀργυρότοξʼ, ὃς Χρύσην ἀμφιβέβηκας Κί...  \n",
       "1     κλῦθί μευ αἰγιόχοιο Διὸς τέκος, ἥ τέ μοι αἰεὶ ...  \n",
       "2     κέκλυθι νῦν καὶ ἐμεῖο Διὸς τέκος Ἀτρυτώνη· σπε...  \n",
       "3     ὢ πόποι, οἷον δή νυ θεοὺς βροτοὶ αἰτιόωνται· ἐ...  \n",
       "4     ξεῖνε φίλʼ, ἦ καί μοι νεμεσήσεαι ὅττι κεν εἴπω...  \n",
       "...                                                 ...  \n",
       "3777  Τηλέμαχʼ, οὐ μέν σε χρὴ ἔτʼ αἰδοῦς, οὐδʼ ἠβαιό...  \n",
       "3778  ὢ πόποι, ἦ μάλα δὴ κρατερόφρονος ἀνδρὸς ἐν εὐν...  \n",
       "3779  κέκλυθι νῦν, Εὔμαιε καὶ ἄλλοι πάντες ἑταῖροι, ...  \n",
       "3780  μὴ δʼ οὕτως, ἀγαθός περ ἐών, θεοείκελʼ Ἀχιλλεῦ...  \n",
       "3781  πῇ μέματον; τί σφῶϊν ἐνὶ φρεσὶ μαίνεται ἦτορ; ...  \n",
       "\n",
       "[3782 rows x 6 columns]"
      ]
     },
     "execution_count": 208,
     "metadata": {},
     "output_type": "execute_result"
    }
   ],
   "source": [
    "tr_clusters"
   ]
  },
  {
   "attachments": {},
   "cell_type": "markdown",
   "metadata": {},
   "source": [
    "### Experiment 1 (exp1)"
   ]
  },
  {
   "cell_type": "code",
   "execution_count": 183,
   "metadata": {},
   "outputs": [
    {
     "name": "stdout",
     "output_type": "stream",
     "text": [
      "/home/romanell/Documents/impresso/passim/bin/passim -n 3 --max-repeat 100 data/input/input_lemmatised.json data/passim/exp1\n"
     ]
    }
   ],
   "source": [
    "!cat data/passim/exp1/memo.txt"
   ]
  },
  {
   "cell_type": "code",
   "execution_count": 212,
   "metadata": {},
   "outputs": [
    {
     "name": "stdout",
     "output_type": "stream",
     "text": [
      "There are 23 text reuse clusters in data/passim/exp1/out.json/\n"
     ]
    }
   ],
   "source": [
    "output_path = 'data/passim/exp1/out.json/'\n",
    "tsv_path = 'data/output/passim_clusters_exp1.csv'\n",
    "tr_clusters_exp1 = passim_output_to_dataframe(output_path, tsv_path)"
   ]
  },
  {
   "attachments": {},
   "cell_type": "markdown",
   "metadata": {},
   "source": [
    "### Experiment 2 (exp2)"
   ]
  },
  {
   "cell_type": "code",
   "execution_count": 191,
   "metadata": {},
   "outputs": [
    {
     "name": "stdout",
     "output_type": "stream",
     "text": [
      "/home/romanell/Documents/impresso/passim/bin/passim -n 3 --min-match 3 --max-repeat 100 -w 1 data/input/input_lemmatised.json data/passim/exp2\n"
     ]
    }
   ],
   "source": [
    "!cat data/passim/exp2/memo.txt"
   ]
  },
  {
   "cell_type": "code",
   "execution_count": 213,
   "metadata": {},
   "outputs": [
    {
     "name": "stdout",
     "output_type": "stream",
     "text": [
      "There are 24 text reuse clusters in data/passim/exp2/out.json/\n"
     ]
    }
   ],
   "source": [
    "output_path = 'data/passim/exp2/out.json/'\n",
    "tsv_path = 'data/output/passim_clusters_exp2.csv'\n",
    "tr_clusters_exp2 = passim_output_to_dataframe(output_path, tsv_path)"
   ]
  },
  {
   "attachments": {},
   "cell_type": "markdown",
   "metadata": {},
   "source": [
    "### Experiment 3 (exp3)"
   ]
  },
  {
   "cell_type": "code",
   "execution_count": 192,
   "metadata": {},
   "outputs": [
    {
     "name": "stdout",
     "output_type": "stream",
     "text": [
      "/home/romanell/Documents/impresso/passim/bin/passim -n 3 --min-match 3 --max-repeat 100 -a 10 data/input/input_lemmatised.json data/passim/exp3\n",
      "\n"
     ]
    }
   ],
   "source": [
    "!cat data/passim/exp3/memo.txt"
   ]
  },
  {
   "cell_type": "code",
   "execution_count": 214,
   "metadata": {},
   "outputs": [
    {
     "name": "stdout",
     "output_type": "stream",
     "text": [
      "There are 41 text reuse clusters in data/passim/exp3/out.json/\n"
     ]
    }
   ],
   "source": [
    "output_path = 'data/passim/exp3/out.json/'\n",
    "tsv_path = 'data/output/passim_clusters_exp3.csv'\n",
    "tr_clusters_exp3 = passim_output_to_dataframe(output_path, tsv_path)"
   ]
  },
  {
   "attachments": {},
   "cell_type": "markdown",
   "metadata": {},
   "source": [
    "### Experiment 4 (exp 4)"
   ]
  },
  {
   "cell_type": "code",
   "execution_count": 202,
   "metadata": {},
   "outputs": [
    {
     "name": "stdout",
     "output_type": "stream",
     "text": [
      "/home/romanell/Documents/impresso/passim/bin/passim -n 2 --min-match 2 --max-repeat 100 -a 10 data/input/input_lemmatised.json data/passim/exp4\n"
     ]
    }
   ],
   "source": [
    "!cat data/passim/exp4/memo.txt"
   ]
  },
  {
   "cell_type": "code",
   "execution_count": 210,
   "metadata": {},
   "outputs": [
    {
     "name": "stdout",
     "output_type": "stream",
     "text": [
      "There are 212 text reuse clusters in data/passim/exp4/out.json/\n"
     ]
    }
   ],
   "source": [
    "output_path = 'data/passim/exp4/out.json/'\n",
    "tsv_path = 'data/output/passim_clusters_exp4.csv'\n",
    "tr_clusters_exp4 = passim_output_to_dataframe(output_path, tsv_path)"
   ]
  },
  {
   "attachments": {},
   "cell_type": "markdown",
   "metadata": {},
   "source": [
    "### Experiment 5 (exp5)"
   ]
  },
  {
   "cell_type": "code",
   "execution_count": 8,
   "metadata": {},
   "outputs": [
    {
     "name": "stdout",
     "output_type": "stream",
     "text": [
      "/home/romanell/Documents/impresso/passim/bin/passim -n 3 --min-match 1 --max-repeat 100 -a 10 data/input/input_lemmatised.json data/passim/exp5\n",
      "\n"
     ]
    }
   ],
   "source": [
    "!cat data/passim/exp5/memo.txt"
   ]
  },
  {
   "cell_type": "code",
   "execution_count": 9,
   "metadata": {},
   "outputs": [
    {
     "name": "stdout",
     "output_type": "stream",
     "text": [
      "There are 41 text reuse clusters in data/passim/exp5/out.json/\n"
     ]
    }
   ],
   "source": [
    "output_path = 'data/passim/exp5/out.json/'\n",
    "tsv_path = 'data/output/passim_clusters_exp5.csv'\n",
    "tr_clusters_exp5 = passim_output_to_dataframe(output_path, tsv_path)"
   ]
  },
  {
   "attachments": {},
   "cell_type": "markdown",
   "metadata": {},
   "source": [
    "## Experiment 5 (exp5)"
   ]
  },
  {
   "cell_type": "code",
   "execution_count": 11,
   "metadata": {},
   "outputs": [
    {
     "name": "stdout",
     "output_type": "stream",
     "text": [
      "/home/romanell/Documents/impresso/passim/bin/passim -n 4 --min-match 1 --max-repeat 100 -a 10 data/input/input_lemmatised.json data/passim/exp6\n",
      "\n"
     ]
    }
   ],
   "source": [
    "!cat data/passim/exp6/memo.txt"
   ]
  },
  {
   "cell_type": "code",
   "execution_count": 10,
   "metadata": {},
   "outputs": [
    {
     "name": "stdout",
     "output_type": "stream",
     "text": [
      "There are 36 text reuse clusters in data/passim/exp6/out.json/\n"
     ]
    }
   ],
   "source": [
    "output_path = 'data/passim/exp6/out.json/'\n",
    "tsv_path = 'data/output/passim_clusters_exp6.csv'\n",
    "tr_clusters_exp6 = passim_output_to_dataframe(output_path, tsv_path)"
   ]
  }
 ],
 "metadata": {
  "kernelspec": {
   "display_name": "dices-repetitions",
   "language": "python",
   "name": "python3"
  },
  "language_info": {
   "codemirror_mode": {
    "name": "ipython",
    "version": 3
   },
   "file_extension": ".py",
   "mimetype": "text/x-python",
   "name": "python",
   "nbconvert_exporter": "python",
   "pygments_lexer": "ipython3",
   "version": "3.10.0"
  },
  "orig_nbformat": 4
 },
 "nbformat": 4,
 "nbformat_minor": 2
}
