{
 "cells": [
  {
   "attachments": {},
   "cell_type": "markdown",
   "metadata": {},
   "source": [
    "# Repetitions in Homeric speeches: get data\n",
    "\n",
    "The DICES search interface is found at: http://dices.ub.uni-rostock.de/app/speeches/search/ \n",
    "\n",
    "## TODO\n",
    "\n",
    "- ✅ get all speeches for Od. and Il. from Dices API\n",
    "- ✅ filter speeches for relevant tags (giuramenti, istruzioni, preghiere)\n",
    "- ✅ create an initial dataframe with relevant data\n",
    "- ✅ add text fetched from Perseus via CTS URN\n",
    "- (optional for now) add lemmatised version of text via Pirra\n",
    "- ✅ save data to JSON lines format suitable for processing with passim"
   ]
  },
  {
   "attachments": {},
   "cell_type": "markdown",
   "metadata": {},
   "source": [
    "## Dices tags\n",
    "\n",
    "| Dices tag      | Expansion |\n",
    "| ----------- | ----------- |\n",
    "| cha         | Challenge |\n",
    "| com | Command |\n",
    "| con | Consolation|\n",
    "| del | Deliberation|\n",
    "| des | Desire and Wish|\n",
    "| exh | Exhortation and Self-Exhortation|\n",
    "| far | Farewell|\n",
    "| gre | Greeting and Reception|\n",
    "| inf | Information and Description|\n",
    "| ins | Instruction|\n",
    "| inv | Invitation |\n",
    "| lam | Lament |\n",
    "| lau | Praise and Laudation |\n",
    "| mes | Message|\n",
    "| nar | Narration|\n",
    "| ora | Prophecy, Oracular Speech, and Interpretation|\n",
    "| per | Persuasion|\n",
    "| pra | Prayer|\n",
    "| que | Question|\n",
    "| req | Request|\n",
    "| res | Reply to Question|\n",
    "| tau | Taunt|\n",
    "| thr | Threat|\n",
    "| und | Undefined|\n",
    "| vit | Vituperation|\n",
    "| vow | Promise and Oath|\n",
    "| war | Warning|"
   ]
  },
  {
   "attachments": {},
   "cell_type": "markdown",
   "metadata": {},
   "source": [
    "## Retrieving all Homeric speeches from Dices"
   ]
  },
  {
   "cell_type": "code",
   "execution_count": 157,
   "metadata": {},
   "outputs": [],
   "source": [
    "from dicesapi import DicesAPI\n",
    "import pandas as pd\n",
    "\n",
    "# create a connection to DICES\n",
    "api = DicesAPI(logfile='data/log/dices.log')"
   ]
  },
  {
   "cell_type": "code",
   "execution_count": 120,
   "metadata": {},
   "outputs": [
    {
     "name": "stdout",
     "output_type": "stream",
     "text": [
      "Got 673 speeches\n"
     ]
    }
   ],
   "source": [
    "od_speeches = api.getSpeeches(work_title='Odyssey', progress=True)\n",
    "print('Got', len(od_speeches), 'speeches')"
   ]
  },
  {
   "cell_type": "code",
   "execution_count": 121,
   "metadata": {},
   "outputs": [
    {
     "name": "stdout",
     "output_type": "stream",
     "text": [
      "Got 698 speeches\n"
     ]
    }
   ],
   "source": [
    "il_speeches = api.getSpeeches(work_title='Iliad', progress=True)\n",
    "print('Got', len(il_speeches), 'speeches')"
   ]
  },
  {
   "cell_type": "code",
   "execution_count": 122,
   "metadata": {},
   "outputs": [],
   "source": [
    "speeches = il_speeches + od_speeches"
   ]
  },
  {
   "cell_type": "code",
   "execution_count": 123,
   "metadata": {},
   "outputs": [
    {
     "data": {
      "text/plain": [
       "1371"
      ]
     },
     "execution_count": 123,
     "metadata": {},
     "output_type": "execute_result"
    }
   ],
   "source": [
    "len(speeches)"
   ]
  },
  {
   "attachments": {},
   "cell_type": "markdown",
   "metadata": {},
   "source": [
    "## Filter speeches"
   ]
  },
  {
   "attachments": {},
   "cell_type": "markdown",
   "metadata": {},
   "source": [
    "The `tag` information is contained in the `dicesapi.Speech` class, yet a bid hidden. "
   ]
  },
  {
   "cell_type": "code",
   "execution_count": 124,
   "metadata": {},
   "outputs": [],
   "source": [
    "def filter_speeches_by_tag(speeches_list, tags_to_keep):\n",
    "    filtered_speeches = []\n",
    "    for speech in speeches_list:\n",
    "        matching_tags = list(set([t['type'] for t in speech._attributes['tags']]) & set(tags_to_keep))\n",
    "        if len(matching_tags) > 0:\n",
    "            filtered_speeches.append(speech)\n",
    "    return filtered_speeches"
   ]
  },
  {
   "cell_type": "code",
   "execution_count": 125,
   "metadata": {},
   "outputs": [],
   "source": [
    "# ⚠️ check with Ombretta which tags exactly correspond to \"discorso di istruzione, discorso di recapito\"\n",
    "speeches_subset = filter_speeches_by_tag(speeches, ['vow', 'ins', 'pra', 'mes', 'nar'])"
   ]
  },
  {
   "cell_type": "code",
   "execution_count": 126,
   "metadata": {},
   "outputs": [
    {
     "data": {
      "text/plain": [
       "221"
      ]
     },
     "execution_count": 126,
     "metadata": {},
     "output_type": "execute_result"
    }
   ],
   "source": [
    "len(speeches_subset)"
   ]
  },
  {
   "attachments": {},
   "cell_type": "markdown",
   "metadata": {},
   "source": [
    "## Fetch text of speeches from Perseus"
   ]
  },
  {
   "cell_type": "code",
   "execution_count": 127,
   "metadata": {},
   "outputs": [],
   "source": [
    "from dicesapi.text import CtsAPI\n",
    "from dicesapi.jupyter import NotebookPBar\n",
    "cts = CtsAPI()"
   ]
  },
  {
   "cell_type": "code",
   "execution_count": 128,
   "metadata": {},
   "outputs": [],
   "source": [
    "def download_speech_text(speeches):\n",
    "    '''Download the text of the speeches from CTS server, append to speech objects'''\n",
    "    pbar = NotebookPBar(max=len(speeches), prefix='Downloading text')\n",
    "\n",
    "    for s in speeches:\n",
    "        if not hasattr(s, 'passage') or s.passage is None:\n",
    "            s.passage = cts.getPassage(s)\n",
    "        pbar.update()\n",
    "    return speeches"
   ]
  },
  {
   "cell_type": "code",
   "execution_count": 129,
   "metadata": {},
   "outputs": [
    {
     "data": {
      "application/vnd.jupyter.widget-view+json": {
       "model_id": "3858b5666c1b45de8ea23ab8de7199c0",
       "version_major": 2,
       "version_minor": 0
      },
      "text/plain": [
       "HBox(children=(IntProgress(value=0, bar_style='info', max=221), Label(value='Downloading text 0/221')))"
      ]
     },
     "metadata": {},
     "output_type": "display_data"
    }
   ],
   "source": [
    "speeches_subset = download_speech_text(speeches_subset)"
   ]
  },
  {
   "cell_type": "code",
   "execution_count": 130,
   "metadata": {},
   "outputs": [
    {
     "data": {
      "text/plain": [
       "'οὕτως οὔ τίς οἱ νεμεσήσεται οὐδʼ ἀπιθήσει Ἀργείων, ὅτε κέν τινʼ ἐποτρύνῃ καὶ ἀνώγῃ.'"
      ]
     },
     "execution_count": 130,
     "metadata": {},
     "output_type": "execute_result"
    }
   ],
   "source": [
    "speeches_subset[-1].passage.text"
   ]
  },
  {
   "cell_type": "code",
   "execution_count": 131,
   "metadata": {},
   "outputs": [
    {
     "data": {
      "text/plain": [
       "221"
      ]
     },
     "execution_count": 131,
     "metadata": {},
     "output_type": "execute_result"
    }
   ],
   "source": [
    "len(speeches_subset)"
   ]
  },
  {
   "attachments": {},
   "cell_type": "markdown",
   "metadata": {},
   "source": [
    "## Process speeches with CLTK"
   ]
  },
  {
   "cell_type": "code",
   "execution_count": 132,
   "metadata": {},
   "outputs": [],
   "source": [
    "def parse_speech_text(speeches):\n",
    "    '''Run CLTK NLP pipeline to parse all the speeches'''\n",
    "    \n",
    "    pbar = NotebookPBar(max=len(speeches), prefix='Running NLP')\n",
    "\n",
    "    for s in speeches:\n",
    "        if not hasattr(s, 'passage') or s.passage is None:\n",
    "            print('no passage:', s)\n",
    "        elif not hasattr(s.passage, 'cltk') or s.passage.cltk is None:\n",
    "            s.passage.runCltkPipeline(remove_punct=True)\n",
    "        pbar.update()\n",
    "    return speeches\n",
    "\n"
   ]
  },
  {
   "cell_type": "code",
   "execution_count": 133,
   "metadata": {},
   "outputs": [
    {
     "data": {
      "application/vnd.jupyter.widget-view+json": {
       "model_id": "0759cff7b1d945a68042a1553bc75c33",
       "version_major": 2,
       "version_minor": 0
      },
      "text/plain": [
       "HBox(children=(IntProgress(value=0, bar_style='info', max=221), Label(value='Running NLP 0/221')))"
      ]
     },
     "metadata": {},
     "output_type": "display_data"
    }
   ],
   "source": [
    "speeches_subset = parse_speech_text(speeches_subset)"
   ]
  },
  {
   "cell_type": "code",
   "execution_count": 134,
   "metadata": {},
   "outputs": [
    {
     "data": {
      "text/plain": [
       "'κλῦθί μευ ἀργυρότοξʼ, ὃς Χρύσην ἀμφιβέβηκας Κίλλάν τε ζαθέην Τενέδοιό τε ἶφι ἀνάσσεις, Σμινθεῦ εἴ ποτέ τοι χαρίεντʼ ἐπὶ νηὸν ἔρεψα, ἢ εἰ δή ποτέ τοι κατὰ πίονα μηρίʼ ἔκηα ταύρων ἠδʼ αἰγῶν, τὸ δέ μοι κρήηνον ἐέλδωρ· τίσειαν Δαναοὶ ἐμὰ δάκρυα σοῖσι βέλεσσιν.'"
      ]
     },
     "execution_count": 134,
     "metadata": {},
     "output_type": "execute_result"
    }
   ],
   "source": [
    "s = speeches_subset[0]\n",
    "s.passage.text"
   ]
  },
  {
   "cell_type": "code",
   "execution_count": 135,
   "metadata": {},
   "outputs": [
    {
     "data": {
      "text/plain": [
       "'κλίνω ἐγώ ὅς Χρύση ἀμφιβαίνω Κίλλας Τενέδοιος ἶφις ἀνίσσημι Σμινθεύς σύ χαρίω ναός ῥέπω σύ πίων μηρίνω καάω ταῦρος ἤδος αἰγός ἐγώ κρήνον ἐέλδω τίνω δάκρυον βέλεσσις'"
      ]
     },
     "execution_count": 135,
     "metadata": {},
     "output_type": "execute_result"
    }
   ],
   "source": [
    "keep_pos_tags = ['verb', 'pronoun', 'noun', 'proper_noun']\n",
    "\" \".join([w.lemma for w in s.passage.cltk if str(w.pos) in keep_pos_tags])"
   ]
  },
  {
   "attachments": {},
   "cell_type": "markdown",
   "metadata": {},
   "source": [
    "## Speeches to Dataframe"
   ]
  },
  {
   "cell_type": "code",
   "execution_count": 136,
   "metadata": {},
   "outputs": [
    {
     "data": {
      "text/plain": [
       "221"
      ]
     },
     "execution_count": 136,
     "metadata": {},
     "output_type": "execute_result"
    }
   ],
   "source": [
    "len(speeches_subset)"
   ]
  },
  {
   "cell_type": "code",
   "execution_count": 144,
   "metadata": {},
   "outputs": [],
   "source": [
    "def make_speeches_table(speeches) -> pd.DataFrame:\n",
    "\n",
    "    keep_pos_tags = ['verb', 'pronoun', 'noun', 'proper_noun']\n",
    "\n",
    "    return pd.DataFrame(dict(\n",
    "        speech_id = speech.id,\n",
    "        group = f\"speech-{'-'.join(sorted([tag['type'] for tag in speech._attributes['tags']]))}\",\n",
    "        length = len([w for w in speech.passage.text]),\n",
    "        passage_urn = speech.urn,\n",
    "        lemmatised_text = \" \".join([w.lemma for w in speech.passage.cltk]),\n",
    "        lemmatised_filtered_text = \" \".join([w.lemma for w in speech.passage.cltk if str(w.pos) in keep_pos_tags]),\n",
    "        text = speech.passage.text,\n",
    "        label = f\"{speech.author.name}, {speech.work.title} {speech.urn.split(':')[-1]}\",\n",
    "        dices_tags = '|'.join(sorted([tag['type'] for tag in speech._attributes['tags']]))\n",
    "    ) for speech in speeches)"
   ]
  },
  {
   "cell_type": "code",
   "execution_count": 145,
   "metadata": {},
   "outputs": [],
   "source": [
    "speeches_df = make_speeches_table(speeches_subset)"
   ]
  },
  {
   "cell_type": "code",
   "execution_count": 146,
   "metadata": {},
   "outputs": [
    {
     "data": {
      "text/html": [
       "<div>\n",
       "<style scoped>\n",
       "    .dataframe tbody tr th:only-of-type {\n",
       "        vertical-align: middle;\n",
       "    }\n",
       "\n",
       "    .dataframe tbody tr th {\n",
       "        vertical-align: top;\n",
       "    }\n",
       "\n",
       "    .dataframe thead th {\n",
       "        text-align: right;\n",
       "    }\n",
       "</style>\n",
       "<table border=\"1\" class=\"dataframe\">\n",
       "  <thead>\n",
       "    <tr style=\"text-align: right;\">\n",
       "      <th></th>\n",
       "      <th>speech_id</th>\n",
       "      <th>group</th>\n",
       "      <th>length</th>\n",
       "      <th>passage_urn</th>\n",
       "      <th>lemmatised_text</th>\n",
       "      <th>lemmatised_filtered_text</th>\n",
       "      <th>text</th>\n",
       "      <th>label</th>\n",
       "      <th>dices_tags</th>\n",
       "    </tr>\n",
       "  </thead>\n",
       "  <tbody>\n",
       "    <tr>\n",
       "      <th>0</th>\n",
       "      <td>3</td>\n",
       "      <td>speech-pra-req</td>\n",
       "      <td>256</td>\n",
       "      <td>urn:cts:greekLit:tlg0012.tlg001.perseus-grc2:1...</td>\n",
       "      <td>κλίνω ἐγώ ἀργυρός ὅς Χρύση ἀμφιβαίνω Κίλλας τε...</td>\n",
       "      <td>κλίνω ἐγώ ὅς Χρύση ἀμφιβαίνω Κίλλας Τενέδοιος ...</td>\n",
       "      <td>κλῦθί μευ ἀργυρότοξʼ, ὃς Χρύσην ἀμφιβέβηκας Κί...</td>\n",
       "      <td>Homer, Iliad 1.37-1.42</td>\n",
       "      <td>pra|req</td>\n",
       "    </tr>\n",
       "    <tr>\n",
       "      <th>1</th>\n",
       "      <td>270</td>\n",
       "      <td>speech-pra-req</td>\n",
       "      <td>217</td>\n",
       "      <td>urn:cts:greekLit:tlg0012.tlg001.perseus-grc2:1...</td>\n",
       "      <td>κλίνω ἐγώ αἴγιοχος Ζεύς τέκος ὅς τε ἐγώ ἀεί ἐν...</td>\n",
       "      <td>κλίνω ἐγώ αἴγιοχος Ζεύς τέκος ὅς ἐγώ πόνος παρ...</td>\n",
       "      <td>κλῦθί μευ αἰγιόχοιο Διὸς τέκος, ἥ τέ μοι αἰεὶ ...</td>\n",
       "      <td>Homer, Iliad 10.278-10.282</td>\n",
       "      <td>pra|req</td>\n",
       "    </tr>\n",
       "    <tr>\n",
       "      <th>2</th>\n",
       "      <td>271</td>\n",
       "      <td>speech-pra-req</td>\n",
       "      <td>475</td>\n",
       "      <td>urn:cts:greekLit:tlg0012.tlg001.perseus-grc2:1...</td>\n",
       "      <td>κλύω νῦν καί ἐγώ Ζεύς τέκος Ἀτρυτώνη σπεῖον ἐγ...</td>\n",
       "      <td>κλύω ἐγώ Ζεύς τέκος Ἀτρυτώνη σπεῖον ἐγώ πατήρ ...</td>\n",
       "      <td>κέκλυθι νῦν καὶ ἐμεῖο Διὸς τέκος Ἀτρυτώνη· σπε...</td>\n",
       "      <td>Homer, Iliad 10.284-10.294</td>\n",
       "      <td>pra|req</td>\n",
       "    </tr>\n",
       "    <tr>\n",
       "      <th>3</th>\n",
       "      <td>644</td>\n",
       "      <td>speech-pra-req</td>\n",
       "      <td>44</td>\n",
       "      <td>urn:cts:greekLit:tlg0012.tlg001.perseus-grc2:2...</td>\n",
       "      <td>κλίνω θεά ἀγαθός ἐγώ ἐπίρροθος ἔρχομαι ποδοῖι</td>\n",
       "      <td>κλίνω θεά ἐγώ ἐπίρροθος ἔρχομαι ποδοῖι</td>\n",
       "      <td>κλῦθι θεά, ἀγαθή μοι ἐπίρροθος ἐλθὲ ποδοῖιν.</td>\n",
       "      <td>Homer, Iliad 23.770-23.770</td>\n",
       "      <td>pra|req</td>\n",
       "    </tr>\n",
       "    <tr>\n",
       "      <th>4</th>\n",
       "      <td>699</td>\n",
       "      <td>speech-lam-nar</td>\n",
       "      <td>531</td>\n",
       "      <td>urn:cts:greekLit:tlg0012.tlg002.perseus-grc2:1...</td>\n",
       "      <td>ὅς πόπος οἷος δή νυ θεός βροτοί αἰτιόω ἐκ ἡμεῖ...</td>\n",
       "      <td>ὅς πόπος οἷος νυ θεός βροτοί αἰτιόω ἡμεῖς φημί...</td>\n",
       "      <td>ὢ πόποι, οἷον δή νυ θεοὺς βροτοὶ αἰτιόωνται· ἐ...</td>\n",
       "      <td>Homer, Odyssey 1.32-1.43</td>\n",
       "      <td>lam|nar</td>\n",
       "    </tr>\n",
       "    <tr>\n",
       "      <th>...</th>\n",
       "      <td>...</td>\n",
       "      <td>...</td>\n",
       "      <td>...</td>\n",
       "      <td>...</td>\n",
       "      <td>...</td>\n",
       "      <td>...</td>\n",
       "      <td>...</td>\n",
       "      <td>...</td>\n",
       "      <td>...</td>\n",
       "    </tr>\n",
       "    <tr>\n",
       "      <th>216</th>\n",
       "      <td>243</td>\n",
       "      <td>speech-del-nar-per</td>\n",
       "      <td>7409</td>\n",
       "      <td>urn:cts:greekLit:tlg0012.tlg001.perseus-grc2:9...</td>\n",
       "      <td>εἰ μέν δή νόστος γε μετά φρής φαίδιμʼ Ἀχιλλῆς ...</td>\n",
       "      <td>νόστος φρής φαίδιμʼ Ἀχιλλῆς βάλλω ἀμύνω ναῦς θ...</td>\n",
       "      <td>εἰ μὲν δὴ νόστόν γε μετὰ φρεσὶ φαίδιμʼ Ἀχιλλεῦ...</td>\n",
       "      <td>Homer, Iliad 9.434-9.605</td>\n",
       "      <td>del|nar|per</td>\n",
       "    </tr>\n",
       "    <tr>\n",
       "      <th>217</th>\n",
       "      <td>1236</td>\n",
       "      <td>speech-lau-nar</td>\n",
       "      <td>1211</td>\n",
       "      <td>urn:cts:greekLit:tlg0012.tlg002.perseus-grc2:2...</td>\n",
       "      <td>χαίρω πατήρ ὦ ξένος γίγνομαι σύ εἰς πέρ ὀπίσσω...</td>\n",
       "      <td>χαίρω πατήρ ξένος γίγνομαι σύ ὀπίσσω ὄλβος ἔχω...</td>\n",
       "      <td>χαῖρε, πάτερ ὦ ξεῖνε· γένοιτό τοι ἔς περ ὀπίσσ...</td>\n",
       "      <td>Homer, Odyssey 20.199-20.225</td>\n",
       "      <td>lau|nar</td>\n",
       "    </tr>\n",
       "    <tr>\n",
       "      <th>218</th>\n",
       "      <td>1237</td>\n",
       "      <td>speech-vow</td>\n",
       "      <td>367</td>\n",
       "      <td>urn:cts:greekLit:tlg0012.tlg002.perseus-grc2:2...</td>\n",
       "      <td>βουκόω ἐπεί οὔτε κακός οὔτʼ ἄφρων φῶς ἔοικα γι...</td>\n",
       "      <td>βουκόω φῶς ἔοικα γιγνώσκω ὅς σύ φρήν ἵκω τοῦνο...</td>\n",
       "      <td>βουκόλʼ, ἐπεὶ οὔτε κακῷ οὔτʼ ἄφρονι φωτὶ ἔοικα...</td>\n",
       "      <td>Homer, Odyssey 20.227-20.234</td>\n",
       "      <td>vow</td>\n",
       "    </tr>\n",
       "    <tr>\n",
       "      <th>219</th>\n",
       "      <td>248</td>\n",
       "      <td>speech-mes-res</td>\n",
       "      <td>699</td>\n",
       "      <td>urn:cts:greekLit:tlg0012.tlg001.perseus-grc2:9...</td>\n",
       "      <td>Ἀτρεΐδης κύδιστος ἄναξ ἀνήρ Ἀγάμεμνος ἐκεῖνος ...</td>\n",
       "      <td>Ἀτρεΐδης ἄναξ ἀνήρ Ἀγάμεμνος γι ἐθέλω σβέννυμι...</td>\n",
       "      <td>Ἀτρεΐδη κύδιστε ἄναξ ἀνδρῶν Ἀγάμεμνον κεῖνός γ...</td>\n",
       "      <td>Homer, Iliad 9.677-9.692</td>\n",
       "      <td>mes|res</td>\n",
       "    </tr>\n",
       "    <tr>\n",
       "      <th>220</th>\n",
       "      <td>258</td>\n",
       "      <td>speech-del-vow</td>\n",
       "      <td>83</td>\n",
       "      <td>urn:cts:greekLit:tlg0012.tlg001.perseus-grc2:1...</td>\n",
       "      <td>οὕτω(ς) οὐ τίς οὗ νεμίζω οὐδʼ ἀπιτεύω Ἀργεῖος ...</td>\n",
       "      <td>τίς οὗ νεμίζω ἀπιτεύω ἐποτρύνω ἄνωγα</td>\n",
       "      <td>οὕτως οὔ τίς οἱ νεμεσήσεται οὐδʼ ἀπιθήσει Ἀργε...</td>\n",
       "      <td>Homer, Iliad 10.129-10.130</td>\n",
       "      <td>del|vow</td>\n",
       "    </tr>\n",
       "  </tbody>\n",
       "</table>\n",
       "<p>221 rows × 9 columns</p>\n",
       "</div>"
      ],
      "text/plain": [
       "     speech_id               group  length   \n",
       "0            3      speech-pra-req     256  \\\n",
       "1          270      speech-pra-req     217   \n",
       "2          271      speech-pra-req     475   \n",
       "3          644      speech-pra-req      44   \n",
       "4          699      speech-lam-nar     531   \n",
       "..         ...                 ...     ...   \n",
       "216        243  speech-del-nar-per    7409   \n",
       "217       1236      speech-lau-nar    1211   \n",
       "218       1237          speech-vow     367   \n",
       "219        248      speech-mes-res     699   \n",
       "220        258      speech-del-vow      83   \n",
       "\n",
       "                                           passage_urn   \n",
       "0    urn:cts:greekLit:tlg0012.tlg001.perseus-grc2:1...  \\\n",
       "1    urn:cts:greekLit:tlg0012.tlg001.perseus-grc2:1...   \n",
       "2    urn:cts:greekLit:tlg0012.tlg001.perseus-grc2:1...   \n",
       "3    urn:cts:greekLit:tlg0012.tlg001.perseus-grc2:2...   \n",
       "4    urn:cts:greekLit:tlg0012.tlg002.perseus-grc2:1...   \n",
       "..                                                 ...   \n",
       "216  urn:cts:greekLit:tlg0012.tlg001.perseus-grc2:9...   \n",
       "217  urn:cts:greekLit:tlg0012.tlg002.perseus-grc2:2...   \n",
       "218  urn:cts:greekLit:tlg0012.tlg002.perseus-grc2:2...   \n",
       "219  urn:cts:greekLit:tlg0012.tlg001.perseus-grc2:9...   \n",
       "220  urn:cts:greekLit:tlg0012.tlg001.perseus-grc2:1...   \n",
       "\n",
       "                                       lemmatised_text   \n",
       "0    κλίνω ἐγώ ἀργυρός ὅς Χρύση ἀμφιβαίνω Κίλλας τε...  \\\n",
       "1    κλίνω ἐγώ αἴγιοχος Ζεύς τέκος ὅς τε ἐγώ ἀεί ἐν...   \n",
       "2    κλύω νῦν καί ἐγώ Ζεύς τέκος Ἀτρυτώνη σπεῖον ἐγ...   \n",
       "3        κλίνω θεά ἀγαθός ἐγώ ἐπίρροθος ἔρχομαι ποδοῖι   \n",
       "4    ὅς πόπος οἷος δή νυ θεός βροτοί αἰτιόω ἐκ ἡμεῖ...   \n",
       "..                                                 ...   \n",
       "216  εἰ μέν δή νόστος γε μετά φρής φαίδιμʼ Ἀχιλλῆς ...   \n",
       "217  χαίρω πατήρ ὦ ξένος γίγνομαι σύ εἰς πέρ ὀπίσσω...   \n",
       "218  βουκόω ἐπεί οὔτε κακός οὔτʼ ἄφρων φῶς ἔοικα γι...   \n",
       "219  Ἀτρεΐδης κύδιστος ἄναξ ἀνήρ Ἀγάμεμνος ἐκεῖνος ...   \n",
       "220  οὕτω(ς) οὐ τίς οὗ νεμίζω οὐδʼ ἀπιτεύω Ἀργεῖος ...   \n",
       "\n",
       "                              lemmatised_filtered_text   \n",
       "0    κλίνω ἐγώ ὅς Χρύση ἀμφιβαίνω Κίλλας Τενέδοιος ...  \\\n",
       "1    κλίνω ἐγώ αἴγιοχος Ζεύς τέκος ὅς ἐγώ πόνος παρ...   \n",
       "2    κλύω ἐγώ Ζεύς τέκος Ἀτρυτώνη σπεῖον ἐγώ πατήρ ...   \n",
       "3               κλίνω θεά ἐγώ ἐπίρροθος ἔρχομαι ποδοῖι   \n",
       "4    ὅς πόπος οἷος νυ θεός βροτοί αἰτιόω ἡμεῖς φημί...   \n",
       "..                                                 ...   \n",
       "216  νόστος φρής φαίδιμʼ Ἀχιλλῆς βάλλω ἀμύνω ναῦς θ...   \n",
       "217  χαίρω πατήρ ξένος γίγνομαι σύ ὀπίσσω ὄλβος ἔχω...   \n",
       "218  βουκόω φῶς ἔοικα γιγνώσκω ὅς σύ φρήν ἵκω τοῦνο...   \n",
       "219  Ἀτρεΐδης ἄναξ ἀνήρ Ἀγάμεμνος γι ἐθέλω σβέννυμι...   \n",
       "220               τίς οὗ νεμίζω ἀπιτεύω ἐποτρύνω ἄνωγα   \n",
       "\n",
       "                                                  text   \n",
       "0    κλῦθί μευ ἀργυρότοξʼ, ὃς Χρύσην ἀμφιβέβηκας Κί...  \\\n",
       "1    κλῦθί μευ αἰγιόχοιο Διὸς τέκος, ἥ τέ μοι αἰεὶ ...   \n",
       "2    κέκλυθι νῦν καὶ ἐμεῖο Διὸς τέκος Ἀτρυτώνη· σπε...   \n",
       "3         κλῦθι θεά, ἀγαθή μοι ἐπίρροθος ἐλθὲ ποδοῖιν.   \n",
       "4    ὢ πόποι, οἷον δή νυ θεοὺς βροτοὶ αἰτιόωνται· ἐ...   \n",
       "..                                                 ...   \n",
       "216  εἰ μὲν δὴ νόστόν γε μετὰ φρεσὶ φαίδιμʼ Ἀχιλλεῦ...   \n",
       "217  χαῖρε, πάτερ ὦ ξεῖνε· γένοιτό τοι ἔς περ ὀπίσσ...   \n",
       "218  βουκόλʼ, ἐπεὶ οὔτε κακῷ οὔτʼ ἄφρονι φωτὶ ἔοικα...   \n",
       "219  Ἀτρεΐδη κύδιστε ἄναξ ἀνδρῶν Ἀγάμεμνον κεῖνός γ...   \n",
       "220  οὕτως οὔ τίς οἱ νεμεσήσεται οὐδʼ ἀπιθήσει Ἀργε...   \n",
       "\n",
       "                            label   dices_tags  \n",
       "0          Homer, Iliad 1.37-1.42      pra|req  \n",
       "1      Homer, Iliad 10.278-10.282      pra|req  \n",
       "2      Homer, Iliad 10.284-10.294      pra|req  \n",
       "3      Homer, Iliad 23.770-23.770      pra|req  \n",
       "4        Homer, Odyssey 1.32-1.43      lam|nar  \n",
       "..                            ...          ...  \n",
       "216      Homer, Iliad 9.434-9.605  del|nar|per  \n",
       "217  Homer, Odyssey 20.199-20.225      lau|nar  \n",
       "218  Homer, Odyssey 20.227-20.234          vow  \n",
       "219      Homer, Iliad 9.677-9.692      mes|res  \n",
       "220    Homer, Iliad 10.129-10.130      del|vow  \n",
       "\n",
       "[221 rows x 9 columns]"
      ]
     },
     "execution_count": 146,
     "metadata": {},
     "output_type": "execute_result"
    }
   ],
   "source": [
    "speeches_df"
   ]
  },
  {
   "attachments": {},
   "cell_type": "markdown",
   "metadata": {},
   "source": [
    "## Convert speeches to Passim format\n",
    "\n",
    "```json\n",
    "{\n",
    "    \"id\": \"...\",\n",
    "    \"group\": \"...\",\n",
    "    \"text\": \"...\",\n",
    "}"
   ]
  },
  {
   "cell_type": "code",
   "execution_count": 151,
   "metadata": {},
   "outputs": [],
   "source": [
    "import json\n",
    "\n",
    "def speeches_to_passim(speeches_df : pd.DataFrame, json_path : str, lemmatised=False) -> None:\n",
    "\n",
    "    # transform DataFrame to passim-amenable JSON\n",
    "    docs = [\n",
    "        {\n",
    "            \"id\" : idx,\n",
    "            \"group\": row.group,\n",
    "            \"label\": row.label,\n",
    "            \"dices_tags\": row.dices_tags,\n",
    "            \"text\": row.lemmatised_filtered_text if lemmatised else row.text,\n",
    "            \"raw_text\": row.text if lemmatised else None,\n",
    "            \"passage_urn\": row.passage_urn\n",
    "        }\n",
    "        for idx, row in speeches_df.iterrows()\n",
    "    ]\n",
    "\n",
    "    # write passim docs to JSON file\n",
    "    with open(json_path, 'w', encoding='utf-8') as f:\n",
    "        for d in docs:\n",
    "            print(json.dumps(d, ensure_ascii=False), file=f)\n",
    "\n"
   ]
  },
  {
   "cell_type": "code",
   "execution_count": 149,
   "metadata": {},
   "outputs": [],
   "source": [
    "# speeches_to_passim(speeches_df, 'test_input.json')"
   ]
  },
  {
   "cell_type": "code",
   "execution_count": 159,
   "metadata": {},
   "outputs": [],
   "source": [
    "passim_input_path = 'data/input/input_lemmatised.json'"
   ]
  },
  {
   "cell_type": "code",
   "execution_count": 160,
   "metadata": {},
   "outputs": [],
   "source": [
    "speeches_to_passim(speeches_df, passim_input_path, lemmatised=True)"
   ]
  },
  {
   "attachments": {},
   "cell_type": "markdown",
   "metadata": {},
   "source": [
    "## Run Passim"
   ]
  },
  {
   "cell_type": "code",
   "execution_count": 161,
   "metadata": {},
   "outputs": [],
   "source": [
    "passim_output_path = \"data/passim/out_cluster/\"\n",
    "passim_logfile = \"data/log/passim.log\""
   ]
  },
  {
   "cell_type": "code",
   "execution_count": 162,
   "metadata": {},
   "outputs": [],
   "source": [
    "!rm -r {passim_output_path}"
   ]
  },
  {
   "cell_type": "code",
   "execution_count": 124,
   "metadata": {},
   "outputs": [
    {
     "name": "stdout",
     "output_type": "stream",
     "text": [
      "^C\n"
     ]
    }
   ],
   "source": [
    "# -a : Minimum length of alignment (default: 50)\n",
    "!seriatim -a 5 {passim_input_path} {passim_output_path} >& {passim_logfile}"
   ]
  },
  {
   "attachments": {},
   "cell_type": "markdown",
   "metadata": {},
   "source": [
    "## Read Passim's output"
   ]
  },
  {
   "cell_type": "code",
   "execution_count": 120,
   "metadata": {},
   "outputs": [],
   "source": [
    "import glob, itertools\n",
    "import pandas as pd\n",
    "\n",
    "# Read one JSON record per line\n",
    "def read_jsonl_file(f):\n",
    "  res = []\n",
    "  for line in f:\n",
    "    res.append(json.loads(line))\n",
    "  return res\n",
    "\n",
    "def read_jsonl(d):\n",
    "  return list(itertools.chain.from_iterable([read_jsonl_file(open(f)) for f in glob.glob(d + '/*.json')]))"
   ]
  },
  {
   "cell_type": "code",
   "execution_count": 121,
   "metadata": {},
   "outputs": [],
   "source": [
    "output_path = 'out_cluster/out.json/'\n",
    "tr_clusters = pd.DataFrame(read_jsonl(output_path))"
   ]
  },
  {
   "cell_type": "code",
   "execution_count": 122,
   "metadata": {},
   "outputs": [
    {
     "name": "stdout",
     "output_type": "stream",
     "text": [
      "There are 10 text reuse clusters in out_cluster/out.json/\n"
     ]
    }
   ],
   "source": [
    "print(f'There are {tr_clusters.cluster.unique().size} text reuse clusters in {output_path}')"
   ]
  },
  {
   "cell_type": "code",
   "execution_count": 123,
   "metadata": {},
   "outputs": [
    {
     "data": {
      "text/html": [
       "<div>\n",
       "<style scoped>\n",
       "    .dataframe tbody tr th:only-of-type {\n",
       "        vertical-align: middle;\n",
       "    }\n",
       "\n",
       "    .dataframe tbody tr th {\n",
       "        vertical-align: top;\n",
       "    }\n",
       "\n",
       "    .dataframe thead th {\n",
       "        text-align: right;\n",
       "    }\n",
       "</style>\n",
       "<table border=\"1\" class=\"dataframe\">\n",
       "  <thead>\n",
       "    <tr style=\"text-align: right;\">\n",
       "      <th></th>\n",
       "      <th>uid</th>\n",
       "      <th>cluster</th>\n",
       "      <th>begin</th>\n",
       "      <th>end</th>\n",
       "      <th>boiler</th>\n",
       "      <th>src</th>\n",
       "      <th>size</th>\n",
       "      <th>pboiler</th>\n",
       "      <th>dices_tags</th>\n",
       "      <th>group</th>\n",
       "      <th>id</th>\n",
       "      <th>label</th>\n",
       "      <th>passage_urn</th>\n",
       "      <th>text</th>\n",
       "    </tr>\n",
       "  </thead>\n",
       "  <tbody>\n",
       "    <tr>\n",
       "      <th>0</th>\n",
       "      <td>1158869053340225277</td>\n",
       "      <td>1</td>\n",
       "      <td>176</td>\n",
       "      <td>261</td>\n",
       "      <td>False</td>\n",
       "      <td>[{'uid': -2005171627764057613, 'begin': 147, '...</td>\n",
       "      <td>4</td>\n",
       "      <td>0.0</td>\n",
       "      <td>pra | req</td>\n",
       "      <td>speeches</td>\n",
       "      <td>speech_107</td>\n",
       "      <td>Homer, Odyssey 9.528-9.535</td>\n",
       "      <td>urn:cts:greekLit:tlg0012.tlg002.perseus-grc2:9...</td>\n",
       "      <td>οἱ μοῖρʼ ἐστὶ φίλους τʼ ἰδέειν καὶ ἱκέσθαι οἶ...</td>\n",
       "    </tr>\n",
       "    <tr>\n",
       "      <th>1</th>\n",
       "      <td>-2005171627764057613</td>\n",
       "      <td>1</td>\n",
       "      <td>142</td>\n",
       "      <td>225</td>\n",
       "      <td>False</td>\n",
       "      <td>[]</td>\n",
       "      <td>4</td>\n",
       "      <td>0.0</td>\n",
       "      <td>res | ins</td>\n",
       "      <td>speeches</td>\n",
       "      <td>speech_78</td>\n",
       "      <td>Homer, Odyssey 4.472-4.480</td>\n",
       "      <td>urn:cts:greekLit:tlg0012.tlg002.perseus-grc2:4...</td>\n",
       "      <td>ι πρὶν μοῖρα φίλους τʼ ἰδέειν καὶ ἱκέσθαι οἶκο...</td>\n",
       "    </tr>\n",
       "  </tbody>\n",
       "</table>\n",
       "</div>"
      ],
      "text/plain": [
       "                   uid  cluster  begin  end  boiler   \n",
       "0  1158869053340225277        1    176  261   False  \\\n",
       "1 -2005171627764057613        1    142  225   False   \n",
       "\n",
       "                                                 src  size  pboiler   \n",
       "0  [{'uid': -2005171627764057613, 'begin': 147, '...     4      0.0  \\\n",
       "1                                                 []     4      0.0   \n",
       "\n",
       "  dices_tags     group          id                       label   \n",
       "0  pra | req  speeches  speech_107  Homer, Odyssey 9.528-9.535  \\\n",
       "1  res | ins  speeches   speech_78  Homer, Odyssey 4.472-4.480   \n",
       "\n",
       "                                         passage_urn   \n",
       "0  urn:cts:greekLit:tlg0012.tlg002.perseus-grc2:9...  \\\n",
       "1  urn:cts:greekLit:tlg0012.tlg002.perseus-grc2:4...   \n",
       "\n",
       "                                                text  \n",
       "0   οἱ μοῖρʼ ἐστὶ φίλους τʼ ἰδέειν καὶ ἱκέσθαι οἶ...  \n",
       "1  ι πρὶν μοῖρα φίλους τʼ ἰδέειν καὶ ἱκέσθαι οἶκο...  "
      ]
     },
     "execution_count": 123,
     "metadata": {},
     "output_type": "execute_result"
    }
   ],
   "source": [
    "tr_clusters[:2]"
   ]
  },
  {
   "cell_type": "code",
   "execution_count": 98,
   "metadata": {},
   "outputs": [],
   "source": [
    "columns_to_keep = ['cluster', 'id', 'label', 'dices_tags', 'text']\n",
    "df = tr_clusters[columns_to_keep]"
   ]
  },
  {
   "cell_type": "code",
   "execution_count": 104,
   "metadata": {},
   "outputs": [],
   "source": [
    "df.to_csv('passim_clusters.csv')"
   ]
  }
 ],
 "metadata": {
  "kernelspec": {
   "display_name": "dices-repetitions",
   "language": "python",
   "name": "python3"
  },
  "language_info": {
   "codemirror_mode": {
    "name": "ipython",
    "version": 3
   },
   "file_extension": ".py",
   "mimetype": "text/x-python",
   "name": "python",
   "nbconvert_exporter": "python",
   "pygments_lexer": "ipython3",
   "version": "3.10.0"
  },
  "orig_nbformat": 4
 },
 "nbformat": 4,
 "nbformat_minor": 2
}
