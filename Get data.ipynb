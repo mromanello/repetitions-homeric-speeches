{
 "cells": [
  {
   "attachments": {},
   "cell_type": "markdown",
   "metadata": {},
   "source": [
    "# Repetitions in Homeric speeches: get data\n",
    "\n",
    "The DICES search interface is found at: http://dices.ub.uni-rostock.de/app/speeches/search/ \n",
    "\n",
    "## TODO\n",
    "\n",
    "- ✅ get all speeches for Od. and Il. from Dices API\n",
    "- ✅ filter speeches for relevant tags (giuramenti, istruzioni, preghiere)\n",
    "- ✅ create an initial dataframe with relevant data\n",
    "- ✅ add text fetched from Perseus via CTS URN\n",
    "- (optional for now) add lemmatised version of text via Pirra\n",
    "- ✅ save data to JSON lines format suitable for processing with passim"
   ]
  },
  {
   "attachments": {},
   "cell_type": "markdown",
   "metadata": {},
   "source": [
    "## Dices tags\n",
    "\n",
    "| Dices tag      | Expansion |\n",
    "| ----------- | ----------- |\n",
    "| cha         | Challenge |\n",
    "| com | Command |\n",
    "| con | Consolation|\n",
    "| del | Deliberation|\n",
    "| des | Desire and Wish|\n",
    "| exh | Exhortation and Self-Exhortation|\n",
    "| far | Farewell|\n",
    "| gre | Greeting and Reception|\n",
    "| inf | Information and Description|\n",
    "| ins | Instruction|\n",
    "| inv | Invitation |\n",
    "| lam | Lament |\n",
    "| lau | Praise and Laudation |\n",
    "| mes | Message|\n",
    "| nar | Narration|\n",
    "| ora | Prophecy, Oracular Speech, and Interpretation|\n",
    "| per | Persuasion|\n",
    "| pra | Prayer|\n",
    "| que | Question|\n",
    "| req | Request|\n",
    "| res | Reply to Question|\n",
    "| tau | Taunt|\n",
    "| thr | Threat|\n",
    "| und | Undefined|\n",
    "| vit | Vituperation|\n",
    "| vow | Promise and Oath|\n",
    "| war | Warning|"
   ]
  },
  {
   "attachments": {},
   "cell_type": "markdown",
   "metadata": {},
   "source": [
    "## Retrieving all Homeric speeches from Dices"
   ]
  },
  {
   "cell_type": "code",
   "execution_count": 1,
   "metadata": {},
   "outputs": [],
   "source": [
    "from dicesapi import DicesAPI\n",
    "import pandas as pd\n",
    "\n",
    "# create a connection to DICES\n",
    "api = DicesAPI(logfile='dices.log')"
   ]
  },
  {
   "cell_type": "code",
   "execution_count": 2,
   "metadata": {},
   "outputs": [
    {
     "name": "stdout",
     "output_type": "stream",
     "text": [
      "Got 673 speeches\n"
     ]
    }
   ],
   "source": [
    "od_speeches = api.getSpeeches(work_title='Odyssey', progress=True)\n",
    "print('Got', len(od_speeches), 'speeches')"
   ]
  },
  {
   "cell_type": "code",
   "execution_count": 3,
   "metadata": {},
   "outputs": [
    {
     "name": "stdout",
     "output_type": "stream",
     "text": [
      "Got 698 speeches\n"
     ]
    }
   ],
   "source": [
    "il_speeches = api.getSpeeches(work_title='Iliad', progress=True)\n",
    "print('Got', len(il_speeches), 'speeches')"
   ]
  },
  {
   "cell_type": "code",
   "execution_count": 4,
   "metadata": {},
   "outputs": [],
   "source": [
    "speeches = il_speeches + od_speeches"
   ]
  },
  {
   "cell_type": "code",
   "execution_count": 5,
   "metadata": {},
   "outputs": [
    {
     "data": {
      "text/plain": [
       "1371"
      ]
     },
     "execution_count": 5,
     "metadata": {},
     "output_type": "execute_result"
    }
   ],
   "source": [
    "len(speeches)"
   ]
  },
  {
   "attachments": {},
   "cell_type": "markdown",
   "metadata": {},
   "source": [
    "## Filter speeches"
   ]
  },
  {
   "cell_type": "code",
   "execution_count": 20,
   "metadata": {},
   "outputs": [
    {
     "name": "stdout",
     "output_type": "stream",
     "text": [
      "{'req', 'ora', 'per', 'gre', 'tau', 'lam', 'que', 'vow', 'pra', 'war', 'und', 'con', 'nar', 'inv', 'lau', 'exh', 'ins', 'mes', 'inf', 'res', 'thr', 'com', 'del', 'cha', 'far', 'des', 'vit'}\n"
     ]
    }
   ],
   "source": [
    "unique_tags = set()\n",
    "\n",
    "for speech in speeches:\n",
    "    for tag in speech._attributes['tags']:\n",
    "        unique_tags.add(tag['type'])\n",
    "\n",
    "print(unique_tags)"
   ]
  },
  {
   "attachments": {},
   "cell_type": "markdown",
   "metadata": {},
   "source": [
    "The `tag` information is contained in the `dicesapi.Speech` class, yet a bid hidden. "
   ]
  },
  {
   "cell_type": "code",
   "execution_count": 8,
   "metadata": {},
   "outputs": [],
   "source": [
    "def filter_speeches_by_tag(speeches_list, tags_to_keep):\n",
    "    filtered_speeches = []\n",
    "    for speech in speeches_list:\n",
    "        for tag in speech._attributes['tags']:\n",
    "            if tag['type'] in tags_to_keep:\n",
    "                filtered_speeches.append(speech)\n",
    "    return filtered_speeches"
   ]
  },
  {
   "cell_type": "code",
   "execution_count": 18,
   "metadata": {},
   "outputs": [],
   "source": [
    "speeches_subset = filter_speeches_by_tag(speeches, ['vow', 'ins', 'pra'])"
   ]
  },
  {
   "cell_type": "code",
   "execution_count": 19,
   "metadata": {},
   "outputs": [
    {
     "data": {
      "text/plain": [
       "123"
      ]
     },
     "execution_count": 19,
     "metadata": {},
     "output_type": "execute_result"
    }
   ],
   "source": [
    "len(speeches_subset)"
   ]
  },
  {
   "attachments": {},
   "cell_type": "markdown",
   "metadata": {},
   "source": [
    "## Fetch text of speeches from Perseus"
   ]
  },
  {
   "cell_type": "code",
   "execution_count": 26,
   "metadata": {},
   "outputs": [],
   "source": [
    "from dicesapi.text import CtsAPI\n",
    "cts = CtsAPI()"
   ]
  },
  {
   "cell_type": "code",
   "execution_count": 36,
   "metadata": {},
   "outputs": [],
   "source": [
    "for speech in speeches_subset:\n",
    "    text = cts.getPassage(speech)\n",
    "    speech.passage = text"
   ]
  },
  {
   "cell_type": "code",
   "execution_count": 37,
   "metadata": {},
   "outputs": [
    {
     "data": {
      "text/plain": [
       "[{'type': 'ins', 'doubt': False}, {'type': 'com', 'doubt': False}]"
      ]
     },
     "execution_count": 37,
     "metadata": {},
     "output_type": "execute_result"
    }
   ],
   "source": [
    "speeches_subset[0]._attributes['tags']"
   ]
  },
  {
   "cell_type": "code",
   "execution_count": 39,
   "metadata": {},
   "outputs": [
    {
     "data": {
      "text/plain": [
       "'ὦ γέρον αἰεί τοι μῦθοι φίλοι ἄκριτοί εἰσιν, ὥς ποτʼ ἐπʼ εἰρήνης· πόλεμος δʼ ἀλίαστος ὄρωρεν. ἤδη μὲν μάλα πολλὰ μάχας εἰσήλυθον ἀνδρῶν, ἀλλʼ οὔ πω τοιόνδε τοσόνδέ τε λαὸν ὄπωπα· λίην γὰρ φύλλοισιν ἐοικότες ἢ ψαμάθοισιν ἔρχονται πεδίοιο μαχησόμενοι προτὶ ἄστυ. Ἕκτορ σοὶ δὲ μάλιστʼ ἐπιτέλλομαι, ὧδε δὲ ῥέξαι· πολλοὶ γὰρ κατὰ ἄστυ μέγα Πριάμου ἐπίκουροι, ἄλλη δʼ ἄλλων γλῶσσα πολυσπερέων ἀνθρώπων· τοῖσιν ἕκαστος ἀνὴρ σημαινέτω οἷσί περ ἄρχει, τῶν δʼ ἐξηγείσθω κοσμησάμενος πολιήτας.'"
      ]
     },
     "execution_count": 39,
     "metadata": {},
     "output_type": "execute_result"
    }
   ],
   "source": [
    "speeches_subset[-1].passage.text"
   ]
  },
  {
   "cell_type": "code",
   "execution_count": 40,
   "metadata": {},
   "outputs": [
    {
     "data": {
      "text/plain": [
       "123"
      ]
     },
     "execution_count": 40,
     "metadata": {},
     "output_type": "execute_result"
    }
   ],
   "source": [
    "len(speeches_subset)"
   ]
  },
  {
   "attachments": {},
   "cell_type": "markdown",
   "metadata": {},
   "source": [
    "## Convert speeches to Passim format\n",
    "\n",
    "```json\n",
    "{\n",
    "    \"id\": \"...\",\n",
    "    \"group\": \"...\",\n",
    "    \"text\": \"...\",\n",
    "}"
   ]
  },
  {
   "cell_type": "code",
   "execution_count": 81,
   "metadata": {},
   "outputs": [],
   "source": [
    "docs = [\n",
    "    {\n",
    "        \"id\": f\"speech_{n+1}\",\n",
    "        \"group\": \"speeches\",\n",
    "        \"passage_urn\": speech.urn,\n",
    "        \"text\": speech.passage.text,\n",
    "        \"label\": f\"{speech.author.name}, {speech.work.title} {speech.urn.split(':')[-1]}\",\n",
    "        \"dices_tags\": \" | \".join([tag['type'] for tag in speech._attributes['tags']])\n",
    "    }\n",
    "    for n, speech in enumerate(speeches_subset)\n",
    "]"
   ]
  },
  {
   "cell_type": "code",
   "execution_count": 82,
   "metadata": {},
   "outputs": [
    {
     "data": {
      "text/plain": [
       "{'id': 'speech_1',\n",
       " 'group': 'speeches',\n",
       " 'passage_urn': 'urn:cts:greekLit:tlg0012.tlg001.perseus-grc2:16.492-16.502',\n",
       " 'text': 'Γλαῦκε πέπον πολεμιστὰ μετʼ ἀνδράσι νῦν σε μάλα χρὴ αἰχμητήν τʼ ἔμεναι καὶ θαρσαλέον πολεμιστήν· νῦν τοι ἐελδέσθω πόλεμος κακός, εἰ θοός ἐσσι. πρῶτα μὲν ὄτρυνον Λυκίων ἡγήτορας ἄνδρας πάντῃ ἐποιχόμενος Σαρπηδόνος ἀμφιμάχεσθαι· αὐτὰρ ἔπειτα καὶ αὐτὸς ἐμεῦ πέρι μάρναο χαλκῷ. σοὶ γὰρ ἐγὼ καὶ ἔπειτα κατηφείη καὶ ὄνειδος ἔσσομαι ἤματα πάντα διαμπερές, εἴ κέ μʼ Ἀχαιοὶ τεύχεα συλήσωσι νεῶν ἐν ἀγῶνι πεσόντα. ἀλλʼ ἔχεο κρατερῶς, ὄτρυνε δὲ λαὸν ἅπαντα. ὣς ἄρα μιν εἰπόντα τέλος θανάτοιο κάλυψεν',\n",
       " 'label': 'Homer, Iliad 16.492-16.502',\n",
       " 'dices_tags': 'ins | com'}"
      ]
     },
     "execution_count": 82,
     "metadata": {},
     "output_type": "execute_result"
    }
   ],
   "source": [
    "docs[0]"
   ]
  },
  {
   "cell_type": "code",
   "execution_count": 83,
   "metadata": {},
   "outputs": [],
   "source": [
    "import json\n",
    "with open('in.json', 'w', encoding='utf-8') as f:\n",
    "  for d in docs:\n",
    "    print(json.dumps(d, ensure_ascii=False), file=f)"
   ]
  },
  {
   "attachments": {},
   "cell_type": "markdown",
   "metadata": {},
   "source": [
    "## Run Passim"
   ]
  },
  {
   "cell_type": "code",
   "execution_count": 124,
   "metadata": {},
   "outputs": [
    {
     "name": "stdout",
     "output_type": "stream",
     "text": [
      "^C\n"
     ]
    }
   ],
   "source": [
    "# -a : Minimum length of alignment (default: 50)\n",
    "!seriatim -a 5 in.json out_cluster >& out_cluster.err"
   ]
  },
  {
   "attachments": {},
   "cell_type": "markdown",
   "metadata": {},
   "source": [
    "## Read Passim's output"
   ]
  },
  {
   "cell_type": "code",
   "execution_count": 120,
   "metadata": {},
   "outputs": [],
   "source": [
    "import glob, itertools\n",
    "import pandas as pd\n",
    "\n",
    "# Read one JSON record per line\n",
    "def read_jsonl_file(f):\n",
    "  res = []\n",
    "  for line in f:\n",
    "    res.append(json.loads(line))\n",
    "  return res\n",
    "\n",
    "def read_jsonl(d):\n",
    "  return list(itertools.chain.from_iterable([read_jsonl_file(open(f)) for f in glob.glob(d + '/*.json')]))"
   ]
  },
  {
   "cell_type": "code",
   "execution_count": 121,
   "metadata": {},
   "outputs": [],
   "source": [
    "output_path = 'out_cluster/out.json/'\n",
    "tr_clusters = pd.DataFrame(read_jsonl(output_path))"
   ]
  },
  {
   "cell_type": "code",
   "execution_count": 122,
   "metadata": {},
   "outputs": [
    {
     "name": "stdout",
     "output_type": "stream",
     "text": [
      "There are 10 text reuse clusters in out_cluster/out.json/\n"
     ]
    }
   ],
   "source": [
    "print(f'There are {tr_clusters.cluster.unique().size} text reuse clusters in {output_path}')"
   ]
  },
  {
   "cell_type": "code",
   "execution_count": 123,
   "metadata": {},
   "outputs": [
    {
     "data": {
      "text/html": [
       "<div>\n",
       "<style scoped>\n",
       "    .dataframe tbody tr th:only-of-type {\n",
       "        vertical-align: middle;\n",
       "    }\n",
       "\n",
       "    .dataframe tbody tr th {\n",
       "        vertical-align: top;\n",
       "    }\n",
       "\n",
       "    .dataframe thead th {\n",
       "        text-align: right;\n",
       "    }\n",
       "</style>\n",
       "<table border=\"1\" class=\"dataframe\">\n",
       "  <thead>\n",
       "    <tr style=\"text-align: right;\">\n",
       "      <th></th>\n",
       "      <th>uid</th>\n",
       "      <th>cluster</th>\n",
       "      <th>begin</th>\n",
       "      <th>end</th>\n",
       "      <th>boiler</th>\n",
       "      <th>src</th>\n",
       "      <th>size</th>\n",
       "      <th>pboiler</th>\n",
       "      <th>dices_tags</th>\n",
       "      <th>group</th>\n",
       "      <th>id</th>\n",
       "      <th>label</th>\n",
       "      <th>passage_urn</th>\n",
       "      <th>text</th>\n",
       "    </tr>\n",
       "  </thead>\n",
       "  <tbody>\n",
       "    <tr>\n",
       "      <th>0</th>\n",
       "      <td>1158869053340225277</td>\n",
       "      <td>1</td>\n",
       "      <td>176</td>\n",
       "      <td>261</td>\n",
       "      <td>False</td>\n",
       "      <td>[{'uid': -2005171627764057613, 'begin': 147, '...</td>\n",
       "      <td>4</td>\n",
       "      <td>0.0</td>\n",
       "      <td>pra | req</td>\n",
       "      <td>speeches</td>\n",
       "      <td>speech_107</td>\n",
       "      <td>Homer, Odyssey 9.528-9.535</td>\n",
       "      <td>urn:cts:greekLit:tlg0012.tlg002.perseus-grc2:9...</td>\n",
       "      <td>οἱ μοῖρʼ ἐστὶ φίλους τʼ ἰδέειν καὶ ἱκέσθαι οἶ...</td>\n",
       "    </tr>\n",
       "    <tr>\n",
       "      <th>1</th>\n",
       "      <td>-2005171627764057613</td>\n",
       "      <td>1</td>\n",
       "      <td>142</td>\n",
       "      <td>225</td>\n",
       "      <td>False</td>\n",
       "      <td>[]</td>\n",
       "      <td>4</td>\n",
       "      <td>0.0</td>\n",
       "      <td>res | ins</td>\n",
       "      <td>speeches</td>\n",
       "      <td>speech_78</td>\n",
       "      <td>Homer, Odyssey 4.472-4.480</td>\n",
       "      <td>urn:cts:greekLit:tlg0012.tlg002.perseus-grc2:4...</td>\n",
       "      <td>ι πρὶν μοῖρα φίλους τʼ ἰδέειν καὶ ἱκέσθαι οἶκο...</td>\n",
       "    </tr>\n",
       "  </tbody>\n",
       "</table>\n",
       "</div>"
      ],
      "text/plain": [
       "                   uid  cluster  begin  end  boiler   \n",
       "0  1158869053340225277        1    176  261   False  \\\n",
       "1 -2005171627764057613        1    142  225   False   \n",
       "\n",
       "                                                 src  size  pboiler   \n",
       "0  [{'uid': -2005171627764057613, 'begin': 147, '...     4      0.0  \\\n",
       "1                                                 []     4      0.0   \n",
       "\n",
       "  dices_tags     group          id                       label   \n",
       "0  pra | req  speeches  speech_107  Homer, Odyssey 9.528-9.535  \\\n",
       "1  res | ins  speeches   speech_78  Homer, Odyssey 4.472-4.480   \n",
       "\n",
       "                                         passage_urn   \n",
       "0  urn:cts:greekLit:tlg0012.tlg002.perseus-grc2:9...  \\\n",
       "1  urn:cts:greekLit:tlg0012.tlg002.perseus-grc2:4...   \n",
       "\n",
       "                                                text  \n",
       "0   οἱ μοῖρʼ ἐστὶ φίλους τʼ ἰδέειν καὶ ἱκέσθαι οἶ...  \n",
       "1  ι πρὶν μοῖρα φίλους τʼ ἰδέειν καὶ ἱκέσθαι οἶκο...  "
      ]
     },
     "execution_count": 123,
     "metadata": {},
     "output_type": "execute_result"
    }
   ],
   "source": [
    "tr_clusters[:2]"
   ]
  },
  {
   "cell_type": "code",
   "execution_count": 98,
   "metadata": {},
   "outputs": [],
   "source": [
    "columns_to_keep = ['cluster', 'id', 'label', 'dices_tags', 'text']\n",
    "df = tr_clusters[columns_to_keep]"
   ]
  },
  {
   "cell_type": "code",
   "execution_count": 104,
   "metadata": {},
   "outputs": [],
   "source": [
    "df.to_csv('passim_clusters.csv')"
   ]
  }
 ],
 "metadata": {
  "kernelspec": {
   "display_name": "dices-repetitions",
   "language": "python",
   "name": "python3"
  },
  "language_info": {
   "codemirror_mode": {
    "name": "ipython",
    "version": 3
   },
   "file_extension": ".py",
   "mimetype": "text/x-python",
   "name": "python",
   "nbconvert_exporter": "python",
   "pygments_lexer": "ipython3",
   "version": "3.10.0"
  },
  "orig_nbformat": 4
 },
 "nbformat": 4,
 "nbformat_minor": 2
}
